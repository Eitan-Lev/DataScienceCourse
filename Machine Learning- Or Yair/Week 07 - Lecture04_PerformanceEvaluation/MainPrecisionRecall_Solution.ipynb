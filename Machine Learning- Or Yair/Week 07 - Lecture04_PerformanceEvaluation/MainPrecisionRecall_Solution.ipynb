{
 "cells": [
  {
   "cell_type": "markdown",
   "metadata": {},
   "source": [
    "![Fixel Algorithms](https://fixelalgorithms.co/images/CCExt.png)"
   ]
  },
  {
   "cell_type": "markdown",
   "metadata": {},
   "source": [
    "# <center> Machine Learning Methods </center>\n",
    "## <center> Lecture 4 - Performance Evaluation </center>\n",
    "### <center> Precision, Recall, ROC, and AUC - Solution </center>"
   ]
  },
  {
   "cell_type": "markdown",
   "metadata": {},
   "source": [
    "[![Open In Colab](https://colab.research.google.com/assets/colab-badge.svg)](https://colab.research.google.com/github/FixelAlgorithmsTeam/FixelCourses/blob/master/MachineLearningMethod/04_PerformanceEvaluation/MainPrecisionRecall_Solution.ipynb)"
   ]
  },
  {
   "cell_type": "code",
   "execution_count": 1,
   "metadata": {},
   "outputs": [],
   "source": [
    "import numpy             as np\n",
    "import matplotlib.pyplot as plt\n",
    "import matplotlib\n",
    "\n",
    "matplotlib.rc('font', **{'size':16})\n",
    "# np.random.seed(1)"
   ]
  },
  {
   "cell_type": "code",
   "execution_count": 2,
   "metadata": {},
   "outputs": [],
   "source": [
    "#-- For colab users:\n",
    "# !pip install scikit-learn -U"
   ]
  },
  {
   "cell_type": "markdown",
   "metadata": {},
   "source": [
    "### Exercise\n",
    "1.\n",
    "* Use the breast cancer dataset: `load_breast_cancer`.\n",
    "* Use a linear SVM classifier.\n",
    "* Use cross-validation to find the optimal value of $C$ which maximizes the AUC. \n",
    "    * use the `cross_val_score` with `scoring='roc_auc'`.\n",
    "    \n",
    "2.\n",
    "* Split the data into 80% train and 20% validation.\n",
    "    * You may use `sklearn.model_selection.train_test_split`\n",
    "* Retrain your classifier on the train set (with the optimal hyper-parameters).\n",
    "* Plot the ROC (and AUC) on the validation set."
   ]
  },
  {
   "cell_type": "code",
   "execution_count": 3,
   "metadata": {},
   "outputs": [],
   "source": [
    "from sklearn.svm      import SVC\n",
    "from sklearn.metrics  import roc_curve, auc\n",
    "from sklearn.datasets import load_breast_cancer\n",
    "\n",
    "dData = load_breast_cancer()\n",
    "mX    = dData.data\n",
    "vY    = dData.target\n",
    "\n",
    "#-- Normalize data:\n",
    "mX    = mX - np.mean(mX, axis=0)\n",
    "mX    = mX / np.std (mX, axis=0)\n",
    "\n",
    "vY[vY == 0] = -1"
   ]
  },
  {
   "cell_type": "code",
   "execution_count": 4,
   "metadata": {},
   "outputs": [
    {
     "data": {
      "text/html": [
       "<div>\n",
       "<style scoped>\n",
       "    .dataframe tbody tr th:only-of-type {\n",
       "        vertical-align: middle;\n",
       "    }\n",
       "\n",
       "    .dataframe tbody tr th {\n",
       "        vertical-align: top;\n",
       "    }\n",
       "\n",
       "    .dataframe thead th {\n",
       "        text-align: right;\n",
       "    }\n",
       "</style>\n",
       "<table border=\"1\" class=\"dataframe\">\n",
       "  <thead>\n",
       "    <tr style=\"text-align: right;\">\n",
       "      <th></th>\n",
       "      <th>C</th>\n",
       "      <th>AUC</th>\n",
       "    </tr>\n",
       "  </thead>\n",
       "  <tbody>\n",
       "    <tr>\n",
       "      <th>8</th>\n",
       "      <td>3.334000</td>\n",
       "      <td>0.994902</td>\n",
       "    </tr>\n",
       "    <tr>\n",
       "      <th>7</th>\n",
       "      <td>2.917375</td>\n",
       "      <td>0.994638</td>\n",
       "    </tr>\n",
       "    <tr>\n",
       "      <th>4</th>\n",
       "      <td>1.667500</td>\n",
       "      <td>0.994046</td>\n",
       "    </tr>\n",
       "    <tr>\n",
       "      <th>11</th>\n",
       "      <td>4.583875</td>\n",
       "      <td>0.993925</td>\n",
       "    </tr>\n",
       "    <tr>\n",
       "      <th>1</th>\n",
       "      <td>0.417625</td>\n",
       "      <td>0.993860</td>\n",
       "    </tr>\n",
       "    <tr>\n",
       "      <th>16</th>\n",
       "      <td>6.667000</td>\n",
       "      <td>0.993825</td>\n",
       "    </tr>\n",
       "    <tr>\n",
       "      <th>5</th>\n",
       "      <td>2.084125</td>\n",
       "      <td>0.993782</td>\n",
       "    </tr>\n",
       "    <tr>\n",
       "      <th>20</th>\n",
       "      <td>8.333500</td>\n",
       "      <td>0.993771</td>\n",
       "    </tr>\n",
       "    <tr>\n",
       "      <th>9</th>\n",
       "      <td>3.750625</td>\n",
       "      <td>0.993765</td>\n",
       "    </tr>\n",
       "    <tr>\n",
       "      <th>10</th>\n",
       "      <td>4.167250</td>\n",
       "      <td>0.993702</td>\n",
       "    </tr>\n",
       "    <tr>\n",
       "      <th>0</th>\n",
       "      <td>0.001000</td>\n",
       "      <td>0.993536</td>\n",
       "    </tr>\n",
       "    <tr>\n",
       "      <th>6</th>\n",
       "      <td>2.500750</td>\n",
       "      <td>0.993322</td>\n",
       "    </tr>\n",
       "    <tr>\n",
       "      <th>19</th>\n",
       "      <td>7.916875</td>\n",
       "      <td>0.993109</td>\n",
       "    </tr>\n",
       "    <tr>\n",
       "      <th>17</th>\n",
       "      <td>7.083625</td>\n",
       "      <td>0.993107</td>\n",
       "    </tr>\n",
       "    <tr>\n",
       "      <th>2</th>\n",
       "      <td>0.834250</td>\n",
       "      <td>0.993083</td>\n",
       "    </tr>\n",
       "    <tr>\n",
       "      <th>12</th>\n",
       "      <td>5.000500</td>\n",
       "      <td>0.992891</td>\n",
       "    </tr>\n",
       "    <tr>\n",
       "      <th>14</th>\n",
       "      <td>5.833750</td>\n",
       "      <td>0.992478</td>\n",
       "    </tr>\n",
       "    <tr>\n",
       "      <th>3</th>\n",
       "      <td>1.250875</td>\n",
       "      <td>0.992352</td>\n",
       "    </tr>\n",
       "    <tr>\n",
       "      <th>13</th>\n",
       "      <td>5.417125</td>\n",
       "      <td>0.992161</td>\n",
       "    </tr>\n",
       "    <tr>\n",
       "      <th>15</th>\n",
       "      <td>6.250375</td>\n",
       "      <td>0.991919</td>\n",
       "    </tr>\n",
       "    <tr>\n",
       "      <th>23</th>\n",
       "      <td>9.583375</td>\n",
       "      <td>0.991552</td>\n",
       "    </tr>\n",
       "    <tr>\n",
       "      <th>18</th>\n",
       "      <td>7.500250</td>\n",
       "      <td>0.991102</td>\n",
       "    </tr>\n",
       "    <tr>\n",
       "      <th>24</th>\n",
       "      <td>10.000000</td>\n",
       "      <td>0.990692</td>\n",
       "    </tr>\n",
       "    <tr>\n",
       "      <th>21</th>\n",
       "      <td>8.750125</td>\n",
       "      <td>0.990174</td>\n",
       "    </tr>\n",
       "    <tr>\n",
       "      <th>22</th>\n",
       "      <td>9.166750</td>\n",
       "      <td>0.989894</td>\n",
       "    </tr>\n",
       "  </tbody>\n",
       "</table>\n",
       "</div>"
      ],
      "text/plain": [
       "            C       AUC\n",
       "8    3.334000  0.994902\n",
       "7    2.917375  0.994638\n",
       "4    1.667500  0.994046\n",
       "11   4.583875  0.993925\n",
       "1    0.417625  0.993860\n",
       "16   6.667000  0.993825\n",
       "5    2.084125  0.993782\n",
       "20   8.333500  0.993771\n",
       "9    3.750625  0.993765\n",
       "10   4.167250  0.993702\n",
       "0    0.001000  0.993536\n",
       "6    2.500750  0.993322\n",
       "19   7.916875  0.993109\n",
       "17   7.083625  0.993107\n",
       "2    0.834250  0.993083\n",
       "12   5.000500  0.992891\n",
       "14   5.833750  0.992478\n",
       "3    1.250875  0.992352\n",
       "13   5.417125  0.992161\n",
       "15   6.250375  0.991919\n",
       "23   9.583375  0.991552\n",
       "18   7.500250  0.991102\n",
       "24  10.000000  0.990692\n",
       "21   8.750125  0.990174\n",
       "22   9.166750  0.989894"
      ]
     },
     "execution_count": 4,
     "metadata": {},
     "output_type": "execute_result"
    }
   ],
   "source": [
    "import pandas as pd\n",
    "from   sklearn.model_selection import cross_val_score, KFold\n",
    "\n",
    "dRes = pd.DataFrame(columns=['C', 'AUC'])\n",
    "\n",
    "for C in np.linspace(1e-3, 10, 25):\n",
    "    vAUC                = cross_val_score(SVC(C=C, kernel='linear'), mX, vY, cv=KFold(20, shuffle=True), scoring='roc_auc')\n",
    "    dRes.loc[len(dRes)] = [C, vAUC.mean()]\n",
    "\n",
    "dRes.sort_values(by='AUC', ascending=False)"
   ]
  },
  {
   "cell_type": "code",
   "execution_count": 5,
   "metadata": {},
   "outputs": [],
   "source": [
    "from sklearn.model_selection import train_test_split\n",
    "\n",
    "mTrainX, mTestX, vTrainY, vTestY = train_test_split(mX, vY, test_size=0.2)"
   ]
  },
  {
   "cell_type": "code",
   "execution_count": 6,
   "metadata": {},
   "outputs": [],
   "source": [
    "#-- Best SVM:\n",
    "oSVM = SVC(C=1.25, kernel='linear').fit(mTrainX, vTrainY)"
   ]
  },
  {
   "cell_type": "code",
   "execution_count": 7,
   "metadata": {},
   "outputs": [],
   "source": [
    "vScore       = oSVM.decision_function(mTestX)\n",
    "vFP, vTP, _  = roc_curve(vTestY, vScore, pos_label=1)\n",
    "AUC          = auc(vFP, vTP)"
   ]
  },
  {
   "cell_type": "code",
   "execution_count": 8,
   "metadata": {},
   "outputs": [
    {
     "data": {
      "image/png": "[encoded data removed]",
      "text/plain": [
       "<Figure size 576x432 with 1 Axes>"
      ]
     },
     "metadata": {
      "needs_background": "light"
     },
     "output_type": "display_data"
    }
   ],
   "source": [
    "plt.figure(figsize=(8, 6))\n",
    "plt.plot  (vFP,    vTP,    color='b', lw=2, label=f'ROC curve, AUC = {AUC:.3f}')\n",
    "plt.plot  ([0, 1], [0, 1], color='k', lw=2, linestyle='--')\n",
    "plt.xlabel('False Positive Rate')\n",
    "plt.ylabel('True Positive Rate')\n",
    "plt.title ('ROC')\n",
    "plt.axis  ('equal')\n",
    "plt.legend()\n",
    "plt.grid  ()\n",
    "plt.show  ()"
   ]
  },
  {
   "cell_type": "markdown",
   "metadata": {},
   "source": [
    "### Extra:\n",
    "Implement your own `ComputeAUC` function.  \n",
    "* The input is the ROC curve as obtained by the `roc_curve` funcdtion.\n",
    "* Make sure the output matches the `auc` function.\n",
    "* Should take between 1-3 lines of code\n",
    "\n",
    "**Note:** The AUC can also be directly computed using `sklearn.metrics.roc_auc_score`."
   ]
  },
  {
   "cell_type": "code",
   "execution_count": 9,
   "metadata": {},
   "outputs": [],
   "source": [
    "def ComputeAUC(vFP, vTP):\n",
    "    return np.sum( np.diff(vFP) * 1/2 * (vTP[1:] + vTP[:-1]) )"
   ]
  },
  {
   "cell_type": "code",
   "execution_count": 10,
   "metadata": {},
   "outputs": [
    {
     "data": {
      "text/plain": [
       "0.0"
      ]
     },
     "execution_count": 10,
     "metadata": {},
     "output_type": "execute_result"
    }
   ],
   "source": [
    "error = ComputeAUC(vFP, vTP) - auc(vFP, vTP)\n",
    "error"
   ]
  },
  {
   "cell_type": "code",
   "execution_count": null,
   "metadata": {},
   "outputs": [],
   "source": []
  }
 ],
 "metadata": {
  "kernelspec": {
   "display_name": "Python 3",
   "language": "python",
   "name": "python3"
  },
  "language_info": {
   "codemirror_mode": {
    "name": "ipython",
    "version": 3
   },
   "file_extension": ".py",
   "mimetype": "text/x-python",
   "name": "python",
   "nbconvert_exporter": "python",
   "pygments_lexer": "ipython3",
   "version": "3.8.8"
  },
  "toc": {
   "base_numbering": 1,
   "nav_menu": {},
   "number_sections": false,
   "sideBar": true,
   "skip_h1_title": false,
   "title_cell": "Table of Contents",
   "title_sidebar": "Contents",
   "toc_cell": false,
   "toc_position": {},
   "toc_section_display": true,
   "toc_window_display": false
  },
  "varInspector": {
   "cols": {
    "lenName": 16,
    "lenType": 16,
    "lenVar": 40
   },
   "kernels_config": {
    "python": {
     "delete_cmd_postfix": "",
     "delete_cmd_prefix": "del ",
     "library": "var_list.py",
     "varRefreshCmd": "print(var_dic_list())"
    },
    "r": {
     "delete_cmd_postfix": ") ",
     "delete_cmd_prefix": "rm(",
     "library": "var_list.r",
     "varRefreshCmd": "cat(var_dic_list()) "
    }
   },
   "types_to_exclude": [
    "module",
    "function",
    "builtin_function_or_method",
    "instance",
    "_Feature"
   ],
   "window_display": false
  }
 },
 "nbformat": 4,
 "nbformat_minor": 4
}
