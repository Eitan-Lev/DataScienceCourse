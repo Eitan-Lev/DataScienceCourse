{
 "cells": [
  {
   "cell_type": "markdown",
   "metadata": {},
   "source": [
    "![Fixel Algorithms](https://fixelalgorithms.co/images/CCExt.png)"
   ]
  },
  {
   "cell_type": "markdown",
   "metadata": {},
   "source": [
    "# <center> Machine Learning Methods </center>\n",
    "## <center> Lecture 3 - Discriminative Classification </center>\n",
    "### <center> Linear classifier</center>"
   ]
  },
  {
   "cell_type": "markdown",
   "metadata": {},
   "source": [
    "[![Open In Colab](https://colab.research.google.com/assets/colab-badge.svg)](https://colab.research.google.com/github/FixelAlgorithmsTeam/FixelCourses/blob/master/MachineLearningMethod/03_DiscriminativeClassfication/MainLinearClassifier.ipynb)"
   ]
  },
  {
   "cell_type": "code",
   "execution_count": 1,
   "metadata": {},
   "outputs": [],
   "source": [
    "import numpy             as np\n",
    "import matplotlib.pyplot as plt\n",
    "import matplotlib\n",
    "\n",
    "matplotlib.rc('font', **{'size':16})\n",
    "np.random.seed(1)"
   ]
  },
  {
   "cell_type": "markdown",
   "metadata": {},
   "source": [
    "### Generate random data:"
   ]
  },
  {
   "cell_type": "code",
   "execution_count": 2,
   "metadata": {},
   "outputs": [
    {
     "data": {
      "text/plain": [
       "(2, 500)"
      ]
     },
     "execution_count": 2,
     "metadata": {},
     "output_type": "execute_result"
    }
   ],
   "source": [
    "N  = 500\n",
    "mX = 4 * (np.random.rand(2, N) - 1/2)\n",
    "mX.shape"
   ]
  },
  {
   "cell_type": "markdown",
   "metadata": {},
   "source": [
    "### Plot linear classifier:\n",
    "$$f\\left(\\boldsymbol{w}\\right)=\\mathrm{sign}\\left(\\boldsymbol{w}^{T}\\boldsymbol{x}-b\\right)$$"
   ]
  },
  {
   "cell_type": "code",
   "execution_count": 3,
   "metadata": {},
   "outputs": [],
   "source": [
    "def PlotClassifier(θ, b):\n",
    "    vW    = np.array([np.cos(θ), np.sin(θ)])\n",
    "    vIdx1 = (vW @ mX - b) > 0\n",
    "\n",
    "    v = np.array([-2, 2])\n",
    "    plt.figure (figsize=(8, 8)),\n",
    "    plt.grid   (True)\n",
    "    plt.scatter(mX[0,vIdx1],  mX[1,vIdx1],  color='r',      s=100, edgecolor='k')\n",
    "    plt.scatter(mX[0,~vIdx1], mX[1,~vIdx1], color='b',      s=100, edgecolor='k')\n",
    "    plt.plot   (v, (b - vW[0] * v) / vW[1], color='k',      lw=2)\n",
    "    plt.arrow  (0, 0, vW[0], vW[1],         color='orange', width=.05)\n",
    "    plt.axvline(x=0,                        color='k')\n",
    "    plt.axhline(y=0,                        color='k')\n",
    "    plt.axis   ([-2, 2, -2, 2])\n",
    "    plt.title  (r'$f_{{w},b}\\left({x}\\right)={sign}\\left({w}^{T}{x}-b\\right)$')\n",
    "    plt.xlabel ('$x_1$')\n",
    "    plt.ylabel ('$x_2$')"
   ]
  },
  {
   "cell_type": "code",
   "execution_count": 4,
   "metadata": {},
   "outputs": [
    {
     "data": {
      "application/vnd.jupyter.widget-view+json": {
       "model_id": "c71f2116f4e5488981f16785f00f7e00",
       "version_major": 2,
       "version_minor": 0
      },
      "text/plain": [
       "interactive(children=(FloatSlider(value=0.7853981633974483, description='θ', layout=Layout(width='80%'), max=6…"
      ]
     },
     "metadata": {},
     "output_type": "display_data"
    }
   ],
   "source": [
    "from ipywidgets import interact, FloatSlider, Layout\n",
    "\n",
    "θSlider = FloatSlider(min=0,    max=2*np.pi, step=2*np.pi/100, value=np.pi/4, layout=Layout(width='80%'))\n",
    "bSlider = FloatSlider(min=-2.5, max=2.5,     step=0.2,         value=0,       layout=Layout(width='80%'))\n",
    "interact(PlotClassifier, θ=θSlider, b=bSlider)\n",
    "plt.show()"
   ]
  },
  {
   "cell_type": "code",
   "execution_count": null,
   "metadata": {},
   "outputs": [],
   "source": []
  }
 ],
 "metadata": {
  "kernelspec": {
   "display_name": "Python 3",
   "language": "python",
   "name": "python3"
  },
  "language_info": {
   "codemirror_mode": {
    "name": "ipython",
    "version": 3
   },
   "file_extension": ".py",
   "mimetype": "text/x-python",
   "name": "python",
   "nbconvert_exporter": "python",
   "pygments_lexer": "ipython3",
   "version": "3.8.8"
  },
  "toc": {
   "base_numbering": 1,
   "nav_menu": {},
   "number_sections": false,
   "sideBar": true,
   "skip_h1_title": false,
   "title_cell": "Table of Contents",
   "title_sidebar": "Contents",
   "toc_cell": false,
   "toc_position": {},
   "toc_section_display": true,
   "toc_window_display": true
  },
  "varInspector": {
   "cols": {
    "lenName": 16,
    "lenType": 16,
    "lenVar": 40
   },
   "kernels_config": {
    "python": {
     "delete_cmd_postfix": "",
     "delete_cmd_prefix": "del ",
     "library": "var_list.py",
     "varRefreshCmd": "print(var_dic_list())"
    },
    "r": {
     "delete_cmd_postfix": ") ",
     "delete_cmd_prefix": "rm(",
     "library": "var_list.r",
     "varRefreshCmd": "cat(var_dic_list()) "
    }
   },
   "types_to_exclude": [
    "module",
    "function",
    "builtin_function_or_method",
    "instance",
    "_Feature"
   ],
   "window_display": false
  }
 },
 "nbformat": 4,
 "nbformat_minor": 4
}
