{
 "cells": [
  {
   "cell_type": "markdown",
   "metadata": {},
   "source": [
    "![Fixel Algorithms](https://fixelalgorithms.co/images/CCExt.png)"
   ]
  },
  {
   "cell_type": "markdown",
   "metadata": {},
   "source": [
    "# <center> Machine Learning Methods </center>\n",
    "## <center> Lecture 1 - Essential Linear Algebra </center>\n",
    "### <center> $L^p$ norm</center>"
   ]
  },
  {
   "cell_type": "markdown",
   "metadata": {},
   "source": [
    "[![Open In Colab](https://colab.research.google.com/assets/colab-badge.svg)](https://colab.research.google.com/github/FixelAlgorithmsTeam/FixelCourses/blob/master/MachineLearningMethod/01_EssentialLinearAlgebra/MainLpNorm.ipynb)"
   ]
  },
  {
   "cell_type": "code",
   "execution_count": 1,
   "metadata": {},
   "outputs": [],
   "source": [
    "import numpy             as np\n",
    "import matplotlib.pyplot as plt\n",
    "import matplotlib\n",
    "\n",
    "matplotlib.rc('font', **{'size': 16})"
   ]
  },
  {
   "cell_type": "markdown",
   "metadata": {},
   "source": [
    "#### Create a 1D axis:"
   ]
  },
  {
   "cell_type": "code",
   "execution_count": 2,
   "metadata": {},
   "outputs": [
    {
     "data": {
      "text/plain": [
       "(250,)"
      ]
     },
     "execution_count": 2,
     "metadata": {},
     "output_type": "execute_result"
    }
   ],
   "source": [
    "v = np.linspace(-1.25, 1.25, 250) #-- 1D grid\n",
    "v.shape"
   ]
  },
  {
   "cell_type": "markdown",
   "metadata": {},
   "source": [
    "#### Create a 2D axis:"
   ]
  },
  {
   "cell_type": "code",
   "execution_count": 3,
   "metadata": {},
   "outputs": [
    {
     "data": {
      "text/plain": [
       "((250, 250), (250, 250))"
      ]
     },
     "execution_count": 3,
     "metadata": {},
     "output_type": "execute_result"
    }
   ],
   "source": [
    "XX1, XX2 = np.meshgrid(v, v)\n",
    "XX1.shape, XX2.shape"
   ]
  },
  {
   "cell_type": "code",
   "execution_count": 4,
   "metadata": {},
   "outputs": [
    {
     "data": {
      "image/png": "[encoded data removed]",
      "text/plain": [
       "<Figure size 864x360 with 2 Axes>"
      ]
     },
     "metadata": {
      "needs_background": "light"
     },
     "output_type": "display_data"
    }
   ],
   "source": [
    "lXX    = [XX1,    XX2]\n",
    "lTitle = ['XX1', 'XX2']\n",
    "fig, _ = plt.subplots(1, 2, figsize=(12, 5))\n",
    "for ii, ax in enumerate(fig.axes):\n",
    "    ax.matshow(lXX[ii], extent=(v[0], v[-1], v[0], v[-1]), origin='lower')\n",
    "    ax.set_title(lTitle[ii])\n",
    "    ax.set_xlabel('$x_1$')\n",
    "    ax.set_ylabel('$x_2$')\n",
    "    ax.xaxis.tick_bottom()"
   ]
  },
  {
   "cell_type": "code",
   "execution_count": 5,
   "metadata": {},
   "outputs": [
    {
     "data": {
      "text/plain": [
       "(2, 62500)"
      ]
     },
     "execution_count": 5,
     "metadata": {},
     "output_type": "execute_result"
    }
   ],
   "source": [
    "#-- Reshape the grid:\n",
    "mX = np.stack([XX1.ravel(), XX2.ravel()], axis=0)\n",
    "mX.shape"
   ]
  },
  {
   "cell_type": "markdown",
   "metadata": {},
   "source": [
    "$L^p$ norm:\n",
    "$$\\left\\Vert \\boldsymbol{x}\\right\\Vert _{p}^{p}=\\sum_{i=1}^{d}\\left|x_{i}\\right|^{p}$$"
   ]
  },
  {
   "cell_type": "code",
   "execution_count": 6,
   "metadata": {},
   "outputs": [],
   "source": [
    "def LpNorm(mX, p):\n",
    "    return np.sum(np.abs(mX)**p, axis=0) #-- ||x||ₚᵖ"
   ]
  },
  {
   "cell_type": "code",
   "execution_count": 7,
   "metadata": {},
   "outputs": [],
   "source": [
    "def PlotLpNorm(p = 2):\n",
    "    if p >= 5:\n",
    "        p = np.Inf\n",
    "    \n",
    "    #-- Compare Lp norm to 1:\n",
    "    Z = LpNorm(mX, p) <= 1\n",
    "    Z = Z.reshape(XX1.shape)\n",
    "        \n",
    "    #-- Plot related stuff:\n",
    "    #-- color:\n",
    "    cyan  = (0,   .75, .75)\n",
    "    red   = (.75, 0,   0  )\n",
    "    white = (1,   1,   1  )\n",
    "    color = cyan if p >= 1 else red\n",
    "    \n",
    "    #-- title:\n",
    "    pStr = '\\infty' if np.isinf(p) else str(p)\n",
    "    if p % 1 < 0.001:\n",
    "        pStr = f'{p:.0f}' #-- round integer\n",
    "\n",
    "    #-- plot:\n",
    "    plt.figure  (figsize=(6,6))\n",
    "    plt.grid    (True, linestyle='--', linewidth=.3)\n",
    "    plt.axhline (y=0,  color='k',      linewidth=3)\n",
    "    plt.axvline (x=0,  color='k',      linewidth=3)\n",
    "    plt.contourf(XX1,  XX2, 2*Z-1,     colors=[(1,1,1), color], alpha=0.75)\n",
    "    plt.title   (r'$||x||_{' + pStr + '}\\leq 1$', fontsize = 30)\n",
    "    plt.xlabel  ('$x_1$')\n",
    "    plt.ylabel  ('$x_2$')"
   ]
  },
  {
   "cell_type": "code",
   "execution_count": 8,
   "metadata": {},
   "outputs": [
    {
     "data": {
      "application/vnd.jupyter.widget-view+json": {
       "model_id": "87316a4a420241978bd10a534928f544",
       "version_major": 2,
       "version_minor": 0
      },
      "text/plain": [
       "interactive(children=(FloatSlider(value=2.0, description='p', layout=Layout(width='80%'), max=5.0, min=0.25, s…"
      ]
     },
     "metadata": {},
     "output_type": "display_data"
    }
   ],
   "source": [
    "from ipywidgets import interact, FloatSlider, Layout\n",
    "\n",
    "interact(PlotLpNorm, p=FloatSlider(min=.25, max=5, step=.25, value=2, layout=Layout(width='80%')))\n",
    "plt.show()"
   ]
  },
  {
   "cell_type": "code",
   "execution_count": null,
   "metadata": {},
   "outputs": [],
   "source": []
  }
 ],
 "metadata": {
  "kernelspec": {
   "display_name": "Python 3",
   "language": "python",
   "name": "python3"
  },
  "language_info": {
   "codemirror_mode": {
    "name": "ipython",
    "version": 3
   },
   "file_extension": ".py",
   "mimetype": "text/x-python",
   "name": "python",
   "nbconvert_exporter": "python",
   "pygments_lexer": "ipython3",
   "version": "3.8.8"
  },
  "toc": {
   "base_numbering": 1,
   "nav_menu": {},
   "number_sections": false,
   "sideBar": true,
   "skip_h1_title": false,
   "title_cell": "Table of Contents",
   "title_sidebar": "Contents",
   "toc_cell": false,
   "toc_position": {},
   "toc_section_display": true,
   "toc_window_display": false
  },
  "varInspector": {
   "cols": {
    "lenName": 16,
    "lenType": 16,
    "lenVar": 40
   },
   "kernels_config": {
    "python": {
     "delete_cmd_postfix": "",
     "delete_cmd_prefix": "del ",
     "library": "var_list.py",
     "varRefreshCmd": "print(var_dic_list())"
    },
    "r": {
     "delete_cmd_postfix": ") ",
     "delete_cmd_prefix": "rm(",
     "library": "var_list.r",
     "varRefreshCmd": "cat(var_dic_list()) "
    }
   },
   "types_to_exclude": [
    "module",
    "function",
    "builtin_function_or_method",
    "instance",
    "_Feature"
   ],
   "window_display": false
  }
 },
 "nbformat": 4,
 "nbformat_minor": 4
}
