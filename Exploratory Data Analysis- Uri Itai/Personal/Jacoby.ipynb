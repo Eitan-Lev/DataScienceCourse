{
  "nbformat": 4,
  "nbformat_minor": 5,
  "metadata": {
    "kernelspec": {
      "display_name": "Python 3",
      "language": "python",
      "name": "python3"
    },
    "language_info": {
      "codemirror_mode": {
        "name": "ipython",
        "version": 3
      },
      "file_extension": ".py",
      "mimetype": "text/x-python",
      "name": "python",
      "nbconvert_exporter": "python",
      "pygments_lexer": "ipython3",
      "version": "3.8.8"
    },
    "colab": {
      "name": "Jacoby.ipynb",
      "provenance": []
    }
  },
  "cells": [
    {
      "cell_type": "markdown",
      "metadata": {
        "id": "1bf4261d"
      },
      "source": [
        "![image.png](attachment:image.png)"
      ],
      "id": "1bf4261d"
    },
    {
      "cell_type": "markdown",
      "metadata": {
        "id": "e71be953"
      },
      "source": [
        "![image.png](attachment:image.png)"
      ],
      "id": "e71be953"
    },
    {
      "cell_type": "code",
      "metadata": {
        "id": "3ccddeda"
      },
      "source": [
        "import numpy as np\n",
        "from autograd import grad, jacobian"
      ],
      "id": "3ccddeda",
      "execution_count": null,
      "outputs": []
    },
    {
      "cell_type": "code",
      "metadata": {
        "id": "0bc2e235"
      },
      "source": [
        "A = np.array([[3,1,1],\n",
        "              [1,2,0],\n",
        "              [0,0,1]])\n",
        "\n",
        "\n",
        "b = np.array([[2,1,3]]).T"
      ],
      "id": "0bc2e235",
      "execution_count": null,
      "outputs": []
    },
    {
      "cell_type": "code",
      "metadata": {
        "id": "fd892c4c",
        "outputId": "1ff73090-3a08-4ab1-92ad-b5a548922ef4"
      },
      "source": [
        "U = np.triu(A)\n",
        "L = np.tril(A)\n",
        "D = np.diag(np.diag(A))\n",
        "U,D,L"
      ],
      "id": "fd892c4c",
      "execution_count": null,
      "outputs": [
        {
          "output_type": "execute_result",
          "data": {
            "text/plain": [
              "(array([[3, 1, 1],\n",
              "        [0, 2, 0],\n",
              "        [0, 0, 1]]),\n",
              " array([[3, 0, 0],\n",
              "        [0, 2, 0],\n",
              "        [0, 0, 1]]),\n",
              " array([[3, 0, 0],\n",
              "        [1, 2, 0],\n",
              "        [0, 0, 1]]))"
            ]
          },
          "metadata": {
            "tags": []
          },
          "execution_count": 17
        }
      ]
    },
    {
      "cell_type": "code",
      "metadata": {
        "id": "65414b73",
        "outputId": "dd8c2a1d-6908-455f-8445-28e2034f8a18"
      },
      "source": [
        "x = np.array([0,0,0], dtype=float)\n",
        "for i in range(10):\n",
        "    x = np.linalg.inv(D)*(b-(L+D)*x)\n",
        "\n",
        "x\n"
      ],
      "id": "65414b73",
      "execution_count": null,
      "outputs": [
        {
          "output_type": "execute_result",
          "data": {
            "text/plain": [
              "array([[ -227.33333333,     0.        ,     0.        ],\n",
              "       [    0.        ,  -170.5       ,     0.        ],\n",
              "       [    0.        ,     0.        , -1023.        ]])"
            ]
          },
          "metadata": {
            "tags": []
          },
          "execution_count": 21
        }
      ]
    },
    {
      "cell_type": "code",
      "metadata": {
        "id": "724cbbe1"
      },
      "source": [
        "x = np.linalg.inv(D)*(b-(L+D)*x)"
      ],
      "id": "724cbbe1",
      "execution_count": null,
      "outputs": []
    },
    {
      "cell_type": "code",
      "metadata": {
        "id": "4f7c8eaf"
      },
      "source": [
        ""
      ],
      "id": "4f7c8eaf",
      "execution_count": null,
      "outputs": []
    }
  ]
}