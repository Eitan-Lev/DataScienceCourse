{
 "cells": [
  {
   "cell_type": "code",
   "execution_count": 1,
   "id": "c329abe2",
   "metadata": {},
   "outputs": [],
   "source": [
    "import math as math"
   ]
  },
  {
   "cell_type": "code",
   "execution_count": 21,
   "id": "b43bdec1",
   "metadata": {},
   "outputs": [],
   "source": [
    "def limit(x):\n",
    "    return (1/2)*((a/x)+x)\n",
    "def reached_limit(x_i):\n",
    "    return L - epsilon <= x_i <= L + epsilon"
   ]
  },
  {
   "cell_type": "code",
   "execution_count": 39,
   "id": "74ba9079",
   "metadata": {},
   "outputs": [
    {
     "data": {
      "text/plain": [
       "316.2293471517152"
      ]
     },
     "execution_count": 39,
     "metadata": {},
     "output_type": "execute_result"
    }
   ],
   "source": [
    "a = 100001\n",
    "epsilon = 1e-13\n",
    "L = math.sqrt(a)\n",
    "L"
   ]
  },
  {
   "cell_type": "code",
   "execution_count": 40,
   "id": "76a47e33",
   "metadata": {},
   "outputs": [
    {
     "name": "stdout",
     "output_type": "stream",
     "text": [
      "11\n"
     ]
    }
   ],
   "source": [
    "x_i = 2\n",
    "max_range = 100000\n",
    "for i in range(max_range):\n",
    "    x_i = limit(x_i)\n",
    "    if L - epsilon <= x_i <= L + epsilon:\n",
    "        break\n",
    "        \n",
    "print(i)\n",
    "if max_range - 1 == i:\n",
    "    print(\"didn't actually reach required root, loop ended\")\n",
    "    print(f\"calculated root: {x_i}\")"
   ]
  },
  {
   "cell_type": "code",
   "execution_count": null,
   "id": "f5e7a3da",
   "metadata": {},
   "outputs": [],
   "source": []
  }
 ],
 "metadata": {
  "kernelspec": {
   "display_name": "Python 3",
   "language": "python",
   "name": "python3"
  },
  "language_info": {
   "codemirror_mode": {
    "name": "ipython",
    "version": 3
   },
   "file_extension": ".py",
   "mimetype": "text/x-python",
   "name": "python",
   "nbconvert_exporter": "python",
   "pygments_lexer": "ipython3",
   "version": "3.8.8"
  }
 },
 "nbformat": 4,
 "nbformat_minor": 5
}
