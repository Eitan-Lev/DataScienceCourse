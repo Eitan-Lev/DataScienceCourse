{
 "cells": [
  {
   "cell_type": "code",
   "execution_count": 1,
   "metadata": {},
   "outputs": [
    {
     "data": {
      "text/html": [
       "\n",
       "<script>\n",
       "function hidecode() {\n",
       "    x=document.getElementsByClassName(\"input\");\n",
       "    for (i = 0; i < x.length; i++) {\n",
       "        x[i].style.display=\"none\";\n",
       "    }\n",
       "    x=document.getElementsByClassName(\"output_stderr\");\n",
       "    for (i = 0; i < x.length; i++) {\n",
       "        x[i].style.display=\"none\";\n",
       "    }\n",
       "}\n",
       "function showcode() {\n",
       "    x=document.getElementsByClassName(\"input\");\n",
       "    for (i = 0; i < x.length; i++) {\n",
       "        x[i].style.display=\"\";\n",
       "    }\n",
       "    x=document.getElementsByClassName(\"output_stderr\");\n",
       "    for (i = 0; i < x.length; i++) {\n",
       "        x[i].style.display=\"\";\n",
       "    }\n",
       "}\n",
       "</script>\n",
       "<button class=\"button\" onclick=\"hidecode()\">Hide code</button>\n",
       "<button class=\"button\" onclick=\"showcode()\">Show code</button>\n",
       "<body onload=\"hidecode()\">\n"
      ],
      "text/plain": [
       "<IPython.core.display.HTML object>"
      ]
     },
     "metadata": {},
     "output_type": "display_data"
    }
   ],
   "source": [
    "%%html\n",
    "\n",
    "<script>\n",
    "function hidecode() {\n",
    "    x=document.getElementsByClassName(\"input\");\n",
    "    for (i = 0; i < x.length; i++) {\n",
    "        x[i].style.display=\"none\";\n",
    "    }\n",
    "    x=document.getElementsByClassName(\"output_stderr\");\n",
    "    for (i = 0; i < x.length; i++) {\n",
    "        x[i].style.display=\"none\";\n",
    "    }\n",
    "}\n",
    "function showcode() {\n",
    "    x=document.getElementsByClassName(\"input\");\n",
    "    for (i = 0; i < x.length; i++) {\n",
    "        x[i].style.display=\"\";\n",
    "    }\n",
    "    x=document.getElementsByClassName(\"output_stderr\");\n",
    "    for (i = 0; i < x.length; i++) {\n",
    "        x[i].style.display=\"\";\n",
    "    }\n",
    "}\n",
    "</script>\n",
    "<button class=\"button\" onclick=\"hidecode()\">Hide code</button>\n",
    "<button class=\"button\" onclick=\"showcode()\">Show code</button>\n",
    "<body onload=\"hidecode()\">"
   ]
  },
  {
   "cell_type": "code",
   "execution_count": null,
   "metadata": {},
   "outputs": [],
   "source": []
  }
 ],
 "metadata": {
  "kernelspec": {
   "display_name": "Python 3",
   "language": "python",
   "name": "python3"
  },
  "language_info": {
   "codemirror_mode": {
    "name": "ipython",
    "version": 3
   },
   "file_extension": ".py",
   "mimetype": "text/x-python",
   "name": "python",
   "nbconvert_exporter": "python",
   "pygments_lexer": "ipython3",
   "version": "3.8.5"
  }
 },
 "nbformat": 4,
 "nbformat_minor": 4
}
