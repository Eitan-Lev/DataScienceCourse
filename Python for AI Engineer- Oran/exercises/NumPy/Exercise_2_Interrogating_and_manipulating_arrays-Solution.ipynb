{
 "cells": [
  {
   "cell_type": "markdown",
   "metadata": {
    "id": "IZe1ZEda2w-d"
   },
   "source": [
    "# Exercise #2: Interrogating and manipulating arrays\n",
    "\n",
    "### Learn how to interrogate and manipulate NumPy arrays\n",
    "\n",
    "In this exercise we refers to a useful guide that can help you solve any questions in NumPy. This guide also summarize all that is needed to know about NumPy.\n",
    "\n",
    "### Issue covered:\n",
    "\n",
    "\n",
    "\n",
    "*   Intertogating the properties of an array\n",
    "*   Manipulating arrays to change their properties.\n",
    "\n"
   ]
  },
  {
   "cell_type": "code",
   "execution_count": 1,
   "metadata": {
    "id": "4dgyBR1B3QVZ"
   },
   "outputs": [],
   "source": [
    "import numpy as np"
   ]
  },
  {
   "cell_type": "markdown",
   "metadata": {
    "id": "TWRqPfxK5Q-M"
   },
   "source": [
    "\n",
    "\n",
    "### 1.  Let’s interrogate an array to find out its characteristics.\n",
    "\n",
    "\n"
   ]
  },
  {
   "cell_type": "markdown",
   "metadata": {
    "id": "tCxziE8W6ryJ"
   },
   "source": [
    "\n",
    ">(a)  Create a 2-D array shape (2,4) containing two lists:\n",
    " (range(4), range(10, 14)) and assign it to the variable \"arr\") :\n",
    "\n",
    "\n",
    "\n",
    "\n",
    "\n"
   ]
  },
  {
   "cell_type": "code",
   "execution_count": 2,
   "metadata": {
    "colab": {
     "base_uri": "https://localhost:8080/",
     "height": 50
    },
    "id": "M8Gr9PQC64mb",
    "outputId": "af85029c-0416-4e6f-9c3a-ffd32a5d2ef4"
   },
   "outputs": [
    {
     "name": "stdout",
     "output_type": "stream",
     "text": [
      "[[ 0  1  2  3]\n",
      " [10 11 12 13]]\n"
     ]
    }
   ],
   "source": [
    "# Your Code Here#\n",
    "arr = arr = np.array([range(4), range(10,14)])\n",
    "\n",
    "print(arr)"
   ]
  },
  {
   "cell_type": "markdown",
   "metadata": {
    "id": "GFuaihgyHR8h"
   },
   "source": [
    ">(b) Print the shape of the array :\n"
   ]
  },
  {
   "cell_type": "code",
   "execution_count": 3,
   "metadata": {
    "colab": {
     "base_uri": "https://localhost:8080/",
     "height": 34
    },
    "id": "vSeLW1C7XkMu",
    "outputId": "3c875548-b15b-47e7-8056-573b69141f6f"
   },
   "outputs": [
    {
     "name": "stdout",
     "output_type": "stream",
     "text": [
      "(2, 4)\n"
     ]
    }
   ],
   "source": [
    "# Your Code Here#\n",
    "print(arr.shape)"
   ]
  },
  {
   "cell_type": "markdown",
   "metadata": {
    "id": "S9JfjvRNQXRX"
   },
   "source": [
    "\n",
    "\n",
    ">(c)  Print the size of the array:\n",
    "\n"
   ]
  },
  {
   "cell_type": "code",
   "execution_count": 4,
   "metadata": {
    "colab": {
     "base_uri": "https://localhost:8080/",
     "height": 34
    },
    "id": "DXloqUXrK-nM",
    "outputId": "eb030f31-1bdf-49bf-94d7-71ef6e5dfbae"
   },
   "outputs": [
    {
     "name": "stdout",
     "output_type": "stream",
     "text": [
      "8\n"
     ]
    }
   ],
   "source": [
    "# Your Code Here#\n",
    "print(arr.size)"
   ]
  },
  {
   "cell_type": "markdown",
   "metadata": {
    "id": "uT_f2eLVQg3h"
   },
   "source": [
    "\n",
    "\n",
    ">(d)  Print the maximum and minimum of the array:\n",
    "\n"
   ]
  },
  {
   "cell_type": "code",
   "execution_count": 5,
   "metadata": {
    "colab": {
     "base_uri": "https://localhost:8080/",
     "height": 50
    },
    "id": "wcVdZoTuQnx5",
    "outputId": "7360e277-361d-4bcc-c687-1b84ceb1e7b9"
   },
   "outputs": [
    {
     "name": "stdout",
     "output_type": "stream",
     "text": [
      "13\n",
      "0\n"
     ]
    }
   ],
   "source": [
    "# Your Code Here#\n",
    "print(arr.max())\n",
    "print(arr.min())"
   ]
  },
  {
   "cell_type": "markdown",
   "metadata": {
    "id": "ymRcEsoPQor3"
   },
   "source": [
    "###2. Let’s generate new arrays by modifying our array.\n"
   ]
  },
  {
   "cell_type": "markdown",
   "metadata": {
    "id": "5mB8SDGwQ1hA"
   },
   "source": [
    "\n",
    "\n",
    ">(a)  Continue to use the array \"arr\" as defined above:\n",
    "\n",
    "\n"
   ]
  },
  {
   "cell_type": "markdown",
   "metadata": {
    "id": "V7VOA6lWRulp"
   },
   "source": [
    "\n",
    "\n",
    "> (b) Re-shape array \"arr\" to (2, 2, 2) and print it:\n",
    "\n",
    "\n"
   ]
  },
  {
   "cell_type": "code",
   "execution_count": 6,
   "metadata": {
    "colab": {
     "base_uri": "https://localhost:8080/",
     "height": 101
    },
    "id": "0kQ0HtXvRfPZ",
    "outputId": "281e75f6-8ed3-4a0d-be03-69ff372c4983"
   },
   "outputs": [
    {
     "name": "stdout",
     "output_type": "stream",
     "text": [
      "[[[ 0  1]\n",
      "  [ 2  3]]\n",
      "\n",
      " [[10 11]\n",
      "  [12 13]]]\n"
     ]
    }
   ],
   "source": [
    "# Your Code Here#\n",
    "\n",
    "print(np.reshape(arr, [2,2,2]))"
   ]
  },
  {
   "cell_type": "markdown",
   "metadata": {
    "id": "YEDbBZKpR14i"
   },
   "source": [
    "\n",
    "\n",
    ">(c)  Print the array transposed:\n",
    "\n",
    "\n"
   ]
  },
  {
   "cell_type": "code",
   "execution_count": 7,
   "metadata": {
    "colab": {
     "base_uri": "https://localhost:8080/",
     "height": 84
    },
    "id": "A8dgmHOtR1OJ",
    "outputId": "0a8acb73-0075-44b0-f93b-b98deb441008"
   },
   "outputs": [
    {
     "name": "stdout",
     "output_type": "stream",
     "text": [
      "[[ 0 10]\n",
      " [ 1 11]\n",
      " [ 2 12]\n",
      " [ 3 13]]\n"
     ]
    }
   ],
   "source": [
    "# Your Code Here#\n",
    "print(np.transpose(arr))"
   ]
  },
  {
   "cell_type": "markdown",
   "metadata": {
    "id": "nIIIj6a4R5vA"
   },
   "source": [
    "\n",
    "\n",
    ">(d)  Print the array flattened to a single dimension:\n",
    "\n",
    "\n"
   ]
  },
  {
   "cell_type": "code",
   "execution_count": 8,
   "metadata": {
    "colab": {
     "base_uri": "https://localhost:8080/",
     "height": 34
    },
    "id": "qUrxPgsJR4CV",
    "outputId": "907ca417-4a4d-44f3-e87f-fe6cbf631416"
   },
   "outputs": [
    {
     "name": "stdout",
     "output_type": "stream",
     "text": [
      "[ 0  1  2  3 10 11 12 13]\n"
     ]
    }
   ],
   "source": [
    "# Your Code Here#\n",
    "print(np.ravel(arr))"
   ]
  },
  {
   "cell_type": "markdown",
   "metadata": {
    "id": "N_NnXhzASPHS"
   },
   "source": [
    "\n",
    "\n",
    ">(e)  Print the array converted to floats:\n",
    "\n",
    "\n"
   ]
  },
  {
   "cell_type": "code",
   "execution_count": 9,
   "metadata": {
    "colab": {
     "base_uri": "https://localhost:8080/",
     "height": 50
    },
    "id": "W0d3RFvDSQlA",
    "outputId": "bc040c8b-25d0-4f62-a2d0-bd9612dc1dbd"
   },
   "outputs": [
    {
     "name": "stdout",
     "output_type": "stream",
     "text": [
      "[[ 0.  1.  2.  3.]\n",
      " [10. 11. 12. 13.]]\n"
     ]
    }
   ],
   "source": [
    "# Your Code Here#\n",
    "print(arr.astype('f'))"
   ]
  },
  {
   "cell_type": "markdown",
   "metadata": {
    "id": "wlaXfi70SSUC"
   },
   "source": [
    "\n",
    "\n",
    ">(f) Create a 2-D array shape (2, 4) containing two lists [0, 3.1, 2.2, 1.1] and [7, 4, 3.14, 11] and assign it to the variable \"arr2\":\n",
    "\n",
    "\n"
   ]
  },
  {
   "cell_type": "code",
   "execution_count": 10,
   "metadata": {
    "colab": {
     "base_uri": "https://localhost:8080/",
     "height": 50
    },
    "id": "u2ieDOfHSTLw",
    "outputId": "5e62de04-7fe1-404a-b5c7-3ee18bb1fc25"
   },
   "outputs": [
    {
     "name": "stdout",
     "output_type": "stream",
     "text": [
      "[[ 0.    3.1   2.2   1.1 ]\n",
      " [ 7.    4.    3.14 11.  ]]\n"
     ]
    }
   ],
   "source": [
    "# Your Code Here#\n",
    "arr2 = np.array([[0, 3.1, 2.2, 1.1], [7, 4, 3.14, 11]])\n",
    "\n",
    "print(arr2)"
   ]
  },
  {
   "cell_type": "markdown",
   "metadata": {
    "id": "b7N5elRAST-u"
   },
   "source": [
    "\n",
    "\n",
    ">(g) Use  concatenate  function to concatenate \"arr\" and \"arr2\":\n",
    "\n",
    "\n"
   ]
  },
  {
   "cell_type": "code",
   "execution_count": 11,
   "metadata": {
    "colab": {
     "base_uri": "https://localhost:8080/",
     "height": 84
    },
    "id": "NLxAKMvnSUdU",
    "outputId": "30f31bf6-1ce6-4751-dd3c-6c1ed398940e"
   },
   "outputs": [
    {
     "name": "stdout",
     "output_type": "stream",
     "text": [
      "[[ 0.    1.    2.    3.  ]\n",
      " [10.   11.   12.   13.  ]\n",
      " [ 0.    3.1   2.2   1.1 ]\n",
      " [ 7.    4.    3.14 11.  ]]\n"
     ]
    }
   ],
   "source": [
    "# Your Code Here#\n",
    "arr_conc = np.concatenate((arr, arr2))\n",
    "\n",
    "print(arr_conc)"
   ]
  }
 ],
 "metadata": {
  "accelerator": "GPU",
  "colab": {
   "collapsed_sections": [],
   "name": "Solution_for_Exercise_2_Interrogating_and_manipulating_arrays",
   "provenance": []
  },
  "kernelspec": {
   "display_name": "Python 3",
   "language": "python",
   "name": "python3"
  },
  "language_info": {
   "codemirror_mode": {
    "name": "ipython",
    "version": 3
   },
   "file_extension": ".py",
   "mimetype": "text/x-python",
   "name": "python",
   "nbconvert_exporter": "python",
   "pygments_lexer": "ipython3",
   "version": "3.8.5"
  }
 },
 "nbformat": 4,
 "nbformat_minor": 1
}
