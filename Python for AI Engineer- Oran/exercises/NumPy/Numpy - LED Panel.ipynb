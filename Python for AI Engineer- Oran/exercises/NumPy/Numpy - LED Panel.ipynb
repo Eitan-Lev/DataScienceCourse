{
 "cells": [
  {
   "cell_type": "markdown",
   "metadata": {},
   "source": [
    "#  LED Panel\n",
    "While investigating a new LED panel, the following was observerd:\n",
    "\n",
    "* The LED screen is 50 pixels wide and 6 pixels tall.\n",
    "* All pixels are initially turned OFF.\n",
    "* A file with commands controls the LED screen.\n",
    "* Each line holds exactly one command.\n",
    "* There are three commands:\n",
    "\n",
    "    * Rect: turns pixels ON:\n",
    "\n",
    ">    \\+ W H\n",
    "\n",
    "\n",
    "    Turns on all of the pixels in a rectangle at the top-left of the screen which is W wide and H tall.\n",
    "\n",
    "    * Right:\n",
    "\n",
    ">   \\> R X\n",
    "\n",
    "    Shifts all of the pixels in row R (0 is the top row) right by X pixels. Pixels that would fall off the right end appear at the left end of the row.\n",
    "\n",
    "    * Down:\n",
    "\n",
    ">  v C Y\n",
    "\n",
    "    Shifts all of the pixels in column C (0 is the left column) down by Y pixels. Pixels that would fall off the bottom appear at the top of the column.\n",
    "\n",
    "For example, here is a simple sequence on a smaller screen:\n",
    "\n",
    "* `+ 3 2` creates a small rectangle in the top-left corner:\n",
    "```\n",
    "###....\n",
    "###....\n",
    ".......\n",
    "```\n",
    "\n",
    "* `v 1 1` rotates the second column down by one pixel:\n",
    "\n",
    "```\n",
    "#.#....\n",
    "###....\n",
    ".#.....\n",
    "```\n",
    "\n",
    "* `> 0 4` rotates the top row right by four pixels:\n",
    "```\n",
    "....#.#\n",
    "###....\n",
    ".#.....\n",
    "```\n",
    "* `v 1 1` again rotates the second column down by one pixel, causing the bottom pixel to wrap back to the top:\n",
    "\n",
    "```\n",
    ".#..#.#\n",
    "#.#....\n",
    ".#.....\n",
    "```\n",
    "Use the following input file to control the LED: led_input.txt\n",
    "\n",
    "How many pixels are lit? If the amount is 110 - check the LED display to read the secret code!\n",
    "\n",
    "Tips:\n",
    "\n",
    "* Check out `np.roll()`.\n",
    "* `plt.imshow()` is your friend.\n",
    "\n",
    "\n",
    "\n",
    "``` python\n",
    "import numpy as np \n",
    "from matplotlib import pyplot as plt\n",
    "\n",
    "a = np.arange(100).reshape(10, 10)\n",
    "plt.imshow(a, 'gray')\n",
    "plt.show()\n",
    "```\n",
    "\n",
    "\n",
    "\n",
    "\n",
    "\n",
    "\n",
    "\n"
   ]
  },
  {
   "cell_type": "code",
   "execution_count": 1,
   "metadata": {},
   "outputs": [
    {
     "data": {
      "image/png": "[encoded data removed]",
      "text/plain": [
       "<Figure size 432x288 with 1 Axes>"
      ]
     },
     "metadata": {
      "needs_background": "light"
     },
     "output_type": "display_data"
    }
   ],
   "source": [
    "import numpy as np \n",
    "from matplotlib import pyplot as plt\n",
    "\n",
    "a = np.arange(100).reshape(10, 10)\n",
    "plt.imshow(a, 'gray')\n",
    "plt.show()"
   ]
  },
  {
   "cell_type": "markdown",
   "metadata": {},
   "source": [
    "Source: \n",
    "* Advent of code 2016 - https://adventofcode.com/2016/day/8\n",
    "* 10x - https://lms.10x.org.il/    \n",
    "\n"
   ]
  },
  {
   "cell_type": "code",
   "execution_count": null,
   "metadata": {},
   "outputs": [],
   "source": []
  }
 ],
 "metadata": {
  "kernelspec": {
   "display_name": "Python 3",
   "language": "python",
   "name": "python3"
  },
  "language_info": {
   "codemirror_mode": {
    "name": "ipython",
    "version": 3
   },
   "file_extension": ".py",
   "mimetype": "text/x-python",
   "name": "python",
   "nbconvert_exporter": "python",
   "pygments_lexer": "ipython3",
   "version": "3.8.5"
  }
 },
 "nbformat": 4,
 "nbformat_minor": 4
}
