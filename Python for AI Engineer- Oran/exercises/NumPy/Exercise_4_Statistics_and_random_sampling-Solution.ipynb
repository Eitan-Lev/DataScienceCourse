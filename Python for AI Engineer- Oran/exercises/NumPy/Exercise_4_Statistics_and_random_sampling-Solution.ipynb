{
 "cells": [
  {
   "cell_type": "markdown",
   "metadata": {
    "id": "IZe1ZEda2w-d"
   },
   "source": [
    "# Solution  - Exercise #4: Statistics and random sampling\n",
    "\n",
    "### Use NumPy arrays in statistics and randomize samples\n",
    "\n",
    "### Issue covered:\n",
    "\n",
    "\n",
    "\n",
    "*   Find the median of an array.\n",
    "*   Find the correlation coefficient of an array.\n",
    "\n",
    "*   Generate random sample from normal distribution.\n",
    "*   Reordering array elements.\n",
    "\n",
    "\n",
    "### First, import Numpy as np:\n",
    "\n",
    "\n"
   ]
  },
  {
   "cell_type": "code",
   "execution_count": null,
   "metadata": {
    "id": "4dgyBR1B3QVZ"
   },
   "outputs": [],
   "source": [
    "import numpy as np"
   ]
  },
  {
   "cell_type": "markdown",
   "metadata": {
    "id": "TWRqPfxK5Q-M"
   },
   "source": [
    "\n",
    "\n",
    "### 1. Let’s look at array statistics.\n",
    "\n",
    "\n"
   ]
  },
  {
   "cell_type": "markdown",
   "metadata": {
    "id": "tCxziE8W6ryJ"
   },
   "source": [
    "\n",
    ">(a) Create a 2-D array of shape (2, 4) containing two lists (range(4), range(10, 14)) and assign it to the variable \"a\" :\n",
    "\n",
    "\n",
    "\n",
    "\n",
    "\n"
   ]
  },
  {
   "cell_type": "code",
   "execution_count": null,
   "metadata": {
    "colab": {
     "base_uri": "https://localhost:8080/",
     "height": 50
    },
    "id": "M8Gr9PQC64mb",
    "outputId": "422538d2-6668-48d4-f03a-c9b263f70ab5"
   },
   "outputs": [
    {
     "name": "stdout",
     "output_type": "stream",
     "text": [
      "[[ 0  1  2  3]\n",
      " [10 11 12 13]]\n"
     ]
    }
   ],
   "source": [
    "# Your Code Here#\n",
    "a = np.array([range(4), range(10,14)])\n",
    "\n",
    "print(a)"
   ]
  },
  {
   "cell_type": "markdown",
   "metadata": {
    "id": "GFuaihgyHR8h"
   },
   "source": [
    ">(b) Print the median of \"a\" :\n"
   ]
  },
  {
   "cell_type": "code",
   "execution_count": null,
   "metadata": {
    "colab": {
     "base_uri": "https://localhost:8080/",
     "height": 34
    },
    "id": "U3jo3clSQe2L",
    "outputId": "d81d4e2c-0679-454a-b479-fe9a47c9b689"
   },
   "outputs": [
    {
     "name": "stdout",
     "output_type": "stream",
     "text": [
      "6.5\n"
     ]
    }
   ],
   "source": [
    "# Your Code Here#\n",
    "print(np.median(a))"
   ]
  },
  {
   "cell_type": "markdown",
   "metadata": {
    "id": "ymRcEsoPQor3"
   },
   "source": [
    "###2. Let's generate random samples.\n"
   ]
  },
  {
   "cell_type": "markdown",
   "metadata": {
    "id": "5mB8SDGwQ1hA"
   },
   "source": [
    "\n",
    "\n",
    ">(a)  Create a random array of shape (2, 4):\n",
    "\n",
    "\n"
   ]
  },
  {
   "cell_type": "code",
   "execution_count": null,
   "metadata": {
    "id": "cLBrFybcRuDV"
   },
   "outputs": [],
   "source": [
    "# Your Code Here#\n",
    "arr = np.random.rand(2,4)"
   ]
  },
  {
   "cell_type": "markdown",
   "metadata": {
    "id": "V7VOA6lWRulp"
   },
   "source": [
    "\n",
    "\n",
    ">(b)  Use a function that selects a random integer between 2 to 10:\n",
    "\n",
    "\n"
   ]
  },
  {
   "cell_type": "code",
   "execution_count": null,
   "metadata": {
    "colab": {
     "base_uri": "https://localhost:8080/",
     "height": 34
    },
    "id": "0kQ0HtXvRfPZ",
    "outputId": "9a56d959-4006-4952-aa57-d9dbc5760b4e"
   },
   "outputs": [
    {
     "name": "stdout",
     "output_type": "stream",
     "text": [
      "2\n"
     ]
    }
   ],
   "source": [
    "# Your Code Here#\n",
    "print(np.random.randint(2, 10))"
   ]
  },
  {
   "cell_type": "markdown",
   "metadata": {
    "id": "YEDbBZKpR14i"
   },
   "source": [
    "\n",
    "\n",
    ">(c)  Generate a sample of size 40 from a standard normal distribution (with mean 0 and standard deviation 1), and assign it to the variable \"b\":\n",
    "\n",
    "\n"
   ]
  },
  {
   "cell_type": "code",
   "execution_count": null,
   "metadata": {
    "colab": {
     "base_uri": "https://localhost:8080/",
     "height": 134
    },
    "id": "A8dgmHOtR1OJ",
    "outputId": "389dc06c-092a-446f-e010-123171ba4fd1"
   },
   "outputs": [
    {
     "name": "stdout",
     "output_type": "stream",
     "text": [
      "[ 1.63018957 -0.50043717  0.41852507  0.5301508   0.79424788 -0.62323111\n",
      "  0.01570143 -0.91752443  0.74279124 -0.18542257 -2.53215314 -0.56567698\n",
      "  1.40483923 -1.68668655 -0.89797351  0.22618748  1.11689969 -0.00577918\n",
      " -1.99481746 -0.38901697  0.89252569 -1.09802875 -2.03884317  0.67528243\n",
      "  2.20093088 -0.36624699 -0.89754556  1.30182937 -0.78569996  1.5958596\n",
      " -1.57355116  0.62484397  0.50951684 -0.69620206  0.83482344  1.20703055\n",
      "  0.28329772  1.60295509  0.8366242   1.19562729]\n"
     ]
    }
   ],
   "source": [
    "# Your Code Here#\n",
    "b = np.random.normal(size=40)\n",
    "print(b)"
   ]
  },
  {
   "cell_type": "markdown",
   "metadata": {
    "id": "N_NnXhzASPHS"
   },
   "source": [
    "\n",
    "\n",
    ">(d) Randomly shuffle the elements in \"b\", and print \"b\":\n",
    "\n",
    "\n"
   ]
  },
  {
   "cell_type": "code",
   "execution_count": null,
   "metadata": {
    "colab": {
     "base_uri": "https://localhost:8080/",
     "height": 134
    },
    "id": "W0d3RFvDSQlA",
    "outputId": "6a7a00ee-b4e8-4fb0-a507-3d9236824dfe"
   },
   "outputs": [
    {
     "name": "stdout",
     "output_type": "stream",
     "text": [
      "[ 0.83482344 -1.68668655  2.20093088 -1.09802875  0.28329772  0.67528243\n",
      "  0.74279124  1.40483923  0.22618748 -0.18542257 -1.99481746  0.8366242\n",
      "  1.19562729  0.5301508  -0.38901697  1.20703055 -0.36624699  1.5958596\n",
      " -0.89797351  0.01570143  1.11689969 -0.50043717 -0.91752443 -0.00577918\n",
      " -2.03884317  0.62484397 -1.57355116 -0.78569996  0.89252569  0.79424788\n",
      "  1.30182937  0.50951684 -2.53215314  0.41852507 -0.69620206 -0.89754556\n",
      "  1.63018957  1.60295509 -0.62323111 -0.56567698]\n"
     ]
    }
   ],
   "source": [
    "# Your Code Here#\n",
    "np.random.shuffle(b)\n",
    "print(b)"
   ]
  }
 ],
 "metadata": {
  "accelerator": "GPU",
  "colab": {
   "collapsed_sections": [],
   "name": "Solution of Exercise #4: Statistics and random sampling",
   "provenance": []
  },
  "kernelspec": {
   "display_name": "Python 3",
   "language": "python",
   "name": "python3"
  },
  "language_info": {
   "codemirror_mode": {
    "name": "ipython",
    "version": 3
   },
   "file_extension": ".py",
   "mimetype": "text/x-python",
   "name": "python",
   "nbconvert_exporter": "python",
   "pygments_lexer": "ipython3",
   "version": "3.8.5"
  }
 },
 "nbformat": 4,
 "nbformat_minor": 1
}
