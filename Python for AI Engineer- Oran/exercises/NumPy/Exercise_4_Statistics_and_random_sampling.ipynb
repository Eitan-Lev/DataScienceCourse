{
 "cells": [
  {
   "cell_type": "markdown",
   "metadata": {
    "id": "IZe1ZEda2w-d"
   },
   "source": [
    "# Exercise #4: Statistics and random sampling\n",
    "\n",
    "### Aim: Use NumPy arrays in statistics and randomize samples\n",
    "\n",
    "In this exercise we refers to a useful guide that can help you solve any questions in NumPy. This guide also summarize all that is needed to know about NumPy.\n",
    "\n",
    "### Issue covered:\n",
    "\n",
    "\n",
    "\n",
    "*   Find the median of an array.\n",
    "*   Find the correlation coefficient of an array.\n",
    "\n",
    "*   Generate random sample from normal distribution.\n",
    "*   Reordering array elements.\n",
    "\n",
    "\n",
    "### First, import Numpy as np:\n",
    "\n",
    "\n"
   ]
  },
  {
   "cell_type": "code",
   "execution_count": null,
   "metadata": {
    "id": "4dgyBR1B3QVZ"
   },
   "outputs": [],
   "source": [
    "import numpy as np"
   ]
  },
  {
   "cell_type": "markdown",
   "metadata": {
    "id": "TWRqPfxK5Q-M"
   },
   "source": [
    "\n",
    "\n",
    "### 1. Let’s look at array statistics.\n",
    "\n",
    "\n"
   ]
  },
  {
   "cell_type": "markdown",
   "metadata": {
    "id": "tCxziE8W6ryJ"
   },
   "source": [
    "\n",
    ">(a) Create a 2-D array of shape (2, 4) containing two lists (range(4), range(10, 14)) and assign it to the variable \"a\" :\n",
    "\n",
    "\n",
    "\n",
    "\n",
    "\n"
   ]
  },
  {
   "cell_type": "code",
   "execution_count": null,
   "metadata": {
    "id": "M8Gr9PQC64mb"
   },
   "outputs": [],
   "source": [
    "# Your Code Here#\n",
    "a = []\n",
    "\n",
    "print(a)"
   ]
  },
  {
   "cell_type": "markdown",
   "metadata": {
    "id": "GFuaihgyHR8h"
   },
   "source": [
    ">(b) Print the median of \"a\" :\n"
   ]
  },
  {
   "cell_type": "code",
   "execution_count": null,
   "metadata": {
    "id": "U3jo3clSQe2L"
   },
   "outputs": [],
   "source": [
    "# Your Code Here#\n"
   ]
  },
  {
   "cell_type": "markdown",
   "metadata": {
    "id": "S9JfjvRNQXRX"
   },
   "source": [
    "\n",
    "\n",
    ">(c)   Print the correlation coefficient of \"a\":\n",
    "\n"
   ]
  },
  {
   "cell_type": "code",
   "execution_count": null,
   "metadata": {
    "id": "DXloqUXrK-nM"
   },
   "outputs": [],
   "source": [
    "# Your Code Here#\n"
   ]
  },
  {
   "cell_type": "markdown",
   "metadata": {
    "id": "ymRcEsoPQor3"
   },
   "source": [
    "###2. Let's generate random samples.\n",
    "\n"
   ]
  },
  {
   "cell_type": "markdown",
   "metadata": {
    "id": "5mB8SDGwQ1hA"
   },
   "source": [
    "\n",
    "\n",
    ">(a)  Create a random array of shape (2, 4):\n",
    "\n",
    "\n"
   ]
  },
  {
   "cell_type": "code",
   "execution_count": null,
   "metadata": {
    "id": "cLBrFybcRuDV"
   },
   "outputs": [],
   "source": [
    "# Your Code Here#\n"
   ]
  },
  {
   "cell_type": "markdown",
   "metadata": {
    "id": "V7VOA6lWRulp"
   },
   "source": [
    "\n",
    "\n",
    ">(b)  Use a function that selects a random integer between 2 to 10:\n",
    "\n",
    "\n"
   ]
  },
  {
   "cell_type": "code",
   "execution_count": null,
   "metadata": {
    "id": "0kQ0HtXvRfPZ"
   },
   "outputs": [],
   "source": [
    "# Your Code Here#\n"
   ]
  },
  {
   "cell_type": "markdown",
   "metadata": {
    "id": "YEDbBZKpR14i"
   },
   "source": [
    "\n",
    "\n",
    ">(c)  Generate a sample of size 40 from a standard normal distribution (with mean 0 and standard deviation 1), and assign it to the variable \"b\":\n",
    "\n",
    "\n"
   ]
  },
  {
   "cell_type": "code",
   "execution_count": null,
   "metadata": {
    "id": "A8dgmHOtR1OJ"
   },
   "outputs": [],
   "source": [
    "# Your Code Here#\n",
    "b = []\n",
    "print(b)"
   ]
  },
  {
   "cell_type": "markdown",
   "metadata": {
    "id": "N_NnXhzASPHS"
   },
   "source": [
    "\n",
    "\n",
    ">(d) Randomly shuffle the elements in \"b\", and print \"b\":\n",
    "\n",
    "\n"
   ]
  },
  {
   "cell_type": "code",
   "execution_count": null,
   "metadata": {
    "id": "W0d3RFvDSQlA"
   },
   "outputs": [],
   "source": [
    "# Your Code Here#\n"
   ]
  }
 ],
 "metadata": {
  "accelerator": "GPU",
  "colab": {
   "collapsed_sections": [],
   "name": "Exercise #4: Statistics and random sampling",
   "provenance": []
  },
  "kernelspec": {
   "display_name": "Python 3",
   "language": "python",
   "name": "python3"
  },
  "language_info": {
   "codemirror_mode": {
    "name": "ipython",
    "version": 3
   },
   "file_extension": ".py",
   "mimetype": "text/x-python",
   "name": "python",
   "nbconvert_exporter": "python",
   "pygments_lexer": "ipython3",
   "version": "3.8.5"
  }
 },
 "nbformat": 4,
 "nbformat_minor": 1
}
