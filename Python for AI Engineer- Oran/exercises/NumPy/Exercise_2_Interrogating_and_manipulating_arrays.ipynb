{
 "cells": [
  {
   "cell_type": "markdown",
   "metadata": {
    "id": "IZe1ZEda2w-d"
   },
   "source": [
    "# Exercise #2: Interrogating and manipulating arrays\n",
    "\n",
    "### Learn how to interrogate and manipulate NumPy arrays\n",
    "\n",
    "In this exercise we refers to a useful guide that can help you solve any questions in NumPy. This guide also summarize all that is needed to know about NumPy. \n",
    "\n",
    "### Issue covered:\n",
    "\n",
    "\n",
    "\n",
    "*   Intertogating the properties of an array\n",
    "*   Manipulating arrays to change their properties.\n",
    "\n"
   ]
  },
  {
   "cell_type": "code",
   "execution_count": null,
   "metadata": {
    "id": "4dgyBR1B3QVZ"
   },
   "outputs": [],
   "source": [
    "import numpy as np"
   ]
  },
  {
   "cell_type": "markdown",
   "metadata": {
    "id": "TWRqPfxK5Q-M"
   },
   "source": [
    "\n",
    "\n",
    "### 1.  Let’s interrogate an array to find out its characteristics.\n",
    "\n",
    "\n"
   ]
  },
  {
   "cell_type": "markdown",
   "metadata": {
    "id": "tCxziE8W6ryJ"
   },
   "source": [
    "\n",
    ">(a)  Create a 2-D array shape (2,4) containing two lists:\n",
    " (range(4), range(10, 14)) and assign it to the variable \"arr\") :\n",
    "\n",
    "\n",
    "\n",
    "\n",
    "\n"
   ]
  },
  {
   "cell_type": "code",
   "execution_count": null,
   "metadata": {
    "id": "M8Gr9PQC64mb"
   },
   "outputs": [],
   "source": [
    "# Your Code Here#\n",
    "arr = []\n",
    "\n",
    "print(arr)"
   ]
  },
  {
   "cell_type": "markdown",
   "metadata": {
    "id": "GFuaihgyHR8h"
   },
   "source": [
    ">(b) Print the shape of the array :\n"
   ]
  },
  {
   "cell_type": "code",
   "execution_count": null,
   "metadata": {
    "id": "vSeLW1C7XkMu"
   },
   "outputs": [],
   "source": [
    "# Your Code Here#"
   ]
  },
  {
   "cell_type": "markdown",
   "metadata": {
    "id": "S9JfjvRNQXRX"
   },
   "source": [
    "\n",
    "\n",
    ">(c)  Print the size of the array:\n",
    "\n"
   ]
  },
  {
   "cell_type": "code",
   "execution_count": null,
   "metadata": {
    "id": "DXloqUXrK-nM"
   },
   "outputs": [],
   "source": [
    "# Your Code Here#\n"
   ]
  },
  {
   "cell_type": "markdown",
   "metadata": {
    "id": "uT_f2eLVQg3h"
   },
   "source": [
    "\n",
    "\n",
    ">(d)  Print the maximum and minimum of the array:\n",
    "\n"
   ]
  },
  {
   "cell_type": "code",
   "execution_count": null,
   "metadata": {
    "id": "wcVdZoTuQnx5"
   },
   "outputs": [],
   "source": [
    "# Your Code Here#\n"
   ]
  },
  {
   "cell_type": "markdown",
   "metadata": {
    "id": "ymRcEsoPQor3"
   },
   "source": [
    "###2. Let’s generate new arrays by modifying our array.\n",
    "Read the last code chunk on page 4 and read on until page 7  \n",
    "\t(up to “Other ways to create arrays” you’ve already read). Then:\n",
    "\n"
   ]
  },
  {
   "cell_type": "markdown",
   "metadata": {
    "id": "5mB8SDGwQ1hA"
   },
   "source": [
    "\n",
    "\n",
    ">(a)  Continue to use the array \"arr\" as defined above:\n",
    "\n",
    "\n"
   ]
  },
  {
   "cell_type": "markdown",
   "metadata": {
    "id": "V7VOA6lWRulp"
   },
   "source": [
    "\n",
    "\n",
    "> (b) Re-shape array \"arr\" to (2, 2, 2) and print it:\n",
    "\n",
    "\n"
   ]
  },
  {
   "cell_type": "code",
   "execution_count": null,
   "metadata": {
    "id": "0kQ0HtXvRfPZ"
   },
   "outputs": [],
   "source": [
    "# Your Code Here#\n"
   ]
  },
  {
   "cell_type": "markdown",
   "metadata": {
    "id": "YEDbBZKpR14i"
   },
   "source": [
    "\n",
    "\n",
    ">(c)  Print the array transposed:\n",
    "\n",
    "\n"
   ]
  },
  {
   "cell_type": "code",
   "execution_count": null,
   "metadata": {
    "id": "A8dgmHOtR1OJ"
   },
   "outputs": [],
   "source": [
    "# Your Code Here#\n"
   ]
  },
  {
   "cell_type": "markdown",
   "metadata": {
    "id": "nIIIj6a4R5vA"
   },
   "source": [
    "\n",
    "\n",
    ">(d)  Print the array flattened to a single dimension:\n",
    "\n",
    "\n"
   ]
  },
  {
   "cell_type": "code",
   "execution_count": null,
   "metadata": {
    "id": "qUrxPgsJR4CV"
   },
   "outputs": [],
   "source": [
    "# Your Code Here#\n"
   ]
  },
  {
   "cell_type": "markdown",
   "metadata": {
    "id": "N_NnXhzASPHS"
   },
   "source": [
    "\n",
    "\n",
    ">(e)  Print the array converted to floats:\n",
    "\n",
    "\n"
   ]
  },
  {
   "cell_type": "code",
   "execution_count": null,
   "metadata": {
    "id": "W0d3RFvDSQlA"
   },
   "outputs": [],
   "source": [
    "# Your Code Here#\n"
   ]
  },
  {
   "cell_type": "markdown",
   "metadata": {
    "id": "wlaXfi70SSUC"
   },
   "source": [
    "\n",
    "\n",
    ">(f) Create a 2-D array shape (2, 4) containing two lists [0, 3.1, 2.2, 1.1] and [7, 4, 3.14, 11] and assign it to the variable \"arr2\":\n",
    "\n",
    "\n"
   ]
  },
  {
   "cell_type": "code",
   "execution_count": null,
   "metadata": {
    "id": "u2ieDOfHSTLw"
   },
   "outputs": [],
   "source": [
    "# Your Code Here#\n",
    "arr2=[]\n",
    "\n",
    "print(arr2)"
   ]
  },
  {
   "cell_type": "code",
   "execution_count": null,
   "metadata": {
    "id": "SU7Q5BMMYtXB"
   },
   "outputs": [],
   "source": []
  },
  {
   "cell_type": "markdown",
   "metadata": {
    "id": "b7N5elRAST-u"
   },
   "source": [
    "\n",
    "\n",
    ">(g) Use  concatenate  function to concatenate \"arr\" and \"arr2\":\n",
    "\n",
    "\n"
   ]
  },
  {
   "cell_type": "code",
   "execution_count": null,
   "metadata": {
    "id": "NLxAKMvnSUdU"
   },
   "outputs": [],
   "source": [
    "# Your Code Here#\n",
    "arr_conc = []\n",
    "\n",
    "print(arr_conc)"
   ]
  }
 ],
 "metadata": {
  "accelerator": "GPU",
  "colab": {
   "collapsed_sections": [],
   "name": "Exercise #2 -  Interrogating and manipulating arrays.ipynb",
   "provenance": []
  },
  "kernelspec": {
   "display_name": "Python 3",
   "language": "python",
   "name": "python3"
  },
  "language_info": {
   "codemirror_mode": {
    "name": "ipython",
    "version": 3
   },
   "file_extension": ".py",
   "mimetype": "text/x-python",
   "name": "python",
   "nbconvert_exporter": "python",
   "pygments_lexer": "ipython3",
   "version": "3.8.5"
  }
 },
 "nbformat": 4,
 "nbformat_minor": 1
}
