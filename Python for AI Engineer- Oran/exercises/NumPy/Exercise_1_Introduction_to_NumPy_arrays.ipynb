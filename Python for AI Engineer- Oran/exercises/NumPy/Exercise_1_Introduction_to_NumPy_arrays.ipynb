{
 "cells": [
  {
   "cell_type": "markdown",
   "metadata": {
    "id": "IZe1ZEda2w-d"
   },
   "source": [
    "# Exercise #1: Introduction to NumPy arrays\n",
    "\n",
    "\n",
    "## Let’s create arrays in different ways:\n",
    "\n",
    "First, you should import numpy as np"
   ]
  },
  {
   "cell_type": "code",
   "execution_count": null,
   "metadata": {
    "id": "4dgyBR1B3QVZ"
   },
   "outputs": [],
   "source": [
    "import numpy as np"
   ]
  },
  {
   "cell_type": "markdown",
   "metadata": {
    "id": "TWRqPfxK5Q-M"
   },
   "source": [
    "\n",
    "\n",
    "### 1.   Other ways to create arrays\n",
    "\n"
   ]
  },
  {
   "cell_type": "markdown",
   "metadata": {
    "id": "tCxziE8W6ryJ"
   },
   "source": [
    "\n",
    ">(a) Create an array of zeros of shape (2,3,4) :\n",
    "\n",
    "\n",
    "\n",
    "\n",
    "\n"
   ]
  },
  {
   "cell_type": "code",
   "execution_count": null,
   "metadata": {
    "id": "M8Gr9PQC64mb"
   },
   "outputs": [],
   "source": [
    "# Use np.zeros to create a (2,3,4) zero array\n",
    "# Your Code Here#\n",
    "a = []\n",
    "\n",
    "print(a)"
   ]
  },
  {
   "cell_type": "markdown",
   "metadata": {
    "id": "GFuaihgyHR8h"
   },
   "source": [
    " >(b) Create an array of ones of shape (2,3,4) :\n"
   ]
  },
  {
   "cell_type": "code",
   "execution_count": null,
   "metadata": {
    "id": "DXloqUXrK-nM"
   },
   "outputs": [],
   "source": [
    "# Use np.ones to create a (2,3,4) ones array\n",
    "# Your Code Here#\n",
    "b = []\n",
    "\n",
    "print(b)"
   ]
  },
  {
   "cell_type": "markdown",
   "metadata": {
    "id": "YwOaU7VcdSJv"
   },
   "source": [
    ">(c) Create an array with values 0 to 999 using  np.arange  function."
   ]
  },
  {
   "cell_type": "code",
   "execution_count": null,
   "metadata": {
    "id": "Z4W9cPdLdRwO"
   },
   "outputs": [],
   "source": [
    "# Your Code Here#\n",
    "c = []\n",
    "print(c)"
   ]
  },
  {
   "cell_type": "markdown",
   "metadata": {
    "id": "FYVNbNKrdftn"
   },
   "source": [
    ">(d) Create a 2-D array from the list [[1, 2.1, 3.2], [4, 5.4, 6.5]]:\n"
   ]
  },
  {
   "cell_type": "code",
   "execution_count": null,
   "metadata": {
    "id": "n166KmacTRIl"
   },
   "outputs": [],
   "source": [
    "# Try to define the list first and only after that convert it into an array\n",
    "# Your Code Here#\n",
    "d = []\n",
    "\n",
    "print(d)"
   ]
  },
  {
   "cell_type": "markdown",
   "metadata": {
    "id": "RY7sTdBReGvv"
   },
   "source": [
    ">(e) Create a new array of zeros with the same dimensions and type of \"d\"."
   ]
  },
  {
   "cell_type": "code",
   "execution_count": null,
   "metadata": {
    "id": "-b3SqFpIeTFT"
   },
   "outputs": [],
   "source": [
    "# Your Code Here#\n",
    "e = []\n",
    "\n",
    "print(e)"
   ]
  },
  {
   "cell_type": "markdown",
   "metadata": {
    "id": "tfM0YQbrfFLF"
   },
   "source": [
    ">(f) Create a new array of ones with the same dimensions and type of \"d\"."
   ]
  },
  {
   "cell_type": "code",
   "execution_count": null,
   "metadata": {
    "id": "thEZ0xMAfEuu"
   },
   "outputs": [],
   "source": [
    "f = []\n",
    "\n",
    "print(f)"
   ]
  },
  {
   "cell_type": "markdown",
   "metadata": {
    "id": "uaoKJvoqfNpj"
   },
   "source": [
    "### 2.  Let’s look at indexing and slicing arrays.\n",
    "\n"
   ]
  },
  {
   "cell_type": "markdown",
   "metadata": {
    "id": "LVRO3XwefWkx"
   },
   "source": [
    ">(a) Create an array from the list [2, 3.4, 5.5, -6.4, -2.2, 2.4]:"
   ]
  },
  {
   "cell_type": "code",
   "execution_count": null,
   "metadata": {
    "id": "KJQa-ewLgU8j"
   },
   "outputs": [],
   "source": [
    "# Your code here:\n",
    "a2 = []\n",
    "\n",
    "print(a2)"
   ]
  },
  {
   "cell_type": "markdown",
   "metadata": {
    "id": "4aJDLH4Ngcqf"
   },
   "source": [
    ">(b) Do you know what a[1] will equal? Print it to see.\n"
   ]
  },
  {
   "cell_type": "code",
   "execution_count": null,
   "metadata": {
    "id": "WmM93vxWgUxK"
   },
   "outputs": [],
   "source": [
    "# Your code here:\n"
   ]
  },
  {
   "cell_type": "markdown",
   "metadata": {
    "id": "1OCgIo60fWYl"
   },
   "source": [
    ">(c) Try printing a[1:4] to see what that equals."
   ]
  },
  {
   "cell_type": "code",
   "execution_count": null,
   "metadata": {
    "id": "_tYqMNmPgTJL"
   },
   "outputs": [],
   "source": [
    "# Your code here:\n"
   ]
  },
  {
   "cell_type": "markdown",
   "metadata": {
    "id": "vj43JoUjgqRX"
   },
   "source": [
    ">(d) Write a statement testing if \"a2\" contains the value 10."
   ]
  },
  {
   "cell_type": "code",
   "execution_count": null,
   "metadata": {
    "id": "nmTyRJROfV5v"
   },
   "outputs": [],
   "source": [
    "# Your code here:\n"
   ]
  },
  {
   "cell_type": "markdown",
   "metadata": {
    "id": "picuPq5OhYeB"
   },
   "source": [
    ">(e) Create a 2-D array from the following list and assign it to the variable \"b2\".\n",
    "\t[[2, 3.2, 5.5, -6.4, -2.2, 2.4],\n",
    "\t [1, 22, 4, 0.1, 5.3, -9],\n",
    "\t [3, 1, 2.1, 21, 1.1, -2]]\n"
   ]
  },
  {
   "cell_type": "code",
   "execution_count": null,
   "metadata": {
    "id": "jnxE80w1hjTo"
   },
   "outputs": [],
   "source": [
    "# Your code here:\n",
    "b2 = []\n",
    "\n",
    "print(b2)"
   ]
  },
  {
   "cell_type": "markdown",
   "metadata": {
    "id": "udfb1cgGhrA3"
   },
   "source": [
    ">(f) Can you guess what the following slices are equal to? Print them to check your understanding.\n",
    "\t\tb2[:, 3]\n",
    "\t\tb2[1:4, 0:4]\n",
    "\t\tb2[1:, 2]\n"
   ]
  },
  {
   "cell_type": "code",
   "execution_count": null,
   "metadata": {
    "id": "nlU81L1Nh4Vg"
   },
   "outputs": [],
   "source": [
    "# Your code here:\n"
   ]
  }
 ],
 "metadata": {
  "accelerator": "GPU",
  "colab": {
   "collapsed_sections": [],
   "name": "Ex1-Introduction to NumPy arrays.ipynb",
   "provenance": []
  },
  "kernelspec": {
   "display_name": "Python 3",
   "language": "python",
   "name": "python3"
  },
  "language_info": {
   "codemirror_mode": {
    "name": "ipython",
    "version": 3
   },
   "file_extension": ".py",
   "mimetype": "text/x-python",
   "name": "python",
   "nbconvert_exporter": "python",
   "pygments_lexer": "ipython3",
   "version": "3.8.5"
  }
 },
 "nbformat": 4,
 "nbformat_minor": 1
}
