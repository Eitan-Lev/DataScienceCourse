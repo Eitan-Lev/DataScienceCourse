{
 "cells": [
  {
   "cell_type": "markdown",
   "metadata": {
    "id": "IZe1ZEda2w-d"
   },
   "source": [
    "# Exercise #3: Array calculations and operations\n",
    "\n",
    "### Aim: Use NumPy arrays in mathematical calculations\n",
    "\n",
    "In this exercise we refers to a useful guide that can help you solve any questions in NumPy. This guide also summarize all that is needed to know about NumPy.\n",
    "\n",
    "### Issue covered:\n",
    "\n",
    "\n",
    "\n",
    "*   Mathematical operations with arrays.\n",
    "*   Mathematical operations mixing scalars and arrays.\n",
    "*   Comparisons operators and Boolean operations on arrays.\n",
    "*   Using the \"where\" method.\n",
    "*   Mathematical operations on vectors.\n",
    "*   Find coefficients and roots of polynomial.\n",
    "\n",
    "\n",
    "\n",
    "First, import NumPy as np:\n",
    "\n",
    "\n",
    "\n",
    "\n",
    "\n"
   ]
  },
  {
   "cell_type": "code",
   "execution_count": null,
   "metadata": {
    "id": "4dgyBR1B3QVZ"
   },
   "outputs": [],
   "source": [
    "import numpy as np"
   ]
  },
  {
   "cell_type": "markdown",
   "metadata": {
    "id": "TWRqPfxK5Q-M"
   },
   "source": [
    "\n",
    "\n",
    "### 1.  Let’s perform some array calculations.\n",
    "\n",
    "\n"
   ]
  },
  {
   "cell_type": "markdown",
   "metadata": {
    "id": "tCxziE8W6ryJ"
   },
   "source": [
    "\n",
    "> (a) Create a 2-D array of shape (2, 4) containing two lists (range(4), range(10, 14)) and assign it to the variable \"a\":\n",
    "\n",
    "\n",
    "\n",
    "\n",
    "\n",
    "\n"
   ]
  },
  {
   "cell_type": "code",
   "execution_count": null,
   "metadata": {
    "id": "M8Gr9PQC64mb"
   },
   "outputs": [],
   "source": [
    "# Your Code Here#\n",
    "a = []\n",
    "\n",
    "Print(a)"
   ]
  },
  {
   "cell_type": "markdown",
   "metadata": {
    "id": "GFuaihgyHR8h"
   },
   "source": [
    "> (b) Create a 1-D array with the vailues [2, -1, 1, 0] and assign it to the variable \"b\" :\n"
   ]
  },
  {
   "cell_type": "code",
   "execution_count": null,
   "metadata": {
    "id": "U3jo3clSQe2L"
   },
   "outputs": [],
   "source": [
    "# Your Code Here#\n",
    "b = []\n",
    "\n",
    "Print(b)"
   ]
  },
  {
   "cell_type": "markdown",
   "metadata": {
    "id": "S9JfjvRNQXRX"
   },
   "source": [
    "\n",
    "> (c) Multiply array \"a\" by \"b\" and view the results:\n",
    "\n",
    "\n"
   ]
  },
  {
   "cell_type": "code",
   "execution_count": null,
   "metadata": {
    "id": "DXloqUXrK-nM"
   },
   "outputs": [],
   "source": [
    "# Your Code Here#\n"
   ]
  },
  {
   "cell_type": "markdown",
   "metadata": {
    "id": "W8GJq0rf1RTA"
   },
   "source": [
    "Do you understand how NumPy has used its broadcasting feature to do the calculation even though the arrays are different shapes?"
   ]
  },
  {
   "cell_type": "markdown",
   "metadata": {
    "id": "uT_f2eLVQg3h"
   },
   "source": [
    "\n",
    "\n",
    "> (d) Multiply array \"b\" by 100 and assign the result to the variable \"b1\":\n",
    "\n"
   ]
  },
  {
   "cell_type": "code",
   "execution_count": null,
   "metadata": {
    "id": "wcVdZoTuQnx5"
   },
   "outputs": [],
   "source": [
    "# Your Code Here#\n",
    "b1 =[]\n",
    "\n",
    "print(b1)"
   ]
  },
  {
   "cell_type": "markdown",
   "metadata": {
    "id": "tPgGzdv1V3lX"
   },
   "source": [
    "\n",
    "\n",
    "> (e) Multiply array \"b\" by 100.0 and assign the result to the variable \"b2\":\n",
    "\n"
   ]
  },
  {
   "cell_type": "code",
   "execution_count": null,
   "metadata": {
    "id": "chRMlDigV4K4"
   },
   "outputs": [],
   "source": [
    "# Your Code Here#\n",
    "b2 =[]\n",
    "\n",
    "print(b2)"
   ]
  },
  {
   "cell_type": "markdown",
   "metadata": {
    "id": "fxR1WFi5V6bZ"
   },
   "source": [
    "\n",
    "\n",
    ">(f) Print b1 == b2:\n",
    "\n",
    "\n",
    "\n"
   ]
  },
  {
   "cell_type": "code",
   "execution_count": null,
   "metadata": {
    "id": "JLwxkjOaV6_T"
   },
   "outputs": [],
   "source": [
    "# Your Code Here#\n"
   ]
  },
  {
   "cell_type": "markdown",
   "metadata": {
    "id": "CoEpdBZc1yyO"
   },
   "source": [
    "Are they the same?"
   ]
  },
  {
   "cell_type": "markdown",
   "metadata": {
    "id": "hbafHSgGWPtC"
   },
   "source": [
    "\n",
    "\n",
    ">(g) Why do they display differently? Interrogate the typecode of each array to find out why:\n",
    "\n"
   ]
  },
  {
   "cell_type": "code",
   "execution_count": null,
   "metadata": {
    "id": "ofR9uzC_WQc8"
   },
   "outputs": [],
   "source": [
    "# Your Code Here#\n"
   ]
  },
  {
   "cell_type": "markdown",
   "metadata": {
    "id": "ymRcEsoPQor3"
   },
   "source": [
    "###2. Let's perform some operations on array.\n",
    "\n",
    "\n"
   ]
  },
  {
   "cell_type": "markdown",
   "metadata": {
    "id": "5mB8SDGwQ1hA"
   },
   "source": [
    "\n",
    "\n",
    "> (a) Continue to use arrays \"a\" defined above:\n",
    "\n",
    "\n"
   ]
  },
  {
   "cell_type": "markdown",
   "metadata": {
    "id": "V7VOA6lWRulp"
   },
   "source": [
    "\n",
    "\n",
    "> (b) Print the sum, mean and the product of \"a\" in two different ways:\n",
    "\n",
    "\n"
   ]
  },
  {
   "cell_type": "code",
   "execution_count": null,
   "metadata": {
    "id": "0kQ0HtXvRfPZ"
   },
   "outputs": [],
   "source": [
    "# Your Code Here#\n"
   ]
  },
  {
   "cell_type": "markdown",
   "metadata": {
    "id": "YEDbBZKpR14i"
   },
   "source": [
    "\n",
    "\n",
    ">(c) Print the variance and the standard deviation of \"a\"in two different ways:\n",
    "\n",
    "\n"
   ]
  },
  {
   "cell_type": "code",
   "execution_count": null,
   "metadata": {
    "id": "A8dgmHOtR1OJ"
   },
   "outputs": [],
   "source": [
    "# Your Code Here#\n"
   ]
  },
  {
   "cell_type": "markdown",
   "metadata": {
    "id": "HiSsOJ1zZAj0"
   },
   "source": [
    "###3. Let’s look at array comparisons."
   ]
  },
  {
   "cell_type": "markdown",
   "metadata": {
    "id": "b7N5elRAST-u"
   },
   "source": [
    "\n",
    "\n",
    ">(a)  Create an array of values 0 to 9 and assign it to the variable \"arr\":\n",
    "\n",
    "\n"
   ]
  },
  {
   "cell_type": "code",
   "execution_count": null,
   "metadata": {
    "id": "NLxAKMvnSUdU"
   },
   "outputs": [],
   "source": [
    "# Your Code Here#\n",
    "arr = []\n",
    "\n",
    "print(arr)"
   ]
  },
  {
   "cell_type": "markdown",
   "metadata": {
    "id": "EQKgp9DtSVis"
   },
   "source": [
    "\n",
    "\n",
    ">(b)  Print two different ways of expressing the condition where the array is less than 3:\n",
    "\n",
    "\n"
   ]
  },
  {
   "cell_type": "code",
   "execution_count": null,
   "metadata": {
    "id": "3TNZKchOSbzx"
   },
   "outputs": [],
   "source": [
    "# Your Code Here#\n"
   ]
  },
  {
   "cell_type": "markdown",
   "metadata": {
    "id": "M_Uht7xyZKGj"
   },
   "source": [
    "\n",
    "\n",
    ">(c)  Create a numpy condition where \"arr\" is less than 3 OR greater than 8:\n",
    "\n",
    "\n"
   ]
  },
  {
   "cell_type": "code",
   "execution_count": null,
   "metadata": {
    "id": "vhcw0ivoabhH"
   },
   "outputs": [],
   "source": [
    "# Your Code Here#\n"
   ]
  },
  {
   "cell_type": "markdown",
   "metadata": {
    "id": "S8uivrLuZKHB"
   },
   "source": [
    "\n",
    "\n",
    ">(d)  Use the  *where*  function to create a new array where the value is arr * 5 if the above condition is True and arr * -5 where the condition is False:\n",
    "\n",
    "\n"
   ]
  },
  {
   "cell_type": "code",
   "execution_count": null,
   "metadata": {
    "id": "oDeBQhLQZKHD"
   },
   "outputs": [],
   "source": [
    "# Your Code Here#\n"
   ]
  },
  {
   "cell_type": "markdown",
   "metadata": {
    "id": "Qyqe78f9ZC5N"
   },
   "source": [
    "###4. Let’s look at item selection and manipulation.\n"
   ]
  },
  {
   "cell_type": "markdown",
   "metadata": {
    "id": "ZKU-9cUnZL9f"
   },
   "source": [
    "\n",
    "\n",
    ">(a)  Continue to use arrays \"a\" defined above:\n",
    "\n",
    "\n"
   ]
  },
  {
   "cell_type": "markdown",
   "metadata": {
    "id": "BXR-B8keZL9o"
   },
   "source": [
    "\n",
    "\n",
    ">(b)  Print an array contains all the values from \"a\" that are greater than 1:\n",
    "\n",
    "\n"
   ]
  },
  {
   "cell_type": "code",
   "execution_count": null,
   "metadata": {
    "id": "bBhq6lKqZL9p"
   },
   "outputs": [],
   "source": [
    "# Your Code Here#\n"
   ]
  },
  {
   "cell_type": "markdown",
   "metadata": {
    "id": "momFetd_ZL9t"
   },
   "source": [
    "\n",
    "\n",
    ">(c)  Print an array contains all the values from \"a\" that are greater than 3 and smaller than 11:\n",
    "\n",
    "\n"
   ]
  },
  {
   "cell_type": "code",
   "execution_count": null,
   "metadata": {
    "id": "rHI4S7sfZL9u"
   },
   "outputs": [],
   "source": [
    "# Your Code Here#\n"
   ]
  },
  {
   "cell_type": "markdown",
   "metadata": {
    "id": "zONW_cEvZL9y"
   },
   "source": [
    "\n",
    "\n",
    ">(d)  Create an array from the list range(6) and assign it to the variable \"b\":\n",
    "\n"
   ]
  },
  {
   "cell_type": "code",
   "execution_count": null,
   "metadata": {
    "id": "Ol5cQ93GZL90"
   },
   "outputs": [],
   "source": [
    "# Your Code Here#\n"
   ]
  },
  {
   "cell_type": "markdown",
   "metadata": {
    "id": "TtS3z4rQZL95"
   },
   "source": [
    "\n",
    "\n",
    ">(e)  Use the  *put*  function to replace the first element of \"b\" with 6:\n",
    "\n",
    "\n"
   ]
  },
  {
   "cell_type": "code",
   "execution_count": null,
   "metadata": {
    "id": "ZjKZYkFJZL96"
   },
   "outputs": [],
   "source": [
    "# Your Code Here#\n"
   ]
  },
  {
   "cell_type": "markdown",
   "metadata": {
    "id": "viMNO5ikZL9-"
   },
   "source": [
    "\n",
    "\n",
    ">(f)  Create an array from the list range(5) and assign it to the variable \"c\":\n",
    "\n",
    "\n"
   ]
  },
  {
   "cell_type": "code",
   "execution_count": null,
   "metadata": {
    "id": "QPIY4YztZL9_"
   },
   "outputs": [],
   "source": [
    "# Your Code Here#\n"
   ]
  },
  {
   "cell_type": "markdown",
   "metadata": {
    "id": "or4R15o-b0jq"
   },
   "source": [
    "\n",
    "\n",
    ">(g)   Use the  *put*  function to replace the first element of \"b\" with the last element of \"c\":\n",
    "\n"
   ]
  },
  {
   "cell_type": "code",
   "execution_count": null,
   "metadata": {
    "id": "OSFMwExBb3Tu"
   },
   "outputs": [],
   "source": [
    "# Your Code Here#\n"
   ]
  }
 ],
 "metadata": {
  "accelerator": "GPU",
  "colab": {
   "collapsed_sections": [],
   "name": "Exercise #3: Array calculations and operations.ipynb",
   "provenance": []
  },
  "kernelspec": {
   "display_name": "Python 3",
   "language": "python",
   "name": "python3"
  },
  "language_info": {
   "codemirror_mode": {
    "name": "ipython",
    "version": 3
   },
   "file_extension": ".py",
   "mimetype": "text/x-python",
   "name": "python",
   "nbconvert_exporter": "python",
   "pygments_lexer": "ipython3",
   "version": "3.8.5"
  }
 },
 "nbformat": 4,
 "nbformat_minor": 1
}
