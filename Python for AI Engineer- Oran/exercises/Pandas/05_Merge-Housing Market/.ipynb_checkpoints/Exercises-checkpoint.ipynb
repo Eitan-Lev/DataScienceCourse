{
 "cells": [
  {
   "cell_type": "markdown",
   "metadata": {},
   "source": [
    "# Housing Market"
   ]
  },
  {
   "cell_type": "markdown",
   "metadata": {},
   "source": [
    "### Introduction:\n",
    "\n",
    "This time we will create our own dataset with fictional numbers to describe a house market. As we are going to create random data don't try to reason of the numbers.\n",
    "\n",
    "### Step 1. Import the necessary libraries"
   ]
  },
  {
   "cell_type": "code",
   "execution_count": 1,
   "metadata": {},
   "outputs": [],
   "source": [
    "import pandas as pd\n",
    "import numpy as np"
   ]
  },
  {
   "cell_type": "markdown",
   "metadata": {},
   "source": [
    "### Step 2. Create 3 differents Series, each of length 100, as follows: \n",
    "1. The first a random number from 1 to 4 \n",
    "2. The second a random number from 1 to 3\n",
    "3. The third a random number from 10,000 to 30,000"
   ]
  },
  {
   "cell_type": "code",
   "execution_count": 7,
   "metadata": {},
   "outputs": [
    {
     "data": {
      "text/plain": [
       "(array([4, 1, 4, 1, 4, 1, 2, 4, 4, 2, 2, 3, 3, 1, 4, 1, 1, 1, 2, 4, 3, 1,\n",
       "        3, 3, 1, 2, 2, 3, 1, 1, 3, 3, 4, 3, 4, 4, 3, 2, 4, 2, 1, 2, 3, 4,\n",
       "        1, 4, 1, 3, 1, 4, 1, 2, 2, 2, 2, 3, 1, 3, 4, 4, 1, 2, 4, 2, 4, 2,\n",
       "        4, 4, 3, 4, 4, 4, 4, 4, 2, 4, 4, 2, 2, 3, 4, 2, 3, 3, 4, 2, 3, 3,\n",
       "        4, 1, 2, 2, 3, 4, 2, 2, 2, 4, 3, 2]),\n",
       " array([2, 3, 1, 3, 2, 1, 1, 3, 1, 2, 2, 2, 2, 3, 3, 3, 1, 3, 1, 2, 1, 3,\n",
       "        3, 3, 1, 3, 3, 3, 1, 3, 2, 3, 2, 2, 3, 2, 3, 2, 3, 1, 2, 2, 3, 3,\n",
       "        2, 2, 2, 1, 1, 2, 1, 3, 2, 1, 2, 3, 2, 2, 2, 1, 3, 1, 3, 2, 3, 1,\n",
       "        3, 1, 2, 1, 3, 3, 1, 2, 2, 3, 2, 3, 2, 3, 1, 3, 1, 3, 2, 3, 3, 2,\n",
       "        1, 2, 3, 1, 3, 2, 1, 1, 2, 3, 1, 3]),\n",
       " array([171671, 176063,  12557,  43478, 269461, 180086,  73350,  90982,\n",
       "         28446,  24268, 255945, 191499, 152123,  73544, 156230,  68253,\n",
       "         34114, 257190, 145403, 172578,  14439,  52883,  48738,  45740,\n",
       "         91554,  12981, 175130, 213786, 260176, 172928, 232231,  69742,\n",
       "        137102, 290336, 224181, 272963,  80685, 154936, 161857, 127006,\n",
       "        125593, 199117, 238135, 293838, 177165, 249592, 290855,  25888,\n",
       "        264084, 103329, 137865, 133887, 196392, 103540,  48240, 139440,\n",
       "        239116, 171980, 102114, 108407, 103455,  58677, 151251, 181177,\n",
       "        222702, 251384, 212723, 194244, 266772, 146782, 123419, 182506,\n",
       "        150161, 272595, 132000, 281264,  33583, 214846, 271839,  22388,\n",
       "        266477, 139400, 203974, 103448, 292200, 196034,  19080, 123091,\n",
       "        189421,  41024, 199683, 127048, 156924,  51907, 284295, 188845,\n",
       "        293174,  16326, 221579, 248850]))"
      ]
     },
     "execution_count": 7,
     "metadata": {},
     "output_type": "execute_result"
    }
   ],
   "source": [
    "s1 = np.random.randint(1,5,100)\n",
    "s2 = np.random.randint(1,4,100)\n",
    "s3 = np.random.randint(10000,300001,100)\n",
    "t"
   ]
  },
  {
   "cell_type": "markdown",
   "metadata": {},
   "source": [
    "### Step 3. Let's create a DataFrame by joinning the Series by column"
   ]
  },
  {
   "cell_type": "code",
   "execution_count": null,
   "metadata": {},
   "outputs": [],
   "source": []
  },
  {
   "cell_type": "markdown",
   "metadata": {},
   "source": [
    "### Step 4. Change the name of the columns to bedrs, bathrs, price_sqr_meter"
   ]
  },
  {
   "cell_type": "code",
   "execution_count": null,
   "metadata": {},
   "outputs": [],
   "source": []
  },
  {
   "cell_type": "markdown",
   "metadata": {},
   "source": [
    "### Step 5. Create a one column DataFrame with the values of the 3 Series and assign it to 'bigcolumn'"
   ]
  },
  {
   "cell_type": "code",
   "execution_count": null,
   "metadata": {},
   "outputs": [],
   "source": []
  },
  {
   "cell_type": "markdown",
   "metadata": {},
   "source": [
    "### Step 6. Oops, it seems it is going only until index 99. Is it true?"
   ]
  },
  {
   "cell_type": "code",
   "execution_count": null,
   "metadata": {},
   "outputs": [],
   "source": []
  },
  {
   "cell_type": "markdown",
   "metadata": {},
   "source": [
    "### Step 7. Reindex the DataFrame so it goes from 0 to 299"
   ]
  },
  {
   "cell_type": "code",
   "execution_count": null,
   "metadata": {},
   "outputs": [],
   "source": []
  }
 ],
 "metadata": {
  "kernelspec": {
   "display_name": "Python 3",
   "language": "python",
   "name": "python3"
  },
  "language_info": {
   "codemirror_mode": {
    "name": "ipython",
    "version": 3
   },
   "file_extension": ".py",
   "mimetype": "text/x-python",
   "name": "python",
   "nbconvert_exporter": "python",
   "pygments_lexer": "ipython3",
   "version": "3.8.8"
  }
 },
 "nbformat": 4,
 "nbformat_minor": 1
}
