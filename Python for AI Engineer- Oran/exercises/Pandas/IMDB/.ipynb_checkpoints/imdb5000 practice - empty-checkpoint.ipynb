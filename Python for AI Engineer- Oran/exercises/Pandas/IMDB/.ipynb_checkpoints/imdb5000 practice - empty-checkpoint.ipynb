{
 "cells": [
  {
   "cell_type": "markdown",
   "metadata": {
    "colab_type": "text",
    "id": "QdokgyPNsRpx"
   },
   "source": [
    "# Preliminaries"
   ]
  },
  {
   "cell_type": "code",
   "execution_count": 1,
   "metadata": {
    "colab": {},
    "colab_type": "code",
    "id": "c2Ao6YTcsRps"
   },
   "outputs": [],
   "source": [
    "import pandas as pd\n",
    "%matplotlib inline"
   ]
  },
  {
   "cell_type": "markdown",
   "metadata": {
    "colab_type": "text",
    "id": "umI96_apsRpz"
   },
   "source": [
    "First we import the file 'imdb.csv'."
   ]
  },
  {
   "cell_type": "markdown",
   "metadata": {
    "colab_type": "text",
    "id": "zU0n7NpdsRp1"
   },
   "source": [
    "> **Note:** The names of the movies end with the unicode character \\\\xa0, which we would like to remove. To do that you should use the argument _encoding='utf-8-sig'_ and replace it with an empty string (explained [here][1]).\n",
    "\n",
    "[1]: https://stackoverflow.com/questions/10993612/python-removing-xa0-from-string \"reindex\""
   ]
  },
  {
   "cell_type": "code",
   "execution_count": 2,
   "metadata": {
    "colab": {
     "base_uri": "https://localhost:8080/",
     "height": 459
    },
    "colab_type": "code",
    "executionInfo": {
     "elapsed": 801,
     "status": "ok",
     "timestamp": 1580824166488,
     "user": {
      "displayName": "Amit Rappel",
      "photoUrl": "https://lh3.googleusercontent.com/a-/AAuE7mCpe5u5WeIPUl8KIs0q9y-EzHhNpEOmf41uRn8SmQ=s64",
      "userId": "16505003500853190417"
     },
     "user_tz": -120
    },
    "id": "x10WKDVZt38i",
    "outputId": "c9137c2f-900e-49be-9b49-e957da944178"
   },
   "outputs": [
    {
     "name": "stdout",
     "output_type": "stream",
     "text": [
      "The shape of the raw data is: (5043, 27)\n"
     ]
    },
    {
     "data": {
      "text/html": [
       "<div>\n",
       "<style scoped>\n",
       "    .dataframe tbody tr th:only-of-type {\n",
       "        vertical-align: middle;\n",
       "    }\n",
       "\n",
       "    .dataframe tbody tr th {\n",
       "        vertical-align: top;\n",
       "    }\n",
       "\n",
       "    .dataframe thead th {\n",
       "        text-align: right;\n",
       "    }\n",
       "</style>\n",
       "<table border=\"1\" class=\"dataframe\">\n",
       "  <thead>\n",
       "    <tr style=\"text-align: right;\">\n",
       "      <th></th>\n",
       "      <th>color</th>\n",
       "      <th>director_name</th>\n",
       "      <th>num_critic_for_reviews</th>\n",
       "      <th>duration</th>\n",
       "      <th>director_facebook_likes</th>\n",
       "      <th>actor_3_facebook_likes</th>\n",
       "      <th>actor_2_name</th>\n",
       "      <th>actor_1_facebook_likes</th>\n",
       "      <th>gross</th>\n",
       "      <th>genres</th>\n",
       "      <th>...</th>\n",
       "      <th>num_user_for_reviews</th>\n",
       "      <th>language</th>\n",
       "      <th>country</th>\n",
       "      <th>content_rating</th>\n",
       "      <th>budget</th>\n",
       "      <th>title_year</th>\n",
       "      <th>actor_2_facebook_likes</th>\n",
       "      <th>imdb_score</th>\n",
       "      <th>aspect_ratio</th>\n",
       "      <th>movie_facebook_likes</th>\n",
       "    </tr>\n",
       "    <tr>\n",
       "      <th>movie_title</th>\n",
       "      <th></th>\n",
       "      <th></th>\n",
       "      <th></th>\n",
       "      <th></th>\n",
       "      <th></th>\n",
       "      <th></th>\n",
       "      <th></th>\n",
       "      <th></th>\n",
       "      <th></th>\n",
       "      <th></th>\n",
       "      <th></th>\n",
       "      <th></th>\n",
       "      <th></th>\n",
       "      <th></th>\n",
       "      <th></th>\n",
       "      <th></th>\n",
       "      <th></th>\n",
       "      <th></th>\n",
       "      <th></th>\n",
       "      <th></th>\n",
       "      <th></th>\n",
       "    </tr>\n",
       "  </thead>\n",
       "  <tbody>\n",
       "    <tr>\n",
       "      <th>Avatar</th>\n",
       "      <td>Color</td>\n",
       "      <td>James Cameron</td>\n",
       "      <td>723.0</td>\n",
       "      <td>178.0</td>\n",
       "      <td>0.0</td>\n",
       "      <td>855.0</td>\n",
       "      <td>Joel David Moore</td>\n",
       "      <td>1000.0</td>\n",
       "      <td>760505847.0</td>\n",
       "      <td>Action|Adventure|Fantasy|Sci-Fi</td>\n",
       "      <td>...</td>\n",
       "      <td>3054.0</td>\n",
       "      <td>English</td>\n",
       "      <td>USA</td>\n",
       "      <td>PG-13</td>\n",
       "      <td>237000000.0</td>\n",
       "      <td>2009.0</td>\n",
       "      <td>936.0</td>\n",
       "      <td>7.9</td>\n",
       "      <td>1.78</td>\n",
       "      <td>33000</td>\n",
       "    </tr>\n",
       "    <tr>\n",
       "      <th>Pirates of the Caribbean: At World's End</th>\n",
       "      <td>Color</td>\n",
       "      <td>Gore Verbinski</td>\n",
       "      <td>302.0</td>\n",
       "      <td>169.0</td>\n",
       "      <td>563.0</td>\n",
       "      <td>1000.0</td>\n",
       "      <td>Orlando Bloom</td>\n",
       "      <td>40000.0</td>\n",
       "      <td>309404152.0</td>\n",
       "      <td>Action|Adventure|Fantasy</td>\n",
       "      <td>...</td>\n",
       "      <td>1238.0</td>\n",
       "      <td>English</td>\n",
       "      <td>USA</td>\n",
       "      <td>PG-13</td>\n",
       "      <td>300000000.0</td>\n",
       "      <td>2007.0</td>\n",
       "      <td>5000.0</td>\n",
       "      <td>7.1</td>\n",
       "      <td>2.35</td>\n",
       "      <td>0</td>\n",
       "    </tr>\n",
       "    <tr>\n",
       "      <th>Spectre</th>\n",
       "      <td>Color</td>\n",
       "      <td>Sam Mendes</td>\n",
       "      <td>602.0</td>\n",
       "      <td>148.0</td>\n",
       "      <td>0.0</td>\n",
       "      <td>161.0</td>\n",
       "      <td>Rory Kinnear</td>\n",
       "      <td>11000.0</td>\n",
       "      <td>200074175.0</td>\n",
       "      <td>Action|Adventure|Thriller</td>\n",
       "      <td>...</td>\n",
       "      <td>994.0</td>\n",
       "      <td>English</td>\n",
       "      <td>UK</td>\n",
       "      <td>PG-13</td>\n",
       "      <td>245000000.0</td>\n",
       "      <td>2015.0</td>\n",
       "      <td>393.0</td>\n",
       "      <td>6.8</td>\n",
       "      <td>2.35</td>\n",
       "      <td>85000</td>\n",
       "    </tr>\n",
       "    <tr>\n",
       "      <th>The Dark Knight Rises</th>\n",
       "      <td>Color</td>\n",
       "      <td>Christopher Nolan</td>\n",
       "      <td>813.0</td>\n",
       "      <td>164.0</td>\n",
       "      <td>22000.0</td>\n",
       "      <td>23000.0</td>\n",
       "      <td>Christian Bale</td>\n",
       "      <td>27000.0</td>\n",
       "      <td>448130642.0</td>\n",
       "      <td>Action|Thriller</td>\n",
       "      <td>...</td>\n",
       "      <td>2701.0</td>\n",
       "      <td>English</td>\n",
       "      <td>USA</td>\n",
       "      <td>PG-13</td>\n",
       "      <td>250000000.0</td>\n",
       "      <td>2012.0</td>\n",
       "      <td>23000.0</td>\n",
       "      <td>8.5</td>\n",
       "      <td>2.35</td>\n",
       "      <td>164000</td>\n",
       "    </tr>\n",
       "    <tr>\n",
       "      <th>Star Wars: Episode VII - The Force Awakens</th>\n",
       "      <td>NaN</td>\n",
       "      <td>Doug Walker</td>\n",
       "      <td>NaN</td>\n",
       "      <td>NaN</td>\n",
       "      <td>131.0</td>\n",
       "      <td>NaN</td>\n",
       "      <td>Rob Walker</td>\n",
       "      <td>131.0</td>\n",
       "      <td>NaN</td>\n",
       "      <td>Documentary</td>\n",
       "      <td>...</td>\n",
       "      <td>NaN</td>\n",
       "      <td>NaN</td>\n",
       "      <td>NaN</td>\n",
       "      <td>NaN</td>\n",
       "      <td>NaN</td>\n",
       "      <td>NaN</td>\n",
       "      <td>12.0</td>\n",
       "      <td>7.1</td>\n",
       "      <td>NaN</td>\n",
       "      <td>0</td>\n",
       "    </tr>\n",
       "  </tbody>\n",
       "</table>\n",
       "<p>5 rows × 27 columns</p>\n",
       "</div>"
      ],
      "text/plain": [
       "                                                    color      director_name  \\\n",
       "movie_title                                                                    \n",
       "Avatar                                              Color      James Cameron   \n",
       "Pirates of the Caribbean: At World's End            Color     Gore Verbinski   \n",
       "Spectre                                             Color         Sam Mendes   \n",
       "The Dark Knight Rises                               Color  Christopher Nolan   \n",
       "Star Wars: Episode VII - The Force Awakens     ...    NaN        Doug Walker   \n",
       "\n",
       "                                                    num_critic_for_reviews  \\\n",
       "movie_title                                                                  \n",
       "Avatar                                                               723.0   \n",
       "Pirates of the Caribbean: At World's End                             302.0   \n",
       "Spectre                                                              602.0   \n",
       "The Dark Knight Rises                                                813.0   \n",
       "Star Wars: Episode VII - The Force Awakens     ...                     NaN   \n",
       "\n",
       "                                                    duration  \\\n",
       "movie_title                                                    \n",
       "Avatar                                                 178.0   \n",
       "Pirates of the Caribbean: At World's End               169.0   \n",
       "Spectre                                                148.0   \n",
       "The Dark Knight Rises                                  164.0   \n",
       "Star Wars: Episode VII - The Force Awakens     ...       NaN   \n",
       "\n",
       "                                                    director_facebook_likes  \\\n",
       "movie_title                                                                   \n",
       "Avatar                                                                  0.0   \n",
       "Pirates of the Caribbean: At World's End                              563.0   \n",
       "Spectre                                                                 0.0   \n",
       "The Dark Knight Rises                                               22000.0   \n",
       "Star Wars: Episode VII - The Force Awakens     ...                    131.0   \n",
       "\n",
       "                                                    actor_3_facebook_likes  \\\n",
       "movie_title                                                                  \n",
       "Avatar                                                               855.0   \n",
       "Pirates of the Caribbean: At World's End                            1000.0   \n",
       "Spectre                                                              161.0   \n",
       "The Dark Knight Rises                                              23000.0   \n",
       "Star Wars: Episode VII - The Force Awakens     ...                     NaN   \n",
       "\n",
       "                                                        actor_2_name  \\\n",
       "movie_title                                                            \n",
       "Avatar                                              Joel David Moore   \n",
       "Pirates of the Caribbean: At World's End               Orlando Bloom   \n",
       "Spectre                                                 Rory Kinnear   \n",
       "The Dark Knight Rises                                 Christian Bale   \n",
       "Star Wars: Episode VII - The Force Awakens     ...        Rob Walker   \n",
       "\n",
       "                                                    actor_1_facebook_likes  \\\n",
       "movie_title                                                                  \n",
       "Avatar                                                              1000.0   \n",
       "Pirates of the Caribbean: At World's End                           40000.0   \n",
       "Spectre                                                            11000.0   \n",
       "The Dark Knight Rises                                              27000.0   \n",
       "Star Wars: Episode VII - The Force Awakens     ...                   131.0   \n",
       "\n",
       "                                                          gross  \\\n",
       "movie_title                                                       \n",
       "Avatar                                              760505847.0   \n",
       "Pirates of the Caribbean: At World's End            309404152.0   \n",
       "Spectre                                             200074175.0   \n",
       "The Dark Knight Rises                               448130642.0   \n",
       "Star Wars: Episode VII - The Force Awakens     ...          NaN   \n",
       "\n",
       "                                                                             genres  \\\n",
       "movie_title                                                                           \n",
       "Avatar                                              Action|Adventure|Fantasy|Sci-Fi   \n",
       "Pirates of the Caribbean: At World's End                   Action|Adventure|Fantasy   \n",
       "Spectre                                                   Action|Adventure|Thriller   \n",
       "The Dark Knight Rises                                               Action|Thriller   \n",
       "Star Wars: Episode VII - The Force Awakens     ...                      Documentary   \n",
       "\n",
       "                                                           ...           \\\n",
       "movie_title                                                ...            \n",
       "Avatar                                                     ...            \n",
       "Pirates of the Caribbean: At World's End                   ...            \n",
       "Spectre                                                    ...            \n",
       "The Dark Knight Rises                                      ...            \n",
       "Star Wars: Episode VII - The Force Awakens     ...         ...            \n",
       "\n",
       "                                                   num_user_for_reviews  \\\n",
       "movie_title                                                               \n",
       "Avatar                                                           3054.0   \n",
       "Pirates of the Caribbean: At World's End                         1238.0   \n",
       "Spectre                                                           994.0   \n",
       "The Dark Knight Rises                                            2701.0   \n",
       "Star Wars: Episode VII - The Force Awakens     ...                  NaN   \n",
       "\n",
       "                                                    language  country  \\\n",
       "movie_title                                                             \n",
       "Avatar                                               English      USA   \n",
       "Pirates of the Caribbean: At World's End             English      USA   \n",
       "Spectre                                              English       UK   \n",
       "The Dark Knight Rises                                English      USA   \n",
       "Star Wars: Episode VII - The Force Awakens     ...       NaN      NaN   \n",
       "\n",
       "                                                   content_rating  \\\n",
       "movie_title                                                         \n",
       "Avatar                                                      PG-13   \n",
       "Pirates of the Caribbean: At World's End                    PG-13   \n",
       "Spectre                                                     PG-13   \n",
       "The Dark Knight Rises                                       PG-13   \n",
       "Star Wars: Episode VII - The Force Awakens     ...            NaN   \n",
       "\n",
       "                                                         budget title_year  \\\n",
       "movie_title                                                                  \n",
       "Avatar                                              237000000.0     2009.0   \n",
       "Pirates of the Caribbean: At World's End            300000000.0     2007.0   \n",
       "Spectre                                             245000000.0     2015.0   \n",
       "The Dark Knight Rises                               250000000.0     2012.0   \n",
       "Star Wars: Episode VII - The Force Awakens     ...          NaN        NaN   \n",
       "\n",
       "                                                   actor_2_facebook_likes  \\\n",
       "movie_title                                                                 \n",
       "Avatar                                                              936.0   \n",
       "Pirates of the Caribbean: At World's End                           5000.0   \n",
       "Spectre                                                             393.0   \n",
       "The Dark Knight Rises                                             23000.0   \n",
       "Star Wars: Episode VII - The Force Awakens     ...                   12.0   \n",
       "\n",
       "                                                    imdb_score aspect_ratio  \\\n",
       "movie_title                                                                   \n",
       "Avatar                                                     7.9         1.78   \n",
       "Pirates of the Caribbean: At World's End                   7.1         2.35   \n",
       "Spectre                                                    6.8         2.35   \n",
       "The Dark Knight Rises                                      8.5         2.35   \n",
       "Star Wars: Episode VII - The Force Awakens     ...         7.1          NaN   \n",
       "\n",
       "                                                   movie_facebook_likes  \n",
       "movie_title                                                              \n",
       "Avatar                                                            33000  \n",
       "Pirates of the Caribbean: At World's End                              0  \n",
       "Spectre                                                           85000  \n",
       "The Dark Knight Rises                                            164000  \n",
       "Star Wars: Episode VII - The Force Awakens     ...                    0  \n",
       "\n",
       "[5 rows x 27 columns]"
      ]
     },
     "execution_count": 2,
     "metadata": {},
     "output_type": "execute_result"
    }
   ],
   "source": [
    "imdb = pd.read_csv('imdb5000.csv', \n",
    "                   index_col='movie_title', \n",
    "                   encoding='utf-8-sig')\n",
    "imdb.set_index(imdb.index.str.replace('\\xa0', ''), \n",
    "               inplace=True)\n",
    "print(\"The shape of the raw data is:\", imdb.shape)\n",
    "imdb.head()"
   ]
  },
  {
   "cell_type": "code",
   "execution_count": 3,
   "metadata": {},
   "outputs": [
    {
     "name": "stdout",
     "output_type": "stream",
     "text": [
      "<class 'pandas.core.frame.DataFrame'>\n",
      "Index: 5043 entries, Avatar to My Date with Drew\n",
      "Data columns (total 27 columns):\n",
      "color                        5024 non-null object\n",
      "director_name                4939 non-null object\n",
      "num_critic_for_reviews       4993 non-null float64\n",
      "duration                     5028 non-null float64\n",
      "director_facebook_likes      4939 non-null float64\n",
      "actor_3_facebook_likes       5020 non-null float64\n",
      "actor_2_name                 5030 non-null object\n",
      "actor_1_facebook_likes       5036 non-null float64\n",
      "gross                        4159 non-null float64\n",
      "genres                       5043 non-null object\n",
      "actor_1_name                 5036 non-null object\n",
      "num_voted_users              5043 non-null int64\n",
      "cast_total_facebook_likes    5043 non-null int64\n",
      "actor_3_name                 5020 non-null object\n",
      "facenumber_in_poster         5030 non-null float64\n",
      "plot_keywords                4890 non-null object\n",
      "movie_imdb_link              5043 non-null object\n",
      "num_user_for_reviews         5022 non-null float64\n",
      "language                     5031 non-null object\n",
      "country                      5038 non-null object\n",
      "content_rating               4740 non-null object\n",
      "budget                       4551 non-null float64\n",
      "title_year                   4935 non-null float64\n",
      "actor_2_facebook_likes       5030 non-null float64\n",
      "imdb_score                   5043 non-null float64\n",
      "aspect_ratio                 4714 non-null float64\n",
      "movie_facebook_likes         5043 non-null int64\n",
      "dtypes: float64(13), int64(3), object(11)\n",
      "memory usage: 1.1+ MB\n"
     ]
    }
   ],
   "source": [
    "imdb.info()"
   ]
  },
  {
   "cell_type": "markdown",
   "metadata": {
    "colab_type": "text",
    "id": "l2Kl1FPrQoUL"
   },
   "source": [
    "# Data inspection"
   ]
  },
  {
   "cell_type": "markdown",
   "metadata": {
    "colab_type": "text",
    "id": "Eym0t05KQvzw"
   },
   "source": [
    "Make yourself familiar with the data by answering questions like what do the columns mean, what are their types and what are their values and distribution."
   ]
  },
  {
   "cell_type": "markdown",
   "metadata": {
    "colab_type": "text",
    "id": "1Spca0zBYQ7k"
   },
   "source": [
    "> **Note:** This part has no strict flow, and it just encourages you to have a thorough look on the data before moving on."
   ]
  },
  {
   "cell_type": "code",
   "execution_count": null,
   "metadata": {},
   "outputs": [],
   "source": []
  },
  {
   "cell_type": "code",
   "execution_count": null,
   "metadata": {},
   "outputs": [],
   "source": []
  },
  {
   "cell_type": "code",
   "execution_count": null,
   "metadata": {},
   "outputs": [],
   "source": []
  },
  {
   "cell_type": "code",
   "execution_count": null,
   "metadata": {},
   "outputs": [],
   "source": []
  },
  {
   "cell_type": "code",
   "execution_count": null,
   "metadata": {},
   "outputs": [],
   "source": []
  },
  {
   "cell_type": "markdown",
   "metadata": {
    "colab_type": "text",
    "id": "-cSdbaxlgmdf"
   },
   "source": [
    "# Data cleaning"
   ]
  },
  {
   "cell_type": "markdown",
   "metadata": {
    "colab_type": "text",
    "id": "B50dBvS9mtCg"
   },
   "source": [
    "Based on our preliminary inspection we decide to drop movies with more than 4 `NaN`'s."
   ]
  },
  {
   "cell_type": "code",
   "execution_count": 0,
   "metadata": {
    "colab": {},
    "colab_type": "code",
    "id": "HKPpQFeZmsCl"
   },
   "outputs": [],
   "source": []
  },
  {
   "cell_type": "markdown",
   "metadata": {
    "colab_type": "text",
    "id": "b8YcjhOBn6sV"
   },
   "source": [
    "We decude that some columns are not important for our analysis, and we remove all the columns, whose name contains the word 'facebook' or 'num'."
   ]
  },
  {
   "cell_type": "code",
   "execution_count": 0,
   "metadata": {
    "colab": {},
    "colab_type": "code",
    "id": "LP2u58XHnvJW"
   },
   "outputs": [],
   "source": []
  },
  {
   "cell_type": "markdown",
   "metadata": {
    "colab_type": "text",
    "id": "ZeKyYZn4o6Kx"
   },
   "source": [
    "> **Note:** The `r` prefix is Python's way of using raw strings as regular expressions. More about it can be found [here](https://docs.python.org/3.7/library/re.html)."
   ]
  },
  {
   "cell_type": "markdown",
   "metadata": {
    "colab_type": "text",
    "id": "scFAsY9Rv-h2"
   },
   "source": [
    "Remove duplicates in the data. Be carefull with what you consider a duplicate. \n",
    "idea: a director can have only one movie in a single year"
   ]
  },
  {
   "cell_type": "code",
   "execution_count": 0,
   "metadata": {
    "colab": {},
    "colab_type": "code",
    "id": "Qf_geE5Ly0ro"
   },
   "outputs": [],
   "source": []
  },
  {
   "cell_type": "markdown",
   "metadata": {
    "colab_type": "text",
    "id": "WtAnwsiDBktl"
   },
   "source": [
    "# Warm-up questions"
   ]
  },
  {
   "cell_type": "markdown",
   "metadata": {
    "colab_type": "text",
    "id": "DYgHVR9hBktn"
   },
   "source": [
    "How many languages are represented?"
   ]
  },
  {
   "cell_type": "code",
   "execution_count": 0,
   "metadata": {
    "colab": {},
    "colab_type": "code",
    "id": "0-OcWmK6Bkto"
   },
   "outputs": [],
   "source": []
  },
  {
   "cell_type": "markdown",
   "metadata": {
    "colab_type": "text",
    "id": "BaQ6782UBkts"
   },
   "source": [
    "What is the oldest movie?"
   ]
  },
  {
   "cell_type": "code",
   "execution_count": 0,
   "metadata": {
    "colab": {},
    "colab_type": "code",
    "id": "krvpcypuBktt"
   },
   "outputs": [],
   "source": []
  },
  {
   "cell_type": "markdown",
   "metadata": {
    "colab_type": "text",
    "id": "AmhcTFWABktx"
   },
   "source": [
    "Who is the director with the highest average imdb score?"
   ]
  },
  {
   "cell_type": "code",
   "execution_count": 0,
   "metadata": {
    "colab": {},
    "colab_type": "code",
    "id": "PijCCYzUBkty"
   },
   "outputs": [],
   "source": []
  },
  {
   "cell_type": "markdown",
   "metadata": {
    "colab_type": "text",
    "id": "OCtJc1V-BkuO"
   },
   "source": [
    "How many unique actors are represented? Consider all three columns."
   ]
  },
  {
   "cell_type": "code",
   "execution_count": 0,
   "metadata": {
    "colab": {},
    "colab_type": "code",
    "id": "RZnCOQ32BkuQ"
   },
   "outputs": [],
   "source": []
  },
  {
   "cell_type": "markdown",
   "metadata": {
    "colab_type": "text",
    "id": "7N4UJMEwzpvg"
   },
   "source": [
    "To avoid analyses based on esoteric movies we decide to drop all the movies made by directors, for whom that movie is the only movie in the data. In other words we wish to remove all the directors who appear only once in the data. Then we repeat the question above."
   ]
  },
  {
   "cell_type": "code",
   "execution_count": 0,
   "metadata": {
    "colab": {},
    "colab_type": "code",
    "id": "-xW6KEYS0Uiu"
   },
   "outputs": [],
   "source": []
  },
  {
   "cell_type": "markdown",
   "metadata": {
    "colab_type": "text",
    "id": "hKZKwQY3Bkt2"
   },
   "source": [
    "Finally, we wish to add a column called `profits` with the calculation of $gross - budget$ and answer:\n",
    "* What is the most profitable movie and what is the biggest failure?\n",
    "* Who is the most profitable director?"
   ]
  },
  {
   "cell_type": "code",
   "execution_count": 0,
   "metadata": {
    "colab": {},
    "colab_type": "code",
    "id": "dkpRpCX6Bkt3"
   },
   "outputs": [],
   "source": []
  },
  {
   "cell_type": "markdown",
   "metadata": {
    "colab_type": "text",
    "id": "YD2wovncBkt6"
   },
   "source": [
    "# Visualizations"
   ]
  },
  {
   "cell_type": "markdown",
   "metadata": {
    "colab_type": "text",
    "id": "q7cv8G-jBkt7"
   },
   "source": [
    "What was the median budget spent on a production every year? Why is the median more informative than the average?"
   ]
  },
  {
   "cell_type": "code",
   "execution_count": 0,
   "metadata": {
    "colab": {},
    "colab_type": "code",
    "id": "7ZMZhQHwBkt7"
   },
   "outputs": [],
   "source": []
  },
  {
   "cell_type": "markdown",
   "metadata": {
    "colab_type": "text",
    "id": "Y-5flipJ6Dg_"
   },
   "source": [
    "How many movies were released every year? Repeat the last question, but this time separate the graph into two plots - one for color movies and one for B/W movies."
   ]
  },
  {
   "cell_type": "code",
   "execution_count": 0,
   "metadata": {
    "colab": {},
    "colab_type": "code",
    "id": "szqvNPiY6Dg0"
   },
   "outputs": [],
   "source": []
  },
  {
   "cell_type": "markdown",
   "metadata": {
    "colab_type": "text",
    "id": "c6llhcEdUEMk"
   },
   "source": [
    "How many movies are there of each genre?"
   ]
  },
  {
   "cell_type": "markdown",
   "metadata": {
    "colab_type": "text",
    "id": "JCRgpBw_UEMe"
   },
   "source": [
    "> **Note:** A movie can be of multiple genres, so the count of genres is higher the count of movies."
   ]
  },
  {
   "cell_type": "markdown",
   "metadata": {
    "colab_type": "text",
    "id": "j3_Fu10s46Bn"
   },
   "source": [
    "# The `directors` dataset"
   ]
  },
  {
   "cell_type": "markdown",
   "metadata": {
    "colab_type": "text",
    "id": "NxTjMxLuS2UK"
   },
   "source": [
    "We wish to create a datasets about the directors, including the following columns:\n",
    "* Median duration\n",
    "* Movie count\n",
    "* Movies per year\n",
    "* Average profit\n",
    "* Main language\n",
    "* Main genre"
   ]
  },
  {
   "cell_type": "code",
   "execution_count": 0,
   "metadata": {
    "colab": {},
    "colab_type": "code",
    "id": "TJ3WHTgUkxzH"
   },
   "outputs": [],
   "source": []
  },
  {
   "cell_type": "markdown",
   "metadata": {
    "colab_type": "text",
    "id": "TlupWSsdBkuu"
   },
   "source": [
    "# More questions"
   ]
  },
  {
   "cell_type": "markdown",
   "metadata": {
    "colab_type": "text",
    "id": "_JrYzGluBkuu"
   },
   "source": [
    "Which actor participated in the highest number of movies? Consider all three columns."
   ]
  },
  {
   "cell_type": "code",
   "execution_count": 0,
   "metadata": {
    "colab": {},
    "colab_type": "code",
    "id": "9MGJCH9mBkvJ"
   },
   "outputs": [],
   "source": []
  },
  {
   "cell_type": "markdown",
   "metadata": {
    "colab_type": "text",
    "id": "h9T0c66eBkvg"
   },
   "source": [
    "Which pairs of director and actor like to work together? Sort the number of co-occurrences of such pairs."
   ]
  },
  {
   "cell_type": "code",
   "execution_count": 0,
   "metadata": {
    "colab": {},
    "colab_type": "code",
    "id": "GNaS1hfFBkvi"
   },
   "outputs": [],
   "source": []
  }
 ],
 "metadata": {
  "colab": {
   "collapsed_sections": [],
   "name": "imdb5000 practice - empty.ipynb",
   "provenance": [
    {
     "file_id": "16owa6bJG1H0O1ul-c4n3qYv7NSwka6SP",
     "timestamp": 1580826757448
    }
   ]
  },
  "kernelspec": {
   "display_name": "Python 3",
   "language": "python",
   "name": "python3"
  },
  "language_info": {
   "codemirror_mode": {
    "name": "ipython",
    "version": 3
   },
   "file_extension": ".py",
   "mimetype": "text/x-python",
   "name": "python",
   "nbconvert_exporter": "python",
   "pygments_lexer": "ipython3",
   "version": "3.8.5"
  },
  "varInspector": {
   "cols": {
    "lenName": 16,
    "lenType": 16,
    "lenVar": 40
   },
   "kernels_config": {
    "python": {
     "delete_cmd_postfix": "",
     "delete_cmd_prefix": "del ",
     "library": "var_list.py",
     "varRefreshCmd": "print(var_dic_list())"
    },
    "r": {
     "delete_cmd_postfix": ") ",
     "delete_cmd_prefix": "rm(",
     "library": "var_list.r",
     "varRefreshCmd": "cat(var_dic_list()) "
    }
   },
   "types_to_exclude": [
    "module",
    "function",
    "builtin_function_or_method",
    "instance",
    "_Feature"
   ],
   "window_display": false
  }
 },
 "nbformat": 4,
 "nbformat_minor": 1
}
