{
 "cells": [
  {
   "cell_type": "code",
   "execution_count": 1,
   "metadata": {
    "colab": {},
    "colab_type": "code",
    "id": "c2Ao6YTcsRps"
   },
   "outputs": [],
   "source": [
    "import pandas as pd\n",
    "%matplotlib inline"
   ]
  },
  {
   "cell_type": "markdown",
   "metadata": {
    "colab_type": "text",
    "id": "QdokgyPNsRpx"
   },
   "source": [
    "# Preliminaries"
   ]
  },
  {
   "cell_type": "markdown",
   "metadata": {
    "colab_type": "text",
    "id": "umI96_apsRpz"
   },
   "source": [
    "First we import the file 'imdb.csv'."
   ]
  },
  {
   "cell_type": "markdown",
   "metadata": {
    "colab_type": "text",
    "id": "zU0n7NpdsRp1"
   },
   "source": [
    "> **Note:** The names of the movies end with the unicode character \\\\xa0, which we would like to remove. To do that you should use the argument _encoding='utf-8-sig'_ and replace it with an empty string (explained [here][1]).\n",
    "\n",
    "[1]: https://stackoverflow.com/questions/10993612/python-removing-xa0-from-string \"reindex\""
   ]
  },
  {
   "cell_type": "code",
   "execution_count": 2,
   "metadata": {
    "colab": {
     "base_uri": "https://localhost:8080/",
     "height": 459
    },
    "colab_type": "code",
    "executionInfo": {
     "elapsed": 801,
     "status": "ok",
     "timestamp": 1580824166488,
     "user": {
      "displayName": "Amit Rappel",
      "photoUrl": "https://lh3.googleusercontent.com/a-/AAuE7mCpe5u5WeIPUl8KIs0q9y-EzHhNpEOmf41uRn8SmQ=s64",
      "userId": "16505003500853190417"
     },
     "user_tz": -120
    },
    "id": "x10WKDVZt38i",
    "outputId": "c9137c2f-900e-49be-9b49-e957da944178"
   },
   "outputs": [
    {
     "name": "stdout",
     "output_type": "stream",
     "text": [
      "The shape of the raw data is: (5043, 27)\n"
     ]
    },
    {
     "data": {
      "text/html": [
       "<div>\n",
       "<style scoped>\n",
       "    .dataframe tbody tr th:only-of-type {\n",
       "        vertical-align: middle;\n",
       "    }\n",
       "\n",
       "    .dataframe tbody tr th {\n",
       "        vertical-align: top;\n",
       "    }\n",
       "\n",
       "    .dataframe thead th {\n",
       "        text-align: right;\n",
       "    }\n",
       "</style>\n",
       "<table border=\"1\" class=\"dataframe\">\n",
       "  <thead>\n",
       "    <tr style=\"text-align: right;\">\n",
       "      <th></th>\n",
       "      <th>color</th>\n",
       "      <th>director_name</th>\n",
       "      <th>num_critic_for_reviews</th>\n",
       "      <th>duration</th>\n",
       "      <th>director_facebook_likes</th>\n",
       "      <th>actor_3_facebook_likes</th>\n",
       "      <th>actor_2_name</th>\n",
       "      <th>actor_1_facebook_likes</th>\n",
       "      <th>gross</th>\n",
       "      <th>genres</th>\n",
       "      <th>...</th>\n",
       "      <th>num_user_for_reviews</th>\n",
       "      <th>language</th>\n",
       "      <th>country</th>\n",
       "      <th>content_rating</th>\n",
       "      <th>budget</th>\n",
       "      <th>title_year</th>\n",
       "      <th>actor_2_facebook_likes</th>\n",
       "      <th>imdb_score</th>\n",
       "      <th>aspect_ratio</th>\n",
       "      <th>movie_facebook_likes</th>\n",
       "    </tr>\n",
       "    <tr>\n",
       "      <th>movie_title</th>\n",
       "      <th></th>\n",
       "      <th></th>\n",
       "      <th></th>\n",
       "      <th></th>\n",
       "      <th></th>\n",
       "      <th></th>\n",
       "      <th></th>\n",
       "      <th></th>\n",
       "      <th></th>\n",
       "      <th></th>\n",
       "      <th></th>\n",
       "      <th></th>\n",
       "      <th></th>\n",
       "      <th></th>\n",
       "      <th></th>\n",
       "      <th></th>\n",
       "      <th></th>\n",
       "      <th></th>\n",
       "      <th></th>\n",
       "      <th></th>\n",
       "      <th></th>\n",
       "    </tr>\n",
       "  </thead>\n",
       "  <tbody>\n",
       "    <tr>\n",
       "      <th>Avatar</th>\n",
       "      <td>Color</td>\n",
       "      <td>James Cameron</td>\n",
       "      <td>723.0</td>\n",
       "      <td>178.0</td>\n",
       "      <td>0.0</td>\n",
       "      <td>855.0</td>\n",
       "      <td>Joel David Moore</td>\n",
       "      <td>1000.0</td>\n",
       "      <td>760505847.0</td>\n",
       "      <td>Action|Adventure|Fantasy|Sci-Fi</td>\n",
       "      <td>...</td>\n",
       "      <td>3054.0</td>\n",
       "      <td>English</td>\n",
       "      <td>USA</td>\n",
       "      <td>PG-13</td>\n",
       "      <td>237000000.0</td>\n",
       "      <td>2009.0</td>\n",
       "      <td>936.0</td>\n",
       "      <td>7.9</td>\n",
       "      <td>1.78</td>\n",
       "      <td>33000</td>\n",
       "    </tr>\n",
       "    <tr>\n",
       "      <th>Pirates of the Caribbean: At World's End</th>\n",
       "      <td>Color</td>\n",
       "      <td>Gore Verbinski</td>\n",
       "      <td>302.0</td>\n",
       "      <td>169.0</td>\n",
       "      <td>563.0</td>\n",
       "      <td>1000.0</td>\n",
       "      <td>Orlando Bloom</td>\n",
       "      <td>40000.0</td>\n",
       "      <td>309404152.0</td>\n",
       "      <td>Action|Adventure|Fantasy</td>\n",
       "      <td>...</td>\n",
       "      <td>1238.0</td>\n",
       "      <td>English</td>\n",
       "      <td>USA</td>\n",
       "      <td>PG-13</td>\n",
       "      <td>300000000.0</td>\n",
       "      <td>2007.0</td>\n",
       "      <td>5000.0</td>\n",
       "      <td>7.1</td>\n",
       "      <td>2.35</td>\n",
       "      <td>0</td>\n",
       "    </tr>\n",
       "    <tr>\n",
       "      <th>Spectre</th>\n",
       "      <td>Color</td>\n",
       "      <td>Sam Mendes</td>\n",
       "      <td>602.0</td>\n",
       "      <td>148.0</td>\n",
       "      <td>0.0</td>\n",
       "      <td>161.0</td>\n",
       "      <td>Rory Kinnear</td>\n",
       "      <td>11000.0</td>\n",
       "      <td>200074175.0</td>\n",
       "      <td>Action|Adventure|Thriller</td>\n",
       "      <td>...</td>\n",
       "      <td>994.0</td>\n",
       "      <td>English</td>\n",
       "      <td>UK</td>\n",
       "      <td>PG-13</td>\n",
       "      <td>245000000.0</td>\n",
       "      <td>2015.0</td>\n",
       "      <td>393.0</td>\n",
       "      <td>6.8</td>\n",
       "      <td>2.35</td>\n",
       "      <td>85000</td>\n",
       "    </tr>\n",
       "    <tr>\n",
       "      <th>The Dark Knight Rises</th>\n",
       "      <td>Color</td>\n",
       "      <td>Christopher Nolan</td>\n",
       "      <td>813.0</td>\n",
       "      <td>164.0</td>\n",
       "      <td>22000.0</td>\n",
       "      <td>23000.0</td>\n",
       "      <td>Christian Bale</td>\n",
       "      <td>27000.0</td>\n",
       "      <td>448130642.0</td>\n",
       "      <td>Action|Thriller</td>\n",
       "      <td>...</td>\n",
       "      <td>2701.0</td>\n",
       "      <td>English</td>\n",
       "      <td>USA</td>\n",
       "      <td>PG-13</td>\n",
       "      <td>250000000.0</td>\n",
       "      <td>2012.0</td>\n",
       "      <td>23000.0</td>\n",
       "      <td>8.5</td>\n",
       "      <td>2.35</td>\n",
       "      <td>164000</td>\n",
       "    </tr>\n",
       "    <tr>\n",
       "      <th>Star Wars: Episode VII - The Force Awakens</th>\n",
       "      <td>NaN</td>\n",
       "      <td>Doug Walker</td>\n",
       "      <td>NaN</td>\n",
       "      <td>NaN</td>\n",
       "      <td>131.0</td>\n",
       "      <td>NaN</td>\n",
       "      <td>Rob Walker</td>\n",
       "      <td>131.0</td>\n",
       "      <td>NaN</td>\n",
       "      <td>Documentary</td>\n",
       "      <td>...</td>\n",
       "      <td>NaN</td>\n",
       "      <td>NaN</td>\n",
       "      <td>NaN</td>\n",
       "      <td>NaN</td>\n",
       "      <td>NaN</td>\n",
       "      <td>NaN</td>\n",
       "      <td>12.0</td>\n",
       "      <td>7.1</td>\n",
       "      <td>NaN</td>\n",
       "      <td>0</td>\n",
       "    </tr>\n",
       "  </tbody>\n",
       "</table>\n",
       "<p>5 rows × 27 columns</p>\n",
       "</div>"
      ],
      "text/plain": [
       "                                                    color      director_name  \\\n",
       "movie_title                                                                    \n",
       "Avatar                                              Color      James Cameron   \n",
       "Pirates of the Caribbean: At World's End            Color     Gore Verbinski   \n",
       "Spectre                                             Color         Sam Mendes   \n",
       "The Dark Knight Rises                               Color  Christopher Nolan   \n",
       "Star Wars: Episode VII - The Force Awakens     ...    NaN        Doug Walker   \n",
       "\n",
       "                                                    num_critic_for_reviews  \\\n",
       "movie_title                                                                  \n",
       "Avatar                                                               723.0   \n",
       "Pirates of the Caribbean: At World's End                             302.0   \n",
       "Spectre                                                              602.0   \n",
       "The Dark Knight Rises                                                813.0   \n",
       "Star Wars: Episode VII - The Force Awakens     ...                     NaN   \n",
       "\n",
       "                                                    duration  \\\n",
       "movie_title                                                    \n",
       "Avatar                                                 178.0   \n",
       "Pirates of the Caribbean: At World's End               169.0   \n",
       "Spectre                                                148.0   \n",
       "The Dark Knight Rises                                  164.0   \n",
       "Star Wars: Episode VII - The Force Awakens     ...       NaN   \n",
       "\n",
       "                                                    director_facebook_likes  \\\n",
       "movie_title                                                                   \n",
       "Avatar                                                                  0.0   \n",
       "Pirates of the Caribbean: At World's End                              563.0   \n",
       "Spectre                                                                 0.0   \n",
       "The Dark Knight Rises                                               22000.0   \n",
       "Star Wars: Episode VII - The Force Awakens     ...                    131.0   \n",
       "\n",
       "                                                    actor_3_facebook_likes  \\\n",
       "movie_title                                                                  \n",
       "Avatar                                                               855.0   \n",
       "Pirates of the Caribbean: At World's End                            1000.0   \n",
       "Spectre                                                              161.0   \n",
       "The Dark Knight Rises                                              23000.0   \n",
       "Star Wars: Episode VII - The Force Awakens     ...                     NaN   \n",
       "\n",
       "                                                        actor_2_name  \\\n",
       "movie_title                                                            \n",
       "Avatar                                              Joel David Moore   \n",
       "Pirates of the Caribbean: At World's End               Orlando Bloom   \n",
       "Spectre                                                 Rory Kinnear   \n",
       "The Dark Knight Rises                                 Christian Bale   \n",
       "Star Wars: Episode VII - The Force Awakens     ...        Rob Walker   \n",
       "\n",
       "                                                    actor_1_facebook_likes  \\\n",
       "movie_title                                                                  \n",
       "Avatar                                                              1000.0   \n",
       "Pirates of the Caribbean: At World's End                           40000.0   \n",
       "Spectre                                                            11000.0   \n",
       "The Dark Knight Rises                                              27000.0   \n",
       "Star Wars: Episode VII - The Force Awakens     ...                   131.0   \n",
       "\n",
       "                                                          gross  \\\n",
       "movie_title                                                       \n",
       "Avatar                                              760505847.0   \n",
       "Pirates of the Caribbean: At World's End            309404152.0   \n",
       "Spectre                                             200074175.0   \n",
       "The Dark Knight Rises                               448130642.0   \n",
       "Star Wars: Episode VII - The Force Awakens     ...          NaN   \n",
       "\n",
       "                                                                             genres  \\\n",
       "movie_title                                                                           \n",
       "Avatar                                              Action|Adventure|Fantasy|Sci-Fi   \n",
       "Pirates of the Caribbean: At World's End                   Action|Adventure|Fantasy   \n",
       "Spectre                                                   Action|Adventure|Thriller   \n",
       "The Dark Knight Rises                                               Action|Thriller   \n",
       "Star Wars: Episode VII - The Force Awakens     ...                      Documentary   \n",
       "\n",
       "                                                    ... num_user_for_reviews  \\\n",
       "movie_title                                         ...                        \n",
       "Avatar                                              ...               3054.0   \n",
       "Pirates of the Caribbean: At World's End            ...               1238.0   \n",
       "Spectre                                             ...                994.0   \n",
       "The Dark Knight Rises                               ...               2701.0   \n",
       "Star Wars: Episode VII - The Force Awakens     ...  ...                  NaN   \n",
       "\n",
       "                                                    language  country  \\\n",
       "movie_title                                                             \n",
       "Avatar                                               English      USA   \n",
       "Pirates of the Caribbean: At World's End             English      USA   \n",
       "Spectre                                              English       UK   \n",
       "The Dark Knight Rises                                English      USA   \n",
       "Star Wars: Episode VII - The Force Awakens     ...       NaN      NaN   \n",
       "\n",
       "                                                   content_rating  \\\n",
       "movie_title                                                         \n",
       "Avatar                                                      PG-13   \n",
       "Pirates of the Caribbean: At World's End                    PG-13   \n",
       "Spectre                                                     PG-13   \n",
       "The Dark Knight Rises                                       PG-13   \n",
       "Star Wars: Episode VII - The Force Awakens     ...            NaN   \n",
       "\n",
       "                                                         budget title_year  \\\n",
       "movie_title                                                                  \n",
       "Avatar                                              237000000.0     2009.0   \n",
       "Pirates of the Caribbean: At World's End            300000000.0     2007.0   \n",
       "Spectre                                             245000000.0     2015.0   \n",
       "The Dark Knight Rises                               250000000.0     2012.0   \n",
       "Star Wars: Episode VII - The Force Awakens     ...          NaN        NaN   \n",
       "\n",
       "                                                   actor_2_facebook_likes  \\\n",
       "movie_title                                                                 \n",
       "Avatar                                                              936.0   \n",
       "Pirates of the Caribbean: At World's End                           5000.0   \n",
       "Spectre                                                             393.0   \n",
       "The Dark Knight Rises                                             23000.0   \n",
       "Star Wars: Episode VII - The Force Awakens     ...                   12.0   \n",
       "\n",
       "                                                    imdb_score aspect_ratio  \\\n",
       "movie_title                                                                   \n",
       "Avatar                                                     7.9         1.78   \n",
       "Pirates of the Caribbean: At World's End                   7.1         2.35   \n",
       "Spectre                                                    6.8         2.35   \n",
       "The Dark Knight Rises                                      8.5         2.35   \n",
       "Star Wars: Episode VII - The Force Awakens     ...         7.1          NaN   \n",
       "\n",
       "                                                   movie_facebook_likes  \n",
       "movie_title                                                              \n",
       "Avatar                                                            33000  \n",
       "Pirates of the Caribbean: At World's End                              0  \n",
       "Spectre                                                           85000  \n",
       "The Dark Knight Rises                                            164000  \n",
       "Star Wars: Episode VII - The Force Awakens     ...                    0  \n",
       "\n",
       "[5 rows x 27 columns]"
      ]
     },
     "execution_count": 2,
     "metadata": {},
     "output_type": "execute_result"
    }
   ],
   "source": [
    "imdb = pd.read_csv('imdb5000.csv', \n",
    "                   index_col='movie_title', \n",
    "                   encoding='utf-8-sig')\n",
    "imdb.set_index(imdb.index.str.replace('\\xa0', ''), \n",
    "               inplace=True)\n",
    "print(\"The shape of the raw data is:\", imdb.shape)\n",
    "imdb.head()"
   ]
  },
  {
   "cell_type": "code",
   "execution_count": 3,
   "metadata": {},
   "outputs": [
    {
     "data": {
      "text/plain": [
       "(5043, 27)"
      ]
     },
     "execution_count": 3,
     "metadata": {},
     "output_type": "execute_result"
    }
   ],
   "source": [
    "imdb.shape"
   ]
  },
  {
   "cell_type": "code",
   "execution_count": 4,
   "metadata": {},
   "outputs": [
    {
     "name": "stdout",
     "output_type": "stream",
     "text": [
      "color                       19\n",
      "director_name              104\n",
      "num_critic_for_reviews      50\n",
      "duration                    15\n",
      "director_facebook_likes    104\n",
      "dtype: int64\n"
     ]
    },
    {
     "data": {
      "text/plain": [
       "movie_title\n",
       "Avatar                                                     0\n",
       "Pirates of the Caribbean: At World's End                   0\n",
       "Spectre                                                    0\n",
       "The Dark Knight Rises                                      0\n",
       "Star Wars: Episode VII - The Force Awakens                14\n",
       "dtype: int64"
      ]
     },
     "execution_count": 4,
     "metadata": {},
     "output_type": "execute_result"
    }
   ],
   "source": [
    "print(imdb.isnull().sum().head())\n",
    "imdb.isnull().sum(axis=1).head()"
   ]
  },
  {
   "cell_type": "code",
   "execution_count": 5,
   "metadata": {},
   "outputs": [
    {
     "data": {
      "text/plain": [
       "color                         2\n",
       "director_name              2398\n",
       "num_critic_for_reviews      528\n",
       "duration                    191\n",
       "director_facebook_likes     435\n",
       "dtype: int64"
      ]
     },
     "execution_count": 5,
     "metadata": {},
     "output_type": "execute_result"
    }
   ],
   "source": [
    "imdb.nunique().head()"
   ]
  },
  {
   "cell_type": "code",
   "execution_count": null,
   "metadata": {},
   "outputs": [],
   "source": []
  },
  {
   "cell_type": "markdown",
   "metadata": {
    "colab_type": "text",
    "id": "l2Kl1FPrQoUL"
   },
   "source": [
    "# Data inspection"
   ]
  },
  {
   "cell_type": "markdown",
   "metadata": {
    "colab_type": "text",
    "id": "Eym0t05KQvzw"
   },
   "source": [
    "Make yourself familiar with the data by answering questions like what are the columns, what are their types and what are their values and distribution. This is also a good opportunity to look at the `NaN`'s and see their distribution in rows and columns."
   ]
  },
  {
   "cell_type": "code",
   "execution_count": 6,
   "metadata": {},
   "outputs": [
    {
     "data": {
      "text/plain": [
       "count    5028.0\n",
       "mean      107.0\n",
       "std        25.0\n",
       "min         7.0\n",
       "20%        91.0\n",
       "40%        99.0\n",
       "50%       103.0\n",
       "max       511.0\n",
       "Name: duration, dtype: float64"
      ]
     },
     "execution_count": 6,
     "metadata": {},
     "output_type": "execute_result"
    }
   ],
   "source": [
    "imdb.duration.describe(percentiles = [0.2,0.4,0.5]).round()"
   ]
  },
  {
   "cell_type": "markdown",
   "metadata": {
    "colab_type": "text",
    "id": "1Spca0zBYQ7k"
   },
   "source": [
    "> **Note:** This part has no strict flow, and it just encourages you to have a thorough look on the data before moving on."
   ]
  },
  {
   "cell_type": "code",
   "execution_count": 7,
   "metadata": {
    "colab": {
     "base_uri": "https://localhost:8080/",
     "height": 85
    },
    "colab_type": "code",
    "executionInfo": {
     "elapsed": 628,
     "status": "ok",
     "timestamp": 1580824169534,
     "user": {
      "displayName": "Amit Rappel",
      "photoUrl": "https://lh3.googleusercontent.com/a-/AAuE7mCpe5u5WeIPUl8KIs0q9y-EzHhNpEOmf41uRn8SmQ=s64",
      "userId": "16505003500853190417"
     },
     "user_tz": -120
    },
    "id": "tTXSrdTwQsGO",
    "outputId": "63ec8c33-5daa-49de-c848-a8edc4949981"
   },
   "outputs": [
    {
     "data": {
      "text/plain": [
       "float64    13\n",
       "object     11\n",
       "int64       3\n",
       "dtype: int64"
      ]
     },
     "execution_count": 7,
     "metadata": {},
     "output_type": "execute_result"
    }
   ],
   "source": [
    "imdb.dtypes.value_counts()"
   ]
  },
  {
   "cell_type": "code",
   "execution_count": 8,
   "metadata": {},
   "outputs": [
    {
     "data": {
      "text/html": [
       "<div>\n",
       "<style scoped>\n",
       "    .dataframe tbody tr th:only-of-type {\n",
       "        vertical-align: middle;\n",
       "    }\n",
       "\n",
       "    .dataframe tbody tr th {\n",
       "        vertical-align: top;\n",
       "    }\n",
       "\n",
       "    .dataframe thead th {\n",
       "        text-align: right;\n",
       "    }\n",
       "</style>\n",
       "<table border=\"1\" class=\"dataframe\">\n",
       "  <thead>\n",
       "    <tr style=\"text-align: right;\">\n",
       "      <th></th>\n",
       "      <th>num_voted_users</th>\n",
       "      <th>cast_total_facebook_likes</th>\n",
       "      <th>movie_facebook_likes</th>\n",
       "    </tr>\n",
       "  </thead>\n",
       "  <tbody>\n",
       "    <tr>\n",
       "      <th>count</th>\n",
       "      <td>5.043000e+03</td>\n",
       "      <td>5043.000000</td>\n",
       "      <td>5043.000000</td>\n",
       "    </tr>\n",
       "    <tr>\n",
       "      <th>mean</th>\n",
       "      <td>8.366816e+04</td>\n",
       "      <td>9699.063851</td>\n",
       "      <td>7525.964505</td>\n",
       "    </tr>\n",
       "    <tr>\n",
       "      <th>std</th>\n",
       "      <td>1.384853e+05</td>\n",
       "      <td>18163.799124</td>\n",
       "      <td>19320.445110</td>\n",
       "    </tr>\n",
       "    <tr>\n",
       "      <th>min</th>\n",
       "      <td>5.000000e+00</td>\n",
       "      <td>0.000000</td>\n",
       "      <td>0.000000</td>\n",
       "    </tr>\n",
       "    <tr>\n",
       "      <th>25%</th>\n",
       "      <td>8.593500e+03</td>\n",
       "      <td>1411.000000</td>\n",
       "      <td>0.000000</td>\n",
       "    </tr>\n",
       "    <tr>\n",
       "      <th>50%</th>\n",
       "      <td>3.435900e+04</td>\n",
       "      <td>3090.000000</td>\n",
       "      <td>166.000000</td>\n",
       "    </tr>\n",
       "    <tr>\n",
       "      <th>75%</th>\n",
       "      <td>9.630900e+04</td>\n",
       "      <td>13756.500000</td>\n",
       "      <td>3000.000000</td>\n",
       "    </tr>\n",
       "    <tr>\n",
       "      <th>max</th>\n",
       "      <td>1.689764e+06</td>\n",
       "      <td>656730.000000</td>\n",
       "      <td>349000.000000</td>\n",
       "    </tr>\n",
       "  </tbody>\n",
       "</table>\n",
       "</div>"
      ],
      "text/plain": [
       "       num_voted_users  cast_total_facebook_likes  movie_facebook_likes\n",
       "count     5.043000e+03                5043.000000           5043.000000\n",
       "mean      8.366816e+04                9699.063851           7525.964505\n",
       "std       1.384853e+05               18163.799124          19320.445110\n",
       "min       5.000000e+00                   0.000000              0.000000\n",
       "25%       8.593500e+03                1411.000000              0.000000\n",
       "50%       3.435900e+04                3090.000000            166.000000\n",
       "75%       9.630900e+04               13756.500000           3000.000000\n",
       "max       1.689764e+06              656730.000000         349000.000000"
      ]
     },
     "execution_count": 8,
     "metadata": {},
     "output_type": "execute_result"
    }
   ],
   "source": [
    "imdb.select_dtypes(include=[\"object\",\"int64\"]).describe()"
   ]
  },
  {
   "cell_type": "code",
   "execution_count": null,
   "metadata": {},
   "outputs": [],
   "source": []
  },
  {
   "cell_type": "code",
   "execution_count": 9,
   "metadata": {
    "colab": {
     "base_uri": "https://localhost:8080/",
     "height": 136
    },
    "colab_type": "code",
    "executionInfo": {
     "elapsed": 620,
     "status": "ok",
     "timestamp": 1580824171842,
     "user": {
      "displayName": "Amit Rappel",
      "photoUrl": "https://lh3.googleusercontent.com/a-/AAuE7mCpe5u5WeIPUl8KIs0q9y-EzHhNpEOmf41uRn8SmQ=s64",
      "userId": "16505003500853190417"
     },
     "user_tz": -120
    },
    "id": "zT0_faiEf9vI",
    "outputId": "c9f029f7-9e0b-406d-c5d0-4a81dbce669c"
   },
   "outputs": [
    {
     "data": {
      "text/plain": [
       "Index(['num_critic_for_reviews', 'duration', 'director_facebook_likes',\n",
       "       'actor_3_facebook_likes', 'actor_1_facebook_likes', 'gross',\n",
       "       'facenumber_in_poster', 'num_user_for_reviews', 'budget', 'title_year',\n",
       "       'actor_2_facebook_likes', 'imdb_score', 'aspect_ratio'],\n",
       "      dtype='object')"
      ]
     },
     "execution_count": 9,
     "metadata": {},
     "output_type": "execute_result"
    }
   ],
   "source": [
    "imdb_num = imdb.select_dtypes(include=[float, int])\n",
    "imdb_num.columns"
   ]
  },
  {
   "cell_type": "code",
   "execution_count": 10,
   "metadata": {
    "colab": {
     "base_uri": "https://localhost:8080/",
     "height": 85
    },
    "colab_type": "code",
    "executionInfo": {
     "elapsed": 1114,
     "status": "ok",
     "timestamp": 1580824174471,
     "user": {
      "displayName": "Amit Rappel",
      "photoUrl": "https://lh3.googleusercontent.com/a-/AAuE7mCpe5u5WeIPUl8KIs0q9y-EzHhNpEOmf41uRn8SmQ=s64",
      "userId": "16505003500853190417"
     },
     "user_tz": -120
    },
    "id": "RQdLIW8kV6Tw",
    "outputId": "bbd6768f-0d4d-4030-c192-7cc28d686c49"
   },
   "outputs": [
    {
     "data": {
      "text/plain": [
       "Index(['color', 'director_name', 'actor_2_name', 'genres', 'actor_1_name',\n",
       "       'actor_3_name', 'plot_keywords', 'movie_imdb_link', 'language',\n",
       "       'country', 'content_rating'],\n",
       "      dtype='object')"
      ]
     },
     "execution_count": 10,
     "metadata": {},
     "output_type": "execute_result"
    }
   ],
   "source": [
    "imdb_str = imdb.select_dtypes(include=[object])\n",
    "imdb_str.columns"
   ]
  },
  {
   "cell_type": "code",
   "execution_count": 11,
   "metadata": {
    "colab": {
     "base_uri": "https://localhost:8080/",
     "height": 493
    },
    "colab_type": "code",
    "executionInfo": {
     "elapsed": 798,
     "status": "ok",
     "timestamp": 1580824174473,
     "user": {
      "displayName": "Amit Rappel",
      "photoUrl": "https://lh3.googleusercontent.com/a-/AAuE7mCpe5u5WeIPUl8KIs0q9y-EzHhNpEOmf41uRn8SmQ=s64",
      "userId": "16505003500853190417"
     },
     "user_tz": -120
    },
    "id": "U1yvX9vNsFgV",
    "outputId": "671f0cce-392f-402c-d4d5-353aad7b64b7"
   },
   "outputs": [
    {
     "data": {
      "text/plain": [
       "movie_facebook_likes           0\n",
       "imdb_score                     0\n",
       "movie_imdb_link                0\n",
       "genres                         0\n",
       "num_voted_users                0\n",
       "cast_total_facebook_likes      0\n",
       "country                        5\n",
       "actor_1_facebook_likes         7\n",
       "actor_1_name                   7\n",
       "language                      12\n",
       "actor_2_facebook_likes        13\n",
       "actor_2_name                  13\n",
       "facenumber_in_poster          13\n",
       "duration                      15\n",
       "color                         19\n",
       "num_user_for_reviews          21\n",
       "actor_3_facebook_likes        23\n",
       "actor_3_name                  23\n",
       "num_critic_for_reviews        50\n",
       "director_facebook_likes      104\n",
       "director_name                104\n",
       "title_year                   108\n",
       "plot_keywords                153\n",
       "content_rating               303\n",
       "aspect_ratio                 329\n",
       "budget                       492\n",
       "gross                        884\n",
       "dtype: int64"
      ]
     },
     "execution_count": 11,
     "metadata": {},
     "output_type": "execute_result"
    }
   ],
   "source": [
    "imdb.isnull().sum().sort_values()"
   ]
  },
  {
   "cell_type": "code",
   "execution_count": 12,
   "metadata": {
    "colab": {
     "base_uri": "https://localhost:8080/",
     "height": 272
    },
    "colab_type": "code",
    "executionInfo": {
     "elapsed": 1293,
     "status": "ok",
     "timestamp": 1580824175374,
     "user": {
      "displayName": "Amit Rappel",
      "photoUrl": "https://lh3.googleusercontent.com/a-/AAuE7mCpe5u5WeIPUl8KIs0q9y-EzHhNpEOmf41uRn8SmQ=s64",
      "userId": "16505003500853190417"
     },
     "user_tz": -120
    },
    "id": "fCGUPGZZrfad",
    "outputId": "3a19bfa7-9b78-487a-8127-ae923b369b62"
   },
   "outputs": [
    {
     "data": {
      "text/plain": [
       "0     3756\n",
       "1      695\n",
       "2      268\n",
       "3      127\n",
       "5       70\n",
       "4       53\n",
       "6       36\n",
       "7       20\n",
       "8       11\n",
       "10       2\n",
       "11       2\n",
       "9        1\n",
       "14       1\n",
       "15       1\n",
       "dtype: int64"
      ]
     },
     "execution_count": 12,
     "metadata": {},
     "output_type": "execute_result"
    }
   ],
   "source": [
    "imdb.isnull().sum(axis=1).value_counts()"
   ]
  },
  {
   "cell_type": "markdown",
   "metadata": {
    "colab_type": "text",
    "id": "-cSdbaxlgmdf"
   },
   "source": [
    "# Data cleaning"
   ]
  },
  {
   "cell_type": "markdown",
   "metadata": {
    "colab_type": "text",
    "id": "B50dBvS9mtCg"
   },
   "source": [
    "Based on our preliminary inspection we decide to drop movies with more than 4 `NaN`'s."
   ]
  },
  {
   "cell_type": "code",
   "execution_count": 13,
   "metadata": {},
   "outputs": [],
   "source": [
    "trash = imdb[imdb.isnull().sum(axis=1)>=4]"
   ]
  },
  {
   "cell_type": "code",
   "execution_count": 14,
   "metadata": {},
   "outputs": [],
   "source": [
    "imdb=imdb[imdb.isnull().sum(axis=1)<4]"
   ]
  },
  {
   "cell_type": "code",
   "execution_count": 15,
   "metadata": {
    "colab": {
     "base_uri": "https://localhost:8080/",
     "height": 34
    },
    "colab_type": "code",
    "executionInfo": {
     "elapsed": 604,
     "status": "ok",
     "timestamp": 1580824181864,
     "user": {
      "displayName": "Amit Rappel",
      "photoUrl": "https://lh3.googleusercontent.com/a-/AAuE7mCpe5u5WeIPUl8KIs0q9y-EzHhNpEOmf41uRn8SmQ=s64",
      "userId": "16505003500853190417"
     },
     "user_tz": -120
    },
    "id": "HKPpQFeZmsCl",
    "outputId": "8082c5a9-10ea-40f2-996d-f8112a29a544"
   },
   "outputs": [
    {
     "name": "stdout",
     "output_type": "stream",
     "text": [
      "(4846, 27)\n"
     ]
    },
    {
     "data": {
      "text/plain": [
       "(4846, 27)"
      ]
     },
     "execution_count": 15,
     "metadata": {},
     "output_type": "execute_result"
    }
   ],
   "source": [
    "print(imdb.shape)\n",
    "imdb = imdb[imdb.isnull().sum(axis=1)<=4]\n",
    "imdb.shape"
   ]
  },
  {
   "cell_type": "markdown",
   "metadata": {
    "colab_type": "text",
    "id": "b8YcjhOBn6sV"
   },
   "source": [
    "We decude that some columns are not important for our analysis, and we remove all the columns, whose name contains the word 'facebook' or 'num'."
   ]
  },
  {
   "cell_type": "markdown",
   "metadata": {},
   "source": [
    "The str accessor"
   ]
  },
  {
   "cell_type": "markdown",
   "metadata": {},
   "source": [
    "https://pandas.pydata.org/pandas-docs/stable/reference/api/pandas.Series.where.html"
   ]
  },
  {
   "cell_type": "code",
   "execution_count": 20,
   "metadata": {},
   "outputs": [
    {
     "data": {
      "text/plain": [
       "(4846, 17)"
      ]
     },
     "execution_count": 20,
     "metadata": {},
     "output_type": "execute_result"
    }
   ],
   "source": [
    "## solution by steps\n",
    "sum(imdb.columns.str.contains(r\"facebook|num\"))\n",
    "\n",
    "imdb.loc[: , imdb.columns.str.contains(r\"facebook|num\")]\n",
    "\n",
    "imdb.loc[: , ~imdb.columns.str.contains(r\"facebook|num\")].head()\n"
   ]
  },
  {
   "cell_type": "code",
   "execution_count": null,
   "metadata": {},
   "outputs": [],
   "source": []
  },
  {
   "cell_type": "code",
   "execution_count": 17,
   "metadata": {
    "colab": {
     "base_uri": "https://localhost:8080/",
     "height": 34
    },
    "colab_type": "code",
    "executionInfo": {
     "elapsed": 672,
     "status": "ok",
     "timestamp": 1580824219907,
     "user": {
      "displayName": "Amit Rappel",
      "photoUrl": "https://lh3.googleusercontent.com/a-/AAuE7mCpe5u5WeIPUl8KIs0q9y-EzHhNpEOmf41uRn8SmQ=s64",
      "userId": "16505003500853190417"
     },
     "user_tz": -120
    },
    "id": "LP2u58XHnvJW",
    "outputId": "ff3a5d29-8b20-4e4d-a295-074e43341649"
   },
   "outputs": [
    {
     "data": {
      "text/plain": [
       "(4846, 17)"
      ]
     },
     "execution_count": 17,
     "metadata": {},
     "output_type": "execute_result"
    }
   ],
   "source": [
    "imdb = imdb.loc[:, ~imdb.columns.str.contains(r'facebook|num', case=False)]\n",
    "imdb.shape"
   ]
  },
  {
   "cell_type": "code",
   "execution_count": null,
   "metadata": {},
   "outputs": [],
   "source": []
  },
  {
   "cell_type": "code",
   "execution_count": 18,
   "metadata": {},
   "outputs": [
    {
     "data": {
      "text/html": [
       "<div>\n",
       "<style scoped>\n",
       "    .dataframe tbody tr th:only-of-type {\n",
       "        vertical-align: middle;\n",
       "    }\n",
       "\n",
       "    .dataframe tbody tr th {\n",
       "        vertical-align: top;\n",
       "    }\n",
       "\n",
       "    .dataframe thead th {\n",
       "        text-align: right;\n",
       "    }\n",
       "</style>\n",
       "<table border=\"1\" class=\"dataframe\">\n",
       "  <thead>\n",
       "    <tr style=\"text-align: right;\">\n",
       "      <th></th>\n",
       "      <th>director_name</th>\n",
       "      <th>actor_2_name</th>\n",
       "      <th>actor_1_name</th>\n",
       "      <th>actor_3_name</th>\n",
       "    </tr>\n",
       "    <tr>\n",
       "      <th>movie_title</th>\n",
       "      <th></th>\n",
       "      <th></th>\n",
       "      <th></th>\n",
       "      <th></th>\n",
       "    </tr>\n",
       "  </thead>\n",
       "  <tbody>\n",
       "    <tr>\n",
       "      <th>Avatar</th>\n",
       "      <td>James Cameron</td>\n",
       "      <td>Joel David Moore</td>\n",
       "      <td>CCH Pounder</td>\n",
       "      <td>Wes Studi</td>\n",
       "    </tr>\n",
       "    <tr>\n",
       "      <th>Pirates of the Caribbean: At World's End</th>\n",
       "      <td>Gore Verbinski</td>\n",
       "      <td>Orlando Bloom</td>\n",
       "      <td>Johnny Depp</td>\n",
       "      <td>Jack Davenport</td>\n",
       "    </tr>\n",
       "    <tr>\n",
       "      <th>Spectre</th>\n",
       "      <td>Sam Mendes</td>\n",
       "      <td>Rory Kinnear</td>\n",
       "      <td>Christoph Waltz</td>\n",
       "      <td>Stephanie Sigman</td>\n",
       "    </tr>\n",
       "    <tr>\n",
       "      <th>The Dark Knight Rises</th>\n",
       "      <td>Christopher Nolan</td>\n",
       "      <td>Christian Bale</td>\n",
       "      <td>Tom Hardy</td>\n",
       "      <td>Joseph Gordon-Levitt</td>\n",
       "    </tr>\n",
       "    <tr>\n",
       "      <th>John Carter</th>\n",
       "      <td>Andrew Stanton</td>\n",
       "      <td>Samantha Morton</td>\n",
       "      <td>Daryl Sabara</td>\n",
       "      <td>Polly Walker</td>\n",
       "    </tr>\n",
       "    <tr>\n",
       "      <th>...</th>\n",
       "      <td>...</td>\n",
       "      <td>...</td>\n",
       "      <td>...</td>\n",
       "      <td>...</td>\n",
       "    </tr>\n",
       "    <tr>\n",
       "      <th>El Mariachi</th>\n",
       "      <td>Robert Rodriguez</td>\n",
       "      <td>Peter Marquardt</td>\n",
       "      <td>Carlos Gallardo</td>\n",
       "      <td>Consuelo Gómez</td>\n",
       "    </tr>\n",
       "    <tr>\n",
       "      <th>The Mongol King</th>\n",
       "      <td>Anthony Vallone</td>\n",
       "      <td>John Considine</td>\n",
       "      <td>Richard Jewell</td>\n",
       "      <td>Sara Stepnicka</td>\n",
       "    </tr>\n",
       "    <tr>\n",
       "      <th>Newlyweds</th>\n",
       "      <td>Edward Burns</td>\n",
       "      <td>Caitlin FitzGerald</td>\n",
       "      <td>Kerry Bishé</td>\n",
       "      <td>Daniella Pineda</td>\n",
       "    </tr>\n",
       "    <tr>\n",
       "      <th>Shanghai Calling</th>\n",
       "      <td>Daniel Hsia</td>\n",
       "      <td>Daniel Henney</td>\n",
       "      <td>Alan Ruck</td>\n",
       "      <td>Eliza Coupe</td>\n",
       "    </tr>\n",
       "    <tr>\n",
       "      <th>My Date with Drew</th>\n",
       "      <td>Jon Gunn</td>\n",
       "      <td>Brian Herzlinger</td>\n",
       "      <td>John August</td>\n",
       "      <td>Jon Gunn</td>\n",
       "    </tr>\n",
       "  </tbody>\n",
       "</table>\n",
       "<p>4846 rows × 4 columns</p>\n",
       "</div>"
      ],
      "text/plain": [
       "                                              director_name  \\\n",
       "movie_title                                                   \n",
       "Avatar                                        James Cameron   \n",
       "Pirates of the Caribbean: At World's End     Gore Verbinski   \n",
       "Spectre                                          Sam Mendes   \n",
       "The Dark Knight Rises                     Christopher Nolan   \n",
       "John Carter                                  Andrew Stanton   \n",
       "...                                                     ...   \n",
       "El Mariachi                                Robert Rodriguez   \n",
       "The Mongol King                             Anthony Vallone   \n",
       "Newlyweds                                      Edward Burns   \n",
       "Shanghai Calling                                Daniel Hsia   \n",
       "My Date with Drew                                  Jon Gunn   \n",
       "\n",
       "                                                actor_2_name     actor_1_name  \\\n",
       "movie_title                                                                     \n",
       "Avatar                                      Joel David Moore      CCH Pounder   \n",
       "Pirates of the Caribbean: At World's End       Orlando Bloom      Johnny Depp   \n",
       "Spectre                                         Rory Kinnear  Christoph Waltz   \n",
       "The Dark Knight Rises                         Christian Bale        Tom Hardy   \n",
       "John Carter                                  Samantha Morton     Daryl Sabara   \n",
       "...                                                      ...              ...   \n",
       "El Mariachi                                  Peter Marquardt  Carlos Gallardo   \n",
       "The Mongol King                               John Considine   Richard Jewell   \n",
       "Newlyweds                                 Caitlin FitzGerald      Kerry Bishé   \n",
       "Shanghai Calling                               Daniel Henney        Alan Ruck   \n",
       "My Date with Drew                           Brian Herzlinger      John August   \n",
       "\n",
       "                                                  actor_3_name  \n",
       "movie_title                                                     \n",
       "Avatar                                               Wes Studi  \n",
       "Pirates of the Caribbean: At World's End        Jack Davenport  \n",
       "Spectre                                       Stephanie Sigman  \n",
       "The Dark Knight Rises                     Joseph Gordon-Levitt  \n",
       "John Carter                                       Polly Walker  \n",
       "...                                                        ...  \n",
       "El Mariachi                                     Consuelo Gómez  \n",
       "The Mongol King                                 Sara Stepnicka  \n",
       "Newlyweds                                      Daniella Pineda  \n",
       "Shanghai Calling                                   Eliza Coupe  \n",
       "My Date with Drew                                     Jon Gunn  \n",
       "\n",
       "[4846 rows x 4 columns]"
      ]
     },
     "execution_count": 18,
     "metadata": {},
     "output_type": "execute_result"
    }
   ],
   "source": [
    "#another example using the str assessor\n",
    "imdb.loc[:,imdb.columns.str.contains(\"name\")]"
   ]
  },
  {
   "cell_type": "markdown",
   "metadata": {
    "colab_type": "text",
    "id": "ZeKyYZn4o6Kx"
   },
   "source": [
    "> **Note:** The `r` prefix is Python's way of using raw strings as regular expressions. More about it can be found [here](https://docs.python.org/3.7/library/re.html)."
   ]
  },
  {
   "cell_type": "markdown",
   "metadata": {
    "colab_type": "text",
    "id": "scFAsY9Rv-h2"
   },
   "source": [
    "Remove duplicates in the data. Be carefull with what you consider a duplicate. "
   ]
  },
  {
   "cell_type": "markdown",
   "metadata": {},
   "source": [
    "There are director who directed more than one film a year acourding to the dataframe"
   ]
  },
  {
   "cell_type": "code",
   "execution_count": 19,
   "metadata": {
    "colab": {},
    "colab_type": "code",
    "id": "PGFnXJCWzE88"
   },
   "outputs": [
    {
     "data": {
      "text/plain": [
       "1    4462\n",
       "2     180\n",
       "3       8\n",
       "dtype: int64"
      ]
     },
     "execution_count": 19,
     "metadata": {},
     "output_type": "execute_result"
    }
   ],
   "source": [
    "imdb.groupby(['director_name', 'title_year']).size().value_counts()"
   ]
  },
  {
   "cell_type": "markdown",
   "metadata": {},
   "source": [
    "https://pandas.pydata.org/pandas-docs/stable/reference/api/pandas.DataFrame.drop_duplicates.html"
   ]
  },
  {
   "cell_type": "code",
   "execution_count": 20,
   "metadata": {
    "colab": {
     "base_uri": "https://localhost:8080/",
     "height": 34
    },
    "colab_type": "code",
    "executionInfo": {
     "elapsed": 814,
     "status": "ok",
     "timestamp": 1580824228129,
     "user": {
      "displayName": "Amit Rappel",
      "photoUrl": "https://lh3.googleusercontent.com/a-/AAuE7mCpe5u5WeIPUl8KIs0q9y-EzHhNpEOmf41uRn8SmQ=s64",
      "userId": "16505003500853190417"
     },
     "user_tz": -120
    },
    "id": "xp9w7fOCHIlX",
    "outputId": "2a9cb9c3-77d0-41e4-b210-721f2c95e6de"
   },
   "outputs": [
    {
     "name": "stdout",
     "output_type": "stream",
     "text": [
      "(4846, 17)\n"
     ]
    },
    {
     "data": {
      "text/plain": [
       "(4650, 17)"
      ]
     },
     "execution_count": 20,
     "metadata": {},
     "output_type": "execute_result"
    }
   ],
   "source": [
    "print(imdb.shape)\n",
    "imdb.drop_duplicates(subset=['director_name', 'title_year'], inplace=True)\n",
    "imdb.shape"
   ]
  },
  {
   "cell_type": "code",
   "execution_count": 21,
   "metadata": {
    "colab": {},
    "colab_type": "code",
    "id": "Qf_geE5Ly0ro"
   },
   "outputs": [],
   "source": [
    "# imdb.index.value_counts().head()"
   ]
  },
  {
   "cell_type": "markdown",
   "metadata": {
    "colab_type": "text",
    "id": "WtAnwsiDBktl"
   },
   "source": [
    "# Warm-up questions"
   ]
  },
  {
   "cell_type": "markdown",
   "metadata": {
    "colab_type": "text",
    "id": "DYgHVR9hBktn"
   },
   "source": [
    "How many languages are represented?"
   ]
  },
  {
   "cell_type": "code",
   "execution_count": 22,
   "metadata": {
    "colab": {
     "base_uri": "https://localhost:8080/",
     "height": 34
    },
    "colab_type": "code",
    "executionInfo": {
     "elapsed": 762,
     "status": "ok",
     "timestamp": 1580824266397,
     "user": {
      "displayName": "Amit Rappel",
      "photoUrl": "https://lh3.googleusercontent.com/a-/AAuE7mCpe5u5WeIPUl8KIs0q9y-EzHhNpEOmf41uRn8SmQ=s64",
      "userId": "16505003500853190417"
     },
     "user_tz": -120
    },
    "id": "0-OcWmK6Bkto",
    "outputId": "96a73578-d442-4194-f5f8-3e31ad03688e"
   },
   "outputs": [
    {
     "data": {
      "text/plain": [
       "42"
      ]
     },
     "execution_count": 22,
     "metadata": {},
     "output_type": "execute_result"
    }
   ],
   "source": [
    "imdb.language.nunique()"
   ]
  },
  {
   "cell_type": "markdown",
   "metadata": {
    "colab_type": "text",
    "id": "BaQ6782UBkts"
   },
   "source": [
    "What is the oldest movie?"
   ]
  },
  {
   "cell_type": "code",
   "execution_count": 23,
   "metadata": {
    "colab": {
     "base_uri": "https://localhost:8080/",
     "height": 34
    },
    "colab_type": "code",
    "executionInfo": {
     "elapsed": 876,
     "status": "ok",
     "timestamp": 1580824267424,
     "user": {
      "displayName": "Amit Rappel",
      "photoUrl": "https://lh3.googleusercontent.com/a-/AAuE7mCpe5u5WeIPUl8KIs0q9y-EzHhNpEOmf41uRn8SmQ=s64",
      "userId": "16505003500853190417"
     },
     "user_tz": -120
    },
    "id": "krvpcypuBktt",
    "outputId": "fb1087e5-6048-4c4b-e912-4d384fe3775e"
   },
   "outputs": [
    {
     "data": {
      "text/plain": [
       "\"Intolerance: Love's Struggle Throughout the Ages\""
      ]
     },
     "execution_count": 23,
     "metadata": {},
     "output_type": "execute_result"
    }
   ],
   "source": [
    "imdb.title_year.idxmin()"
   ]
  },
  {
   "cell_type": "markdown",
   "metadata": {
    "colab_type": "text",
    "id": "AmhcTFWABktx"
   },
   "source": [
    "Who is the director with the highest average imdb score?"
   ]
  },
  {
   "cell_type": "code",
   "execution_count": 24,
   "metadata": {},
   "outputs": [
    {
     "data": {
      "text/plain": [
       "'Sadyk Sher-Niyaz'"
      ]
     },
     "execution_count": 24,
     "metadata": {},
     "output_type": "execute_result"
    }
   ],
   "source": [
    "imdb.groupby(imdb.director_name)[\"imdb_score\"].mean().idxmax()"
   ]
  },
  {
   "cell_type": "markdown",
   "metadata": {
    "colab_type": "text",
    "id": "OCtJc1V-BkuO"
   },
   "source": [
    "How many unique actors are represented? Consider all three columns."
   ]
  },
  {
   "cell_type": "code",
   "execution_count": 25,
   "metadata": {},
   "outputs": [
    {
     "data": {
      "text/plain": [
       "{1, 2, 3, 5, 6}"
      ]
     },
     "execution_count": 25,
     "metadata": {},
     "output_type": "execute_result"
    }
   ],
   "source": [
    "{1,2,3} | {1,5,6}"
   ]
  },
  {
   "cell_type": "code",
   "execution_count": 26,
   "metadata": {
    "colab": {
     "base_uri": "https://localhost:8080/",
     "height": 34
    },
    "colab_type": "code",
    "executionInfo": {
     "elapsed": 642,
     "status": "ok",
     "timestamp": 1580826099081,
     "user": {
      "displayName": "Amit Rappel",
      "photoUrl": "https://lh3.googleusercontent.com/a-/AAuE7mCpe5u5WeIPUl8KIs0q9y-EzHhNpEOmf41uRn8SmQ=s64",
      "userId": "16505003500853190417"
     },
     "user_tz": -120
    },
    "id": "RZnCOQ32BkuQ",
    "outputId": "ad4eedcc-e861-49a5-ffeb-9795d3519953"
   },
   "outputs": [
    {
     "data": {
      "text/plain": [
       "5911"
      ]
     },
     "execution_count": 26,
     "metadata": {},
     "output_type": "execute_result"
    }
   ],
   "source": [
    "len(set(imdb.actor_1_name) | set(imdb.actor_2_name) | set(imdb.actor_3_name))"
   ]
  },
  {
   "cell_type": "markdown",
   "metadata": {
    "colab_type": "text",
    "id": "7N4UJMEwzpvg"
   },
   "source": [
    "To avoid analyses based on esoteric movies we decide to drop all the movies made by directors, for whom that movie is the only movie in the data. In other words we wish to remove all the directors who appear only once in the data. Then we repeat the question above."
   ]
  },
  {
   "cell_type": "code",
   "execution_count": 27,
   "metadata": {
    "colab": {},
    "colab_type": "code",
    "id": "-xW6KEYS0Uiu"
   },
   "outputs": [],
   "source": [
    "imdb = imdb.groupby('director_name').filter(lambda grp: len(grp)>=2)"
   ]
  },
  {
   "cell_type": "markdown",
   "metadata": {
    "colab_type": "text",
    "id": "hKZKwQY3Bkt2"
   },
   "source": [
    "Finally, we wish to add a column called `profits` with the calculation of $gross - budget$ and answer:\n",
    "* What is the most profitable movie and what is the biggest failure?\n",
    "* Who is the most profitable director?"
   ]
  },
  {
   "cell_type": "code",
   "execution_count": 28,
   "metadata": {
    "colab": {
     "base_uri": "https://localhost:8080/",
     "height": 34
    },
    "colab_type": "code",
    "executionInfo": {
     "elapsed": 721,
     "status": "ok",
     "timestamp": 1580824365638,
     "user": {
      "displayName": "Amit Rappel",
      "photoUrl": "https://lh3.googleusercontent.com/a-/AAuE7mCpe5u5WeIPUl8KIs0q9y-EzHhNpEOmf41uRn8SmQ=s64",
      "userId": "16505003500853190417"
     },
     "user_tz": -120
    },
    "id": "dkpRpCX6Bkt3",
    "outputId": "76b93e14-3c58-480e-eeee-56affeed35a0"
   },
   "outputs": [
    {
     "data": {
      "text/plain": [
       "('Avatar', 'The Host')"
      ]
     },
     "execution_count": 28,
     "metadata": {},
     "output_type": "execute_result"
    }
   ],
   "source": [
    "imdb['profit'] = imdb['gross'] - imdb['budget']\n",
    "imdb['profit'].idxmax(), imdb['profit'].idxmin()"
   ]
  },
  {
   "cell_type": "code",
   "execution_count": 29,
   "metadata": {
    "colab": {
     "base_uri": "https://localhost:8080/",
     "height": 136
    },
    "colab_type": "code",
    "executionInfo": {
     "elapsed": 587,
     "status": "ok",
     "timestamp": 1580824365962,
     "user": {
      "displayName": "Amit Rappel",
      "photoUrl": "https://lh3.googleusercontent.com/a-/AAuE7mCpe5u5WeIPUl8KIs0q9y-EzHhNpEOmf41uRn8SmQ=s64",
      "userId": "16505003500853190417"
     },
     "user_tz": -120
    },
    "id": "qR2eYH5KBkt4",
    "outputId": "7590eaf3-55ad-4a27-934c-65bd3bd7fcc8"
   },
   "outputs": [
    {
     "data": {
      "text/plain": [
       "director_name\n",
       "Steven Spielberg    2.300392e+09\n",
       "George Lucas        1.386641e+09\n",
       "James Cameron       1.199626e+09\n",
       "Chris Columbus      9.417076e+08\n",
       "Peter Jackson       8.998839e+08\n",
       "Name: profit, dtype: float64"
      ]
     },
     "execution_count": 29,
     "metadata": {},
     "output_type": "execute_result"
    }
   ],
   "source": [
    "imdb.groupby('director_name')['profit'].sum().sort_values(ascending=False).head()"
   ]
  },
  {
   "cell_type": "markdown",
   "metadata": {
    "colab_type": "text",
    "id": "YD2wovncBkt6"
   },
   "source": [
    "# Visualizations"
   ]
  },
  {
   "cell_type": "markdown",
   "metadata": {
    "colab_type": "text",
    "id": "q7cv8G-jBkt7"
   },
   "source": [
    "What was the median budget spent on a production every year? Why is the median more informative than the average?"
   ]
  },
  {
   "cell_type": "code",
   "execution_count": 30,
   "metadata": {
    "colab": {
     "base_uri": "https://localhost:8080/",
     "height": 291
    },
    "colab_type": "code",
    "executionInfo": {
     "elapsed": 898,
     "status": "ok",
     "timestamp": 1580824462321,
     "user": {
      "displayName": "Amit Rappel",
      "photoUrl": "https://lh3.googleusercontent.com/a-/AAuE7mCpe5u5WeIPUl8KIs0q9y-EzHhNpEOmf41uRn8SmQ=s64",
      "userId": "16505003500853190417"
     },
     "user_tz": -120
    },
    "id": "7ZMZhQHwBkt7",
    "outputId": "6560d5ed-1d14-488d-a61c-b2a3094d6ff5"
   },
   "outputs": [
    {
     "data": {
      "image/png": "[encoded data removed]",
      "text/plain": [
       "<Figure size 432x288 with 1 Axes>"
      ]
     },
     "metadata": {
      "needs_background": "light"
     },
     "output_type": "display_data"
    }
   ],
   "source": [
    "ax = imdb.groupby('title_year')['budget'].median().plot()"
   ]
  },
  {
   "cell_type": "markdown",
   "metadata": {
    "colab_type": "text",
    "id": "Y-5flipJ6Dg_"
   },
   "source": [
    "How many movies were released every year? Repeat the last question, but this time separate the graph into two plots - one for color movies and one for B/W movies."
   ]
  },
  {
   "cell_type": "code",
   "execution_count": 31,
   "metadata": {
    "colab": {
     "base_uri": "https://localhost:8080/",
     "height": 301
    },
    "colab_type": "code",
    "executionInfo": {
     "elapsed": 804,
     "status": "ok",
     "timestamp": 1555493684532,
     "user": {
      "displayName": "Amit Rappel",
      "photoUrl": "https://lh5.googleusercontent.com/-Stg14jONmNc/AAAAAAAAAAI/AAAAAAAAAos/0hU6Y5dO8yk/s64/photo.jpg",
      "userId": "16505003500853190417"
     },
     "user_tz": -180
    },
    "id": "szqvNPiY6Dg0",
    "outputId": "59064831-9655-45de-f1d7-a4675943fdc4"
   },
   "outputs": [
    {
     "data": {
      "text/plain": [
       "<AxesSubplot:xlabel='title_year'>"
      ]
     },
     "execution_count": 31,
     "metadata": {},
     "output_type": "execute_result"
    },
    {
     "data": {
      "image/png": "[encoded data removed]",
      "text/plain": [
       "<Figure size 432x288 with 1 Axes>"
      ]
     },
     "metadata": {
      "needs_background": "light"
     },
     "output_type": "display_data"
    }
   ],
   "source": [
    "imdb.groupby('title_year').size().plot()"
   ]
  },
  {
   "cell_type": "code",
   "execution_count": 32,
   "metadata": {},
   "outputs": [
    {
     "data": {
      "text/html": [
       "<div>\n",
       "<style scoped>\n",
       "    .dataframe tbody tr th:only-of-type {\n",
       "        vertical-align: middle;\n",
       "    }\n",
       "\n",
       "    .dataframe tbody tr th {\n",
       "        vertical-align: top;\n",
       "    }\n",
       "\n",
       "    .dataframe thead th {\n",
       "        text-align: right;\n",
       "    }\n",
       "</style>\n",
       "<table border=\"1\" class=\"dataframe\">\n",
       "  <thead>\n",
       "    <tr style=\"text-align: right;\">\n",
       "      <th>color</th>\n",
       "      <th>Black and White</th>\n",
       "      <th>Color</th>\n",
       "    </tr>\n",
       "    <tr>\n",
       "      <th>title_year</th>\n",
       "      <th></th>\n",
       "      <th></th>\n",
       "    </tr>\n",
       "  </thead>\n",
       "  <tbody>\n",
       "    <tr>\n",
       "      <th>1925.0</th>\n",
       "      <td>1.0</td>\n",
       "      <td>0.0</td>\n",
       "    </tr>\n",
       "    <tr>\n",
       "      <th>1934.0</th>\n",
       "      <td>1.0</td>\n",
       "      <td>0.0</td>\n",
       "    </tr>\n",
       "    <tr>\n",
       "      <th>1936.0</th>\n",
       "      <td>1.0</td>\n",
       "      <td>0.0</td>\n",
       "    </tr>\n",
       "    <tr>\n",
       "      <th>1938.0</th>\n",
       "      <td>1.0</td>\n",
       "      <td>0.0</td>\n",
       "    </tr>\n",
       "    <tr>\n",
       "      <th>1939.0</th>\n",
       "      <td>1.0</td>\n",
       "      <td>1.0</td>\n",
       "    </tr>\n",
       "  </tbody>\n",
       "</table>\n",
       "</div>"
      ],
      "text/plain": [
       "color        Black and White  Color\n",
       "title_year                         \n",
       "1925.0                   1.0    0.0\n",
       "1934.0                   1.0    0.0\n",
       "1936.0                   1.0    0.0\n",
       "1938.0                   1.0    0.0\n",
       "1939.0                   1.0    1.0"
      ]
     },
     "execution_count": 32,
     "metadata": {},
     "output_type": "execute_result"
    }
   ],
   "source": [
    "## unstack\n",
    "imdb.groupby(['title_year', 'color']).size().unstack().fillna(0).head()"
   ]
  },
  {
   "cell_type": "code",
   "execution_count": 33,
   "metadata": {
    "colab": {
     "base_uri": "https://localhost:8080/",
     "height": 301
    },
    "colab_type": "code",
    "executionInfo": {
     "elapsed": 943,
     "status": "ok",
     "timestamp": 1555494295762,
     "user": {
      "displayName": "Amit Rappel",
      "photoUrl": "https://lh5.googleusercontent.com/-Stg14jONmNc/AAAAAAAAAAI/AAAAAAAAAos/0hU6Y5dO8yk/s64/photo.jpg",
      "userId": "16505003500853190417"
     },
     "user_tz": -180
    },
    "id": "hGLZCvus6Dgl",
    "outputId": "5691d749-dc2c-4445-d365-296373939082"
   },
   "outputs": [
    {
     "data": {
      "text/plain": [
       "<AxesSubplot:xlabel='title_year'>"
      ]
     },
     "execution_count": 33,
     "metadata": {},
     "output_type": "execute_result"
    },
    {
     "data": {
      "image/png": "[encoded data removed]",
      "text/plain": [
       "<Figure size 432x288 with 1 Axes>"
      ]
     },
     "metadata": {
      "needs_background": "light"
     },
     "output_type": "display_data"
    }
   ],
   "source": [
    "counts = imdb.groupby(['title_year', 'color']).size()\n",
    "# print(counts.head(20))\n",
    "counts.unstack().fillna(0).plot()"
   ]
  },
  {
   "cell_type": "code",
   "execution_count": 34,
   "metadata": {
    "colab": {
     "base_uri": "https://localhost:8080/",
     "height": 301
    },
    "colab_type": "code",
    "executionInfo": {
     "elapsed": 770,
     "status": "ok",
     "timestamp": 1555494026454,
     "user": {
      "displayName": "Amit Rappel",
      "photoUrl": "https://lh5.googleusercontent.com/-Stg14jONmNc/AAAAAAAAAAI/AAAAAAAAAos/0hU6Y5dO8yk/s64/photo.jpg",
      "userId": "16505003500853190417"
     },
     "user_tz": -180
    },
    "id": "A-3Jc3FZ6Dgu",
    "outputId": "0ecfb789-8f4f-4ec8-d6be-89e061956cd3"
   },
   "outputs": [],
   "source": [
    "# # Second solution\n",
    "# imdb_color = imdb[imdb.color == 'Color']\n",
    "# imdb_bw = imdb[imdb.color != 'Color']\n",
    "\n",
    "# imdb_color.groupby('title_year')['director_name'].count().plot()\n",
    "# imdb_bw.groupby('title_year')['director_name'].count().plot()"
   ]
  },
  {
   "cell_type": "code",
   "execution_count": 35,
   "metadata": {
    "colab": {
     "base_uri": "https://localhost:8080/",
     "height": 299
    },
    "colab_type": "code",
    "executionInfo": {
     "elapsed": 896,
     "status": "ok",
     "timestamp": 1580824648924,
     "user": {
      "displayName": "Amit Rappel",
      "photoUrl": "https://lh3.googleusercontent.com/a-/AAuE7mCpe5u5WeIPUl8KIs0q9y-EzHhNpEOmf41uRn8SmQ=s64",
      "userId": "16505003500853190417"
     },
     "user_tz": -120
    },
    "id": "AHLtOZsl6DgS",
    "outputId": "ff7a1b78-ed81-418d-bded-ab4d5d8b74d4"
   },
   "outputs": [],
   "source": [
    "# # Third solution\n",
    "# imdb.pivot_table(index='title_year', \n",
    "#                  columns='color', \n",
    "#                  values='director_name', \n",
    "#                  aggfunc='count', \n",
    "#                  fill_value=0).plot()"
   ]
  },
  {
   "cell_type": "markdown",
   "metadata": {
    "colab_type": "text",
    "id": "c6llhcEdUEMk"
   },
   "source": [
    "How many movies are there of each genre?"
   ]
  },
  {
   "cell_type": "markdown",
   "metadata": {
    "colab_type": "text",
    "id": "JCRgpBw_UEMe"
   },
   "source": [
    "> **Note:** A movie can be of multiple genres, so the count of genres is higher the count of movies."
   ]
  },
  {
   "cell_type": "code",
   "execution_count": 36,
   "metadata": {},
   "outputs": [
    {
     "data": {
      "text/plain": [
       "<AxesSubplot:>"
      ]
     },
     "execution_count": 36,
     "metadata": {},
     "output_type": "execute_result"
    },
    {
     "data": {
      "image/png": "[encoded data removed]",
      "text/plain": [
       "<Figure size 432x288 with 1 Axes>"
      ]
     },
     "metadata": {
      "needs_background": "light"
     },
     "output_type": "display_data"
    }
   ],
   "source": [
    "all_genere = pd.Series(imdb.genres.str.split(\"|\").sum()).value_counts().plot(kind=\"bar\")\n",
    "all_genere"
   ]
  },
  {
   "cell_type": "code",
   "execution_count": 37,
   "metadata": {
    "colab": {
     "base_uri": "https://localhost:8080/",
     "height": 344
    },
    "colab_type": "code",
    "executionInfo": {
     "elapsed": 1164,
     "status": "ok",
     "timestamp": 1555445393459,
     "user": {
      "displayName": "Amit Rappel",
      "photoUrl": "https://lh5.googleusercontent.com/-Stg14jONmNc/AAAAAAAAAAI/AAAAAAAAAos/0hU6Y5dO8yk/s64/photo.jpg",
      "userId": "16505003500853190417"
     },
     "user_tz": -180
    },
    "id": "M0JpMMyjUEML",
    "outputId": "bda18ec5-0609-463c-a88a-c1c451c16168"
   },
   "outputs": [],
   "source": [
    "# # Another solution\n",
    "# all_genres = imdb.genres.str.split('|', expand=True).stack()\n",
    "# all_genres.value_counts().plot(kind='bar')"
   ]
  },
  {
   "cell_type": "code",
   "execution_count": 38,
   "metadata": {
    "colab": {
     "base_uri": "https://localhost:8080/",
     "height": 344
    },
    "colab_type": "code",
    "executionInfo": {
     "elapsed": 1185,
     "status": "ok",
     "timestamp": 1555445394927,
     "user": {
      "displayName": "Amit Rappel",
      "photoUrl": "https://lh5.googleusercontent.com/-Stg14jONmNc/AAAAAAAAAAI/AAAAAAAAAos/0hU6Y5dO8yk/s64/photo.jpg",
      "userId": "16505003500853190417"
     },
     "user_tz": -180
    },
    "id": "LBMT69ljUEMD",
    "outputId": "91f0faff-7895-4d05-aaaf-495393cd7d53"
   },
   "outputs": [],
   "source": [
    "# # Another solution\n",
    "# all_genres = imdb.genres.str.get_dummies('|').sum()\n",
    "# all_genres.sort_values(ascending=False).plot(kind='bar')"
   ]
  },
  {
   "cell_type": "markdown",
   "metadata": {
    "colab_type": "text",
    "id": "j3_Fu10s46Bn"
   },
   "source": [
    "# The `directors` dataset"
   ]
  },
  {
   "cell_type": "markdown",
   "metadata": {
    "colab_type": "text",
    "id": "NxTjMxLuS2UK"
   },
   "source": [
    "We wish to create a datasets about the directors, including the following columns:\n",
    "* Median duration\n",
    "* Movie count\n",
    "* Movies per year\n",
    "* Average profit\n",
    "* Main language\n",
    "* Main genre"
   ]
  },
  {
   "cell_type": "code",
   "execution_count": 39,
   "metadata": {
    "colab": {},
    "colab_type": "code",
    "id": "vv_h6fylBkuA"
   },
   "outputs": [],
   "source": [
    "grp_dir = imdb.groupby('director_name')"
   ]
  },
  {
   "cell_type": "code",
   "execution_count": 40,
   "metadata": {
    "colab": {
     "base_uri": "https://localhost:8080/",
     "height": 235
    },
    "colab_type": "code",
    "executionInfo": {
     "elapsed": 660,
     "status": "ok",
     "timestamp": 1580826469290,
     "user": {
      "displayName": "Amit Rappel",
      "photoUrl": "https://lh3.googleusercontent.com/a-/AAuE7mCpe5u5WeIPUl8KIs0q9y-EzHhNpEOmf41uRn8SmQ=s64",
      "userId": "16505003500853190417"
     },
     "user_tz": -120
    },
    "id": "jrpd0eDvBkuG",
    "outputId": "b95f06be-c993-450c-b6e3-3474e9329d39"
   },
   "outputs": [
    {
     "data": {
      "text/html": [
       "<div>\n",
       "<style scoped>\n",
       "    .dataframe tbody tr th:only-of-type {\n",
       "        vertical-align: middle;\n",
       "    }\n",
       "\n",
       "    .dataframe tbody tr th {\n",
       "        vertical-align: top;\n",
       "    }\n",
       "\n",
       "    .dataframe thead th {\n",
       "        text-align: right;\n",
       "    }\n",
       "</style>\n",
       "<table border=\"1\" class=\"dataframe\">\n",
       "  <thead>\n",
       "    <tr style=\"text-align: right;\">\n",
       "      <th></th>\n",
       "      <th>median duration</th>\n",
       "      <th>movie count</th>\n",
       "    </tr>\n",
       "    <tr>\n",
       "      <th>director_name</th>\n",
       "      <th></th>\n",
       "      <th></th>\n",
       "    </tr>\n",
       "  </thead>\n",
       "  <tbody>\n",
       "    <tr>\n",
       "      <th>Adam McKay</th>\n",
       "      <td>119.0</td>\n",
       "      <td>6</td>\n",
       "    </tr>\n",
       "    <tr>\n",
       "      <th>Adam Rifkin</th>\n",
       "      <td>95.0</td>\n",
       "      <td>2</td>\n",
       "    </tr>\n",
       "    <tr>\n",
       "      <th>Adam Shankman</th>\n",
       "      <td>103.0</td>\n",
       "      <td>7</td>\n",
       "    </tr>\n",
       "    <tr>\n",
       "      <th>Adrian Lyne</th>\n",
       "      <td>115.5</td>\n",
       "      <td>4</td>\n",
       "    </tr>\n",
       "    <tr>\n",
       "      <th>Akira Kurosawa</th>\n",
       "      <td>168.0</td>\n",
       "      <td>2</td>\n",
       "    </tr>\n",
       "  </tbody>\n",
       "</table>\n",
       "</div>"
      ],
      "text/plain": [
       "                median duration  movie count\n",
       "director_name                               \n",
       "Adam McKay                119.0            6\n",
       "Adam Rifkin                95.0            2\n",
       "Adam Shankman             103.0            7\n",
       "Adrian Lyne               115.5            4\n",
       "Akira Kurosawa            168.0            2"
      ]
     },
     "execution_count": 40,
     "metadata": {},
     "output_type": "execute_result"
    }
   ],
   "source": [
    "average_duration = grp_dir['duration'].median()\n",
    "movie_count = grp_dir['director_name'].count()\n",
    "directors = pd.DataFrame({'median duration': average_duration, \n",
    "                          'movie count': movie_count})\n",
    "directors.head()"
   ]
  },
  {
   "cell_type": "code",
   "execution_count": 42,
   "metadata": {
    "scrolled": true
   },
   "outputs": [],
   "source": [
    "# imdb.groupby(imdb.director_name).apply()"
   ]
  },
  {
   "cell_type": "code",
   "execution_count": null,
   "metadata": {
    "colab": {
     "base_uri": "https://localhost:8080/",
     "height": 226
    },
    "colab_type": "code",
    "executionInfo": {
     "elapsed": 884,
     "status": "ok",
     "timestamp": 1558460663605,
     "user": {
      "displayName": "Amit Rappel",
      "photoUrl": "https://lh5.googleusercontent.com/-Stg14jONmNc/AAAAAAAAAAI/AAAAAAAAAos/0hU6Y5dO8yk/s64/photo.jpg",
      "userId": "16505003500853190417"
     },
     "user_tz": -180
    },
    "id": "d-WOPwTZBkuK",
    "outputId": "f83538e8-59c3-4b2a-ea62-1fa819d41c39"
   },
   "outputs": [],
   "source": [
    "# # Second solution (for two columns)\n",
    "# directors = grp_dir.agg({'duration': 'mean', \n",
    "#                          'director_name': 'count'})\n",
    "# directors.rename(columns={'duration': 'median duration', \n",
    "#                           'director_name': 'movie count'}, \n",
    "#                  inplace=True)"
   ]
  },
  {
   "cell_type": "code",
   "execution_count": 43,
   "metadata": {
    "colab": {},
    "colab_type": "code",
    "id": "sfuTnfSdBkup"
   },
   "outputs": [],
   "source": [
    "def get_ratio(grp):\n",
    "    return float(len(grp)) / (grp.title_year.max() - grp.title_year.min() + 1)\n",
    "    \n",
    "prolific = imdb.groupby('director_name').apply(get_ratio)"
   ]
  },
  {
   "cell_type": "code",
   "execution_count": 44,
   "metadata": {
    "colab": {
     "base_uri": "https://localhost:8080/",
     "height": 238
    },
    "colab_type": "code",
    "executionInfo": {
     "elapsed": 649,
     "status": "ok",
     "timestamp": 1580826056801,
     "user": {
      "displayName": "Amit Rappel",
      "photoUrl": "https://lh3.googleusercontent.com/a-/AAuE7mCpe5u5WeIPUl8KIs0q9y-EzHhNpEOmf41uRn8SmQ=s64",
      "userId": "16505003500853190417"
     },
     "user_tz": -120
    },
    "id": "TJ3WHTgUkxzH",
    "outputId": "e34270a6-570a-4b21-bcbe-155c9e969ccf"
   },
   "outputs": [
    {
     "data": {
      "text/plain": [
       "director_name\n",
       "Akira Kurosawa       0.050000\n",
       "James Algar          0.050000\n",
       "Jerry Jameson        0.055556\n",
       "Stewart Raffill      0.074074\n",
       "Carroll Ballard      0.074074\n",
       "                       ...   \n",
       "Kevin Greutert       1.000000\n",
       "Kurt Hale            1.000000\n",
       "Camille Delamarre    1.000000\n",
       "Mark Rosman          1.000000\n",
       "Steve Beck           1.000000\n",
       "Length: 865, dtype: float64"
      ]
     },
     "execution_count": 44,
     "metadata": {},
     "output_type": "execute_result"
    }
   ],
   "source": [
    "prolific.sort_values()"
   ]
  },
  {
   "cell_type": "markdown",
   "metadata": {
    "colab_type": "text",
    "id": "TlupWSsdBkuu"
   },
   "source": [
    "# More questions"
   ]
  },
  {
   "cell_type": "markdown",
   "metadata": {
    "colab_type": "text",
    "id": "_JrYzGluBkuu"
   },
   "source": [
    "Which actor participated in the highest number of movies? Consider all three columns."
   ]
  },
  {
   "cell_type": "markdown",
   "metadata": {
    "colab_type": "text",
    "id": "4kAGEOsXBkuw"
   },
   "source": [
    "### Solution I"
   ]
  },
  {
   "cell_type": "markdown",
   "metadata": {
    "colab_type": "text",
    "id": "Oiq80B6TBkux"
   },
   "source": [
    "Using [`DataFrame.melt()`](https://pandas.pydata.org/pandas-docs/version/0.22/generated/pandas.melt.html)."
   ]
  },
  {
   "cell_type": "code",
   "execution_count": 45,
   "metadata": {},
   "outputs": [
    {
     "data": {
      "text/html": [
       "<div>\n",
       "<style scoped>\n",
       "    .dataframe tbody tr th:only-of-type {\n",
       "        vertical-align: middle;\n",
       "    }\n",
       "\n",
       "    .dataframe tbody tr th {\n",
       "        vertical-align: top;\n",
       "    }\n",
       "\n",
       "    .dataframe thead th {\n",
       "        text-align: right;\n",
       "    }\n",
       "</style>\n",
       "<table border=\"1\" class=\"dataframe\">\n",
       "  <thead>\n",
       "    <tr style=\"text-align: right;\">\n",
       "      <th></th>\n",
       "      <th>color</th>\n",
       "      <th>director_name</th>\n",
       "      <th>duration</th>\n",
       "      <th>actor_2_name</th>\n",
       "      <th>gross</th>\n",
       "      <th>genres</th>\n",
       "      <th>actor_1_name</th>\n",
       "      <th>actor_3_name</th>\n",
       "      <th>plot_keywords</th>\n",
       "      <th>movie_imdb_link</th>\n",
       "      <th>language</th>\n",
       "      <th>country</th>\n",
       "      <th>content_rating</th>\n",
       "      <th>budget</th>\n",
       "      <th>title_year</th>\n",
       "      <th>imdb_score</th>\n",
       "      <th>aspect_ratio</th>\n",
       "      <th>profit</th>\n",
       "    </tr>\n",
       "    <tr>\n",
       "      <th>movie_title</th>\n",
       "      <th></th>\n",
       "      <th></th>\n",
       "      <th></th>\n",
       "      <th></th>\n",
       "      <th></th>\n",
       "      <th></th>\n",
       "      <th></th>\n",
       "      <th></th>\n",
       "      <th></th>\n",
       "      <th></th>\n",
       "      <th></th>\n",
       "      <th></th>\n",
       "      <th></th>\n",
       "      <th></th>\n",
       "      <th></th>\n",
       "      <th></th>\n",
       "      <th></th>\n",
       "      <th></th>\n",
       "    </tr>\n",
       "  </thead>\n",
       "  <tbody>\n",
       "    <tr>\n",
       "      <th>Avatar</th>\n",
       "      <td>Color</td>\n",
       "      <td>James Cameron</td>\n",
       "      <td>178.0</td>\n",
       "      <td>Joel David Moore</td>\n",
       "      <td>760505847.0</td>\n",
       "      <td>Action|Adventure|Fantasy|Sci-Fi</td>\n",
       "      <td>CCH Pounder</td>\n",
       "      <td>Wes Studi</td>\n",
       "      <td>avatar|future|marine|native|paraplegic</td>\n",
       "      <td>http://www.imdb.com/title/tt0499549/?ref_=fn_t...</td>\n",
       "      <td>English</td>\n",
       "      <td>USA</td>\n",
       "      <td>PG-13</td>\n",
       "      <td>237000000.0</td>\n",
       "      <td>2009.0</td>\n",
       "      <td>7.9</td>\n",
       "      <td>1.78</td>\n",
       "      <td>523505847.0</td>\n",
       "    </tr>\n",
       "    <tr>\n",
       "      <th>Pirates of the Caribbean: At World's End</th>\n",
       "      <td>Color</td>\n",
       "      <td>Gore Verbinski</td>\n",
       "      <td>169.0</td>\n",
       "      <td>Orlando Bloom</td>\n",
       "      <td>309404152.0</td>\n",
       "      <td>Action|Adventure|Fantasy</td>\n",
       "      <td>Johnny Depp</td>\n",
       "      <td>Jack Davenport</td>\n",
       "      <td>goddess|marriage ceremony|marriage proposal|pi...</td>\n",
       "      <td>http://www.imdb.com/title/tt0449088/?ref_=fn_t...</td>\n",
       "      <td>English</td>\n",
       "      <td>USA</td>\n",
       "      <td>PG-13</td>\n",
       "      <td>300000000.0</td>\n",
       "      <td>2007.0</td>\n",
       "      <td>7.1</td>\n",
       "      <td>2.35</td>\n",
       "      <td>9404152.0</td>\n",
       "    </tr>\n",
       "    <tr>\n",
       "      <th>Spectre</th>\n",
       "      <td>Color</td>\n",
       "      <td>Sam Mendes</td>\n",
       "      <td>148.0</td>\n",
       "      <td>Rory Kinnear</td>\n",
       "      <td>200074175.0</td>\n",
       "      <td>Action|Adventure|Thriller</td>\n",
       "      <td>Christoph Waltz</td>\n",
       "      <td>Stephanie Sigman</td>\n",
       "      <td>bomb|espionage|sequel|spy|terrorist</td>\n",
       "      <td>http://www.imdb.com/title/tt2379713/?ref_=fn_t...</td>\n",
       "      <td>English</td>\n",
       "      <td>UK</td>\n",
       "      <td>PG-13</td>\n",
       "      <td>245000000.0</td>\n",
       "      <td>2015.0</td>\n",
       "      <td>6.8</td>\n",
       "      <td>2.35</td>\n",
       "      <td>-44925825.0</td>\n",
       "    </tr>\n",
       "    <tr>\n",
       "      <th>The Dark Knight Rises</th>\n",
       "      <td>Color</td>\n",
       "      <td>Christopher Nolan</td>\n",
       "      <td>164.0</td>\n",
       "      <td>Christian Bale</td>\n",
       "      <td>448130642.0</td>\n",
       "      <td>Action|Thriller</td>\n",
       "      <td>Tom Hardy</td>\n",
       "      <td>Joseph Gordon-Levitt</td>\n",
       "      <td>deception|imprisonment|lawlessness|police offi...</td>\n",
       "      <td>http://www.imdb.com/title/tt1345836/?ref_=fn_t...</td>\n",
       "      <td>English</td>\n",
       "      <td>USA</td>\n",
       "      <td>PG-13</td>\n",
       "      <td>250000000.0</td>\n",
       "      <td>2012.0</td>\n",
       "      <td>8.5</td>\n",
       "      <td>2.35</td>\n",
       "      <td>198130642.0</td>\n",
       "    </tr>\n",
       "    <tr>\n",
       "      <th>John Carter</th>\n",
       "      <td>Color</td>\n",
       "      <td>Andrew Stanton</td>\n",
       "      <td>132.0</td>\n",
       "      <td>Samantha Morton</td>\n",
       "      <td>73058679.0</td>\n",
       "      <td>Action|Adventure|Sci-Fi</td>\n",
       "      <td>Daryl Sabara</td>\n",
       "      <td>Polly Walker</td>\n",
       "      <td>alien|american civil war|male nipple|mars|prin...</td>\n",
       "      <td>http://www.imdb.com/title/tt0401729/?ref_=fn_t...</td>\n",
       "      <td>English</td>\n",
       "      <td>USA</td>\n",
       "      <td>PG-13</td>\n",
       "      <td>263700000.0</td>\n",
       "      <td>2012.0</td>\n",
       "      <td>6.6</td>\n",
       "      <td>2.35</td>\n",
       "      <td>-190641321.0</td>\n",
       "    </tr>\n",
       "  </tbody>\n",
       "</table>\n",
       "</div>"
      ],
      "text/plain": [
       "                                          color      director_name  duration  \\\n",
       "movie_title                                                                    \n",
       "Avatar                                    Color      James Cameron     178.0   \n",
       "Pirates of the Caribbean: At World's End  Color     Gore Verbinski     169.0   \n",
       "Spectre                                   Color         Sam Mendes     148.0   \n",
       "The Dark Knight Rises                     Color  Christopher Nolan     164.0   \n",
       "John Carter                               Color     Andrew Stanton     132.0   \n",
       "\n",
       "                                              actor_2_name        gross  \\\n",
       "movie_title                                                               \n",
       "Avatar                                    Joel David Moore  760505847.0   \n",
       "Pirates of the Caribbean: At World's End     Orlando Bloom  309404152.0   \n",
       "Spectre                                       Rory Kinnear  200074175.0   \n",
       "The Dark Knight Rises                       Christian Bale  448130642.0   \n",
       "John Carter                                Samantha Morton   73058679.0   \n",
       "\n",
       "                                                                   genres  \\\n",
       "movie_title                                                                 \n",
       "Avatar                                    Action|Adventure|Fantasy|Sci-Fi   \n",
       "Pirates of the Caribbean: At World's End         Action|Adventure|Fantasy   \n",
       "Spectre                                         Action|Adventure|Thriller   \n",
       "The Dark Knight Rises                                     Action|Thriller   \n",
       "John Carter                                       Action|Adventure|Sci-Fi   \n",
       "\n",
       "                                             actor_1_name  \\\n",
       "movie_title                                                 \n",
       "Avatar                                        CCH Pounder   \n",
       "Pirates of the Caribbean: At World's End      Johnny Depp   \n",
       "Spectre                                   Christoph Waltz   \n",
       "The Dark Knight Rises                           Tom Hardy   \n",
       "John Carter                                  Daryl Sabara   \n",
       "\n",
       "                                                  actor_3_name  \\\n",
       "movie_title                                                      \n",
       "Avatar                                               Wes Studi   \n",
       "Pirates of the Caribbean: At World's End        Jack Davenport   \n",
       "Spectre                                       Stephanie Sigman   \n",
       "The Dark Knight Rises                     Joseph Gordon-Levitt   \n",
       "John Carter                                       Polly Walker   \n",
       "\n",
       "                                                                              plot_keywords  \\\n",
       "movie_title                                                                                   \n",
       "Avatar                                               avatar|future|marine|native|paraplegic   \n",
       "Pirates of the Caribbean: At World's End  goddess|marriage ceremony|marriage proposal|pi...   \n",
       "Spectre                                                 bomb|espionage|sequel|spy|terrorist   \n",
       "The Dark Knight Rises                     deception|imprisonment|lawlessness|police offi...   \n",
       "John Carter                               alien|american civil war|male nipple|mars|prin...   \n",
       "\n",
       "                                                                            movie_imdb_link  \\\n",
       "movie_title                                                                                   \n",
       "Avatar                                    http://www.imdb.com/title/tt0499549/?ref_=fn_t...   \n",
       "Pirates of the Caribbean: At World's End  http://www.imdb.com/title/tt0449088/?ref_=fn_t...   \n",
       "Spectre                                   http://www.imdb.com/title/tt2379713/?ref_=fn_t...   \n",
       "The Dark Knight Rises                     http://www.imdb.com/title/tt1345836/?ref_=fn_t...   \n",
       "John Carter                               http://www.imdb.com/title/tt0401729/?ref_=fn_t...   \n",
       "\n",
       "                                         language country content_rating  \\\n",
       "movie_title                                                                \n",
       "Avatar                                    English     USA          PG-13   \n",
       "Pirates of the Caribbean: At World's End  English     USA          PG-13   \n",
       "Spectre                                   English      UK          PG-13   \n",
       "The Dark Knight Rises                     English     USA          PG-13   \n",
       "John Carter                               English     USA          PG-13   \n",
       "\n",
       "                                               budget  title_year  imdb_score  \\\n",
       "movie_title                                                                     \n",
       "Avatar                                    237000000.0      2009.0         7.9   \n",
       "Pirates of the Caribbean: At World's End  300000000.0      2007.0         7.1   \n",
       "Spectre                                   245000000.0      2015.0         6.8   \n",
       "The Dark Knight Rises                     250000000.0      2012.0         8.5   \n",
       "John Carter                               263700000.0      2012.0         6.6   \n",
       "\n",
       "                                          aspect_ratio       profit  \n",
       "movie_title                                                          \n",
       "Avatar                                            1.78  523505847.0  \n",
       "Pirates of the Caribbean: At World's End          2.35    9404152.0  \n",
       "Spectre                                           2.35  -44925825.0  \n",
       "The Dark Knight Rises                             2.35  198130642.0  \n",
       "John Carter                                       2.35 -190641321.0  "
      ]
     },
     "execution_count": 45,
     "metadata": {},
     "output_type": "execute_result"
    }
   ],
   "source": [
    "imdb.head()"
   ]
  },
  {
   "cell_type": "code",
   "execution_count": 46,
   "metadata": {
    "colab": {
     "base_uri": "https://localhost:8080/",
     "height": 195
    },
    "colab_type": "code",
    "executionInfo": {
     "elapsed": 573,
     "status": "ok",
     "timestamp": 1555494528052,
     "user": {
      "displayName": "Amit Rappel",
      "photoUrl": "https://lh5.googleusercontent.com/-Stg14jONmNc/AAAAAAAAAAI/AAAAAAAAAos/0hU6Y5dO8yk/s64/photo.jpg",
      "userId": "16505003500853190417"
     },
     "user_tz": -180
    },
    "id": "JGjvVyoZBkux",
    "outputId": "b8625a8a-b781-4c89-b84a-78e6fcf34230"
   },
   "outputs": [
    {
     "data": {
      "text/html": [
       "<div>\n",
       "<style scoped>\n",
       "    .dataframe tbody tr th:only-of-type {\n",
       "        vertical-align: middle;\n",
       "    }\n",
       "\n",
       "    .dataframe tbody tr th {\n",
       "        vertical-align: top;\n",
       "    }\n",
       "\n",
       "    .dataframe thead th {\n",
       "        text-align: right;\n",
       "    }\n",
       "</style>\n",
       "<table border=\"1\" class=\"dataframe\">\n",
       "  <thead>\n",
       "    <tr style=\"text-align: right;\">\n",
       "      <th></th>\n",
       "      <th>variable</th>\n",
       "      <th>value</th>\n",
       "    </tr>\n",
       "  </thead>\n",
       "  <tbody>\n",
       "    <tr>\n",
       "      <th>0</th>\n",
       "      <td>actor_1_name</td>\n",
       "      <td>CCH Pounder</td>\n",
       "    </tr>\n",
       "    <tr>\n",
       "      <th>1</th>\n",
       "      <td>actor_1_name</td>\n",
       "      <td>Johnny Depp</td>\n",
       "    </tr>\n",
       "    <tr>\n",
       "      <th>2</th>\n",
       "      <td>actor_1_name</td>\n",
       "      <td>Christoph Waltz</td>\n",
       "    </tr>\n",
       "    <tr>\n",
       "      <th>3</th>\n",
       "      <td>actor_1_name</td>\n",
       "      <td>Tom Hardy</td>\n",
       "    </tr>\n",
       "    <tr>\n",
       "      <th>4</th>\n",
       "      <td>actor_1_name</td>\n",
       "      <td>Daryl Sabara</td>\n",
       "    </tr>\n",
       "    <tr>\n",
       "      <th>...</th>\n",
       "      <td>...</td>\n",
       "      <td>...</td>\n",
       "    </tr>\n",
       "    <tr>\n",
       "      <th>9598</th>\n",
       "      <td>actor_3_name</td>\n",
       "      <td>Edith Massey</td>\n",
       "    </tr>\n",
       "    <tr>\n",
       "      <th>9599</th>\n",
       "      <td>actor_3_name</td>\n",
       "      <td>Don McKellar</td>\n",
       "    </tr>\n",
       "    <tr>\n",
       "      <th>9600</th>\n",
       "      <td>actor_3_name</td>\n",
       "      <td>Consuelo Gómez</td>\n",
       "    </tr>\n",
       "    <tr>\n",
       "      <th>9601</th>\n",
       "      <td>actor_3_name</td>\n",
       "      <td>Daniella Pineda</td>\n",
       "    </tr>\n",
       "    <tr>\n",
       "      <th>9602</th>\n",
       "      <td>actor_3_name</td>\n",
       "      <td>Jon Gunn</td>\n",
       "    </tr>\n",
       "  </tbody>\n",
       "</table>\n",
       "<p>9603 rows × 2 columns</p>\n",
       "</div>"
      ],
      "text/plain": [
       "          variable            value\n",
       "0     actor_1_name      CCH Pounder\n",
       "1     actor_1_name      Johnny Depp\n",
       "2     actor_1_name  Christoph Waltz\n",
       "3     actor_1_name        Tom Hardy\n",
       "4     actor_1_name     Daryl Sabara\n",
       "...            ...              ...\n",
       "9598  actor_3_name     Edith Massey\n",
       "9599  actor_3_name     Don McKellar\n",
       "9600  actor_3_name   Consuelo Gómez\n",
       "9601  actor_3_name  Daniella Pineda\n",
       "9602  actor_3_name         Jon Gunn\n",
       "\n",
       "[9603 rows x 2 columns]"
      ]
     },
     "execution_count": 46,
     "metadata": {},
     "output_type": "execute_result"
    }
   ],
   "source": [
    "melted_actors = pd.melt(imdb, value_vars=['actor_1_name', 'actor_2_name', 'actor_3_name'])\n",
    "melted_actors"
   ]
  },
  {
   "cell_type": "code",
   "execution_count": 47,
   "metadata": {
    "colab": {
     "base_uri": "https://localhost:8080/",
     "height": 118
    },
    "colab_type": "code",
    "executionInfo": {
     "elapsed": 613,
     "status": "ok",
     "timestamp": 1555494533405,
     "user": {
      "displayName": "Amit Rappel",
      "photoUrl": "https://lh5.googleusercontent.com/-Stg14jONmNc/AAAAAAAAAAI/AAAAAAAAAos/0hU6Y5dO8yk/s64/photo.jpg",
      "userId": "16505003500853190417"
     },
     "user_tz": -180
    },
    "id": "_Cyny-jDsuGI",
    "outputId": "eae520f2-cd11-46fa-d58d-47ced4760ec5"
   },
   "outputs": [
    {
     "data": {
      "text/plain": [
       "Robert De Niro       42\n",
       "Morgan Freeman       38\n",
       "Bruce Willis         34\n",
       "Matt Damon           34\n",
       "Denzel Washington    31\n",
       "Name: value, dtype: int64"
      ]
     },
     "execution_count": 47,
     "metadata": {},
     "output_type": "execute_result"
    }
   ],
   "source": [
    "melted_actors['value'].value_counts().head()"
   ]
  },
  {
   "cell_type": "markdown",
   "metadata": {
    "colab_type": "text",
    "id": "v6G3FfQBBku0"
   },
   "source": [
    "### Solution II(move on to the next question)"
   ]
  },
  {
   "cell_type": "markdown",
   "metadata": {
    "colab_type": "text",
    "id": "2pM4tlnVBku0"
   },
   "source": [
    "Using [`Series.add()`](https://pandas.pydata.org/pandas-docs/version/0.22/generated/pandas.Series.add.html)."
   ]
  },
  {
   "cell_type": "code",
   "execution_count": 48,
   "metadata": {
    "colab": {},
    "colab_type": "code",
    "id": "IBiGlIxyBku1"
   },
   "outputs": [],
   "source": [
    "actor1 = imdb.actor_1_name.value_counts()\n",
    "actor2 = imdb.actor_2_name.value_counts()\n",
    "actor3 = imdb.actor_3_name.value_counts()"
   ]
  },
  {
   "cell_type": "code",
   "execution_count": 49,
   "metadata": {
    "colab": {
     "base_uri": "https://localhost:8080/",
     "height": 118
    },
    "colab_type": "code",
    "executionInfo": {
     "elapsed": 727,
     "status": "ok",
     "timestamp": 1555494576258,
     "user": {
      "displayName": "Amit Rappel",
      "photoUrl": "https://lh5.googleusercontent.com/-Stg14jONmNc/AAAAAAAAAAI/AAAAAAAAAos/0hU6Y5dO8yk/s64/photo.jpg",
      "userId": "16505003500853190417"
     },
     "user_tz": -180
    },
    "id": "Xa7GtI_RBku5",
    "outputId": "80e0f452-c3ab-4c64-f409-09ce4ac4f408"
   },
   "outputs": [
    {
     "data": {
      "text/plain": [
       "Robert De Niro       42.0\n",
       "Morgan Freeman       38.0\n",
       "Bruce Willis         34.0\n",
       "Matt Damon           34.0\n",
       "Denzel Washington    31.0\n",
       "dtype: float64"
      ]
     },
     "execution_count": 49,
     "metadata": {},
     "output_type": "execute_result"
    }
   ],
   "source": [
    "actor1.add(actor2, fill_value=0).add(actor3, fill_value=0).sort_values(ascending=False).head()"
   ]
  },
  {
   "cell_type": "code",
   "execution_count": 50,
   "metadata": {
    "colab": {
     "base_uri": "https://localhost:8080/",
     "height": 968
    },
    "colab_type": "code",
    "executionInfo": {
     "elapsed": 642,
     "status": "error",
     "timestamp": 1555495482479,
     "user": {
      "displayName": "Amit Rappel",
      "photoUrl": "https://lh5.googleusercontent.com/-Stg14jONmNc/AAAAAAAAAAI/AAAAAAAAAos/0hU6Y5dO8yk/s64/photo.jpg",
      "userId": "16505003500853190417"
     },
     "user_tz": -180
    },
    "id": "6s9N23_xuhbE",
    "outputId": "c236b6ae-9118-44c0-ce4a-d29f7efcad1e"
   },
   "outputs": [
    {
     "data": {
      "text/plain": [
       "38"
      ]
     },
     "execution_count": 50,
     "metadata": {},
     "output_type": "execute_result"
    }
   ],
   "source": [
    "aaa = actor1 + actor2 + actor3\n",
    "\n",
    "#actor1['Robert De Niro'] + actor2['Robert De Niro'] + actor3['Robert De Niro']\n",
    "actor1['Morgan Freeman'] + actor2['Morgan Freeman'] + actor3['Morgan Freeman']"
   ]
  },
  {
   "cell_type": "code",
   "execution_count": 51,
   "metadata": {
    "colab": {
     "base_uri": "https://localhost:8080/",
     "height": 34
    },
    "colab_type": "code",
    "executionInfo": {
     "elapsed": 762,
     "status": "ok",
     "timestamp": 1555495244460,
     "user": {
      "displayName": "Amit Rappel",
      "photoUrl": "https://lh5.googleusercontent.com/-Stg14jONmNc/AAAAAAAAAAI/AAAAAAAAAos/0hU6Y5dO8yk/s64/photo.jpg",
      "userId": "16505003500853190417"
     },
     "user_tz": -180
    },
    "id": "gUsR6rb4vX2e",
    "outputId": "d84687d0-e154-47d3-e6a3-0a3e388a5c28"
   },
   "outputs": [
    {
     "data": {
      "text/plain": [
       "38.0"
      ]
     },
     "execution_count": 51,
     "metadata": {},
     "output_type": "execute_result"
    }
   ],
   "source": [
    "aaa['Morgan Freeman']\n",
    "#aaa['Robert De Niro']"
   ]
  },
  {
   "cell_type": "markdown",
   "metadata": {
    "colab_type": "text",
    "id": "iX600WmiBku_"
   },
   "source": [
    "### Solution III"
   ]
  },
  {
   "cell_type": "markdown",
   "metadata": {
    "colab_type": "text",
    "id": "vxuu0USXBkvB"
   },
   "source": [
    "Aligning Series objects using [`Series.align()`](https://pandas.pydata.org/pandas-docs/version/0.22/generated/pandas.Series.align.html)."
   ]
  },
  {
   "cell_type": "code",
   "execution_count": 52,
   "metadata": {
    "colab": {
     "base_uri": "https://localhost:8080/",
     "height": 118
    },
    "colab_type": "code",
    "executionInfo": {
     "elapsed": 701,
     "status": "ok",
     "timestamp": 1555494669374,
     "user": {
      "displayName": "Amit Rappel",
      "photoUrl": "https://lh5.googleusercontent.com/-Stg14jONmNc/AAAAAAAAAAI/AAAAAAAAAos/0hU6Y5dO8yk/s64/photo.jpg",
      "userId": "16505003500853190417"
     },
     "user_tz": -180
    },
    "id": "cExBLCiSBkvG",
    "outputId": "54cfd9ef-0f91-458d-8809-d5f247bca410"
   },
   "outputs": [
    {
     "data": {
      "text/plain": [
       "Robert De Niro       42.0\n",
       "Morgan Freeman       38.0\n",
       "Bruce Willis         34.0\n",
       "Matt Damon           34.0\n",
       "Denzel Washington    31.0\n",
       "dtype: float64"
      ]
     },
     "execution_count": 52,
     "metadata": {},
     "output_type": "execute_result"
    }
   ],
   "source": [
    "a1, a2 = actor1.align(actor2, fill_value=0)\n",
    "a1, a3 = a1.align(actor3, fill_value=0)\n",
    "a2, a3 = a2.align(actor3, fill_value=0)\n",
    "actors = a1 + a2 + a3\n",
    "actors.sort_values(ascending=False).head()"
   ]
  },
  {
   "cell_type": "markdown",
   "metadata": {
    "colab_type": "text",
    "id": "THP_GQMMBkvI"
   },
   "source": [
    "### Solution IV"
   ]
  },
  {
   "cell_type": "markdown",
   "metadata": {
    "colab_type": "text",
    "id": "WgWewTqBBkvJ"
   },
   "source": [
    "Joining DataFrames using DataFrame.join()."
   ]
  },
  {
   "cell_type": "code",
   "execution_count": 53,
   "metadata": {
    "colab": {
     "base_uri": "https://localhost:8080/",
     "height": 118
    },
    "colab_type": "code",
    "executionInfo": {
     "elapsed": 760,
     "status": "ok",
     "timestamp": 1555494734861,
     "user": {
      "displayName": "Amit Rappel",
      "photoUrl": "https://lh5.googleusercontent.com/-Stg14jONmNc/AAAAAAAAAAI/AAAAAAAAAos/0hU6Y5dO8yk/s64/photo.jpg",
      "userId": "16505003500853190417"
     },
     "user_tz": -180
    },
    "id": "9MGJCH9mBkvJ",
    "outputId": "84c57d6c-a092-4832-daa1-9dbf155e3f2a"
   },
   "outputs": [
    {
     "data": {
      "text/plain": [
       "Robert De Niro       42.0\n",
       "Morgan Freeman       38.0\n",
       "Bruce Willis         34.0\n",
       "Matt Damon           34.0\n",
       "Denzel Washington    31.0\n",
       "dtype: float64"
      ]
     },
     "execution_count": 53,
     "metadata": {},
     "output_type": "execute_result"
    }
   ],
   "source": [
    "a1 = actor1.to_frame()\n",
    "actors = a1.join(a2, how='outer').join(a3, how='outer')\n",
    "actors.sum(axis=1).sort_values(ascending=False).head()"
   ]
  },
  {
   "cell_type": "markdown",
   "metadata": {
    "colab_type": "text",
    "id": "r2HMPyhTBkvg"
   },
   "source": [
    "## Question 3"
   ]
  },
  {
   "cell_type": "markdown",
   "metadata": {
    "colab_type": "text",
    "id": "h9T0c66eBkvg"
   },
   "source": [
    "Which pairs of director and actor like to work together? Sort the number of co-occurrences of such pairs."
   ]
  },
  {
   "cell_type": "code",
   "execution_count": 54,
   "metadata": {},
   "outputs": [
    {
     "data": {
      "text/plain": [
       "director_name  actor_1_name      \n",
       "Adam McKay     Darcy Donavan         1\n",
       "               Dwayne Johnson        1\n",
       "               Harrison Ford         1\n",
       "               Ryan Gosling          1\n",
       "               Will Ferrell          2\n",
       "Adam Rifkin    Marri Savinar         1\n",
       "               Natasha Lyonne        1\n",
       "Adam Shankman  Adam Sandler          1\n",
       "               Angus T. Jones        1\n",
       "               James Martin Kelly    1\n",
       "dtype: int64"
      ]
     },
     "execution_count": 54,
     "metadata": {},
     "output_type": "execute_result"
    }
   ],
   "source": [
    "#easier to understand\n",
    "imdb.groupby(['director_name','actor_1_name']).size().head(10)"
   ]
  },
  {
   "cell_type": "code",
   "execution_count": null,
   "metadata": {},
   "outputs": [],
   "source": []
  },
  {
   "cell_type": "code",
   "execution_count": null,
   "metadata": {},
   "outputs": [],
   "source": []
  },
  {
   "cell_type": "code",
   "execution_count": 55,
   "metadata": {
    "colab": {},
    "colab_type": "code",
    "id": "9_luMZg5Bkvg"
   },
   "outputs": [],
   "source": [
    "dir_n_act_1 = imdb.groupby('director_name')['actor_1_name'].apply(pd.Series.value_counts)\n",
    "dir_n_act_2 = imdb.groupby('director_name')['actor_2_name'].apply(pd.Series.value_counts)\n",
    "dir_n_act_3 = imdb.groupby('director_name')['actor_3_name'].apply(pd.Series.value_counts)"
   ]
  },
  {
   "cell_type": "code",
   "execution_count": 56,
   "metadata": {
    "colab": {
     "base_uri": "https://localhost:8080/",
     "height": 136
    },
    "colab_type": "code",
    "executionInfo": {
     "elapsed": 2441,
     "status": "ok",
     "timestamp": 1555445404368,
     "user": {
      "displayName": "Amit Rappel",
      "photoUrl": "https://lh5.googleusercontent.com/-Stg14jONmNc/AAAAAAAAAAI/AAAAAAAAAos/0hU6Y5dO8yk/s64/photo.jpg",
      "userId": "16505003500853190417"
     },
     "user_tz": -180
    },
    "id": "GNaS1hfFBkvi",
    "outputId": "fb0dce41-8783-4f02-aece-6b2c4fcd978f"
   },
   "outputs": [
    {
     "data": {
      "text/plain": [
       "director_name                  \n",
       "Woody Allen      Woody Allen       10.0\n",
       "Clint Eastwood   Clint Eastwood     9.0\n",
       "Martin Scorsese  Robert De Niro     7.0\n",
       "Wes Anderson     Bill Murray        6.0\n",
       "Dennis Dugan     Adam Sandler       6.0\n",
       "dtype: float64"
      ]
     },
     "execution_count": 56,
     "metadata": {},
     "output_type": "execute_result"
    }
   ],
   "source": [
    "dir_n_act_1 = dir_n_act_1.to_frame()\n",
    "dir_n_act_all = dir_n_act_1.join(dir_n_act_2, how='outer').join(dir_n_act_3, how='outer')\n",
    "dir_n_act_all.sum(axis=1).sort_values(ascending=False).head()"
   ]
  },
  {
   "cell_type": "markdown",
   "metadata": {},
   "source": [
    "Checking the answer:"
   ]
  },
  {
   "cell_type": "code",
   "execution_count": 57,
   "metadata": {},
   "outputs": [
    {
     "data": {
      "text/html": [
       "<div>\n",
       "<style scoped>\n",
       "    .dataframe tbody tr th:only-of-type {\n",
       "        vertical-align: middle;\n",
       "    }\n",
       "\n",
       "    .dataframe tbody tr th {\n",
       "        vertical-align: top;\n",
       "    }\n",
       "\n",
       "    .dataframe thead th {\n",
       "        text-align: right;\n",
       "    }\n",
       "</style>\n",
       "<table border=\"1\" class=\"dataframe\">\n",
       "  <thead>\n",
       "    <tr style=\"text-align: right;\">\n",
       "      <th></th>\n",
       "      <th></th>\n",
       "      <th>actor_1_name</th>\n",
       "    </tr>\n",
       "    <tr>\n",
       "      <th>director_name</th>\n",
       "      <th></th>\n",
       "      <th></th>\n",
       "    </tr>\n",
       "  </thead>\n",
       "  <tbody>\n",
       "    <tr>\n",
       "      <th rowspan=\"5\" valign=\"top\">Adam McKay</th>\n",
       "      <th>Will Ferrell</th>\n",
       "      <td>2</td>\n",
       "    </tr>\n",
       "    <tr>\n",
       "      <th>Darcy Donavan</th>\n",
       "      <td>1</td>\n",
       "    </tr>\n",
       "    <tr>\n",
       "      <th>Harrison Ford</th>\n",
       "      <td>1</td>\n",
       "    </tr>\n",
       "    <tr>\n",
       "      <th>Ryan Gosling</th>\n",
       "      <td>1</td>\n",
       "    </tr>\n",
       "    <tr>\n",
       "      <th>Dwayne Johnson</th>\n",
       "      <td>1</td>\n",
       "    </tr>\n",
       "  </tbody>\n",
       "</table>\n",
       "</div>"
      ],
      "text/plain": [
       "                              actor_1_name\n",
       "director_name                             \n",
       "Adam McKay    Will Ferrell               2\n",
       "              Darcy Donavan              1\n",
       "              Harrison Ford              1\n",
       "              Ryan Gosling               1\n",
       "              Dwayne Johnson             1"
      ]
     },
     "execution_count": 57,
     "metadata": {},
     "output_type": "execute_result"
    }
   ],
   "source": [
    "dir_n_act_1.head()"
   ]
  },
  {
   "cell_type": "code",
   "execution_count": 58,
   "metadata": {},
   "outputs": [
    {
     "data": {
      "text/plain": [
       "director_name                \n",
       "Adam McKay     Will Ferrell      3\n",
       "               Christian Bale    1\n",
       "               Adam Scott        1\n",
       "               Leslie Bibb       1\n",
       "Adam Rifkin    Adam Rifkin       1\n",
       "Name: actor_2_name, dtype: int64"
      ]
     },
     "execution_count": 58,
     "metadata": {},
     "output_type": "execute_result"
    }
   ],
   "source": [
    "dir_n_act_2.head()"
   ]
  },
  {
   "cell_type": "code",
   "execution_count": 59,
   "metadata": {},
   "outputs": [
    {
     "data": {
      "text/plain": [
       "director_name                 \n",
       "Adam McKay     Steve Carell       2\n",
       "               Derek Jeter        1\n",
       "               Charlie Talbert    1\n",
       "               Gary Cole          1\n",
       "               Andrea Savage      1\n",
       "Name: actor_3_name, dtype: int64"
      ]
     },
     "execution_count": 59,
     "metadata": {},
     "output_type": "execute_result"
    }
   ],
   "source": [
    "dir_n_act_3.head()"
   ]
  },
  {
   "cell_type": "code",
   "execution_count": 60,
   "metadata": {},
   "outputs": [
    {
     "data": {
      "text/html": [
       "<div>\n",
       "<style scoped>\n",
       "    .dataframe tbody tr th:only-of-type {\n",
       "        vertical-align: middle;\n",
       "    }\n",
       "\n",
       "    .dataframe tbody tr th {\n",
       "        vertical-align: top;\n",
       "    }\n",
       "\n",
       "    .dataframe thead th {\n",
       "        text-align: right;\n",
       "    }\n",
       "</style>\n",
       "<table border=\"1\" class=\"dataframe\">\n",
       "  <thead>\n",
       "    <tr style=\"text-align: right;\">\n",
       "      <th></th>\n",
       "      <th>actor_1_name</th>\n",
       "      <th>actor_2_name</th>\n",
       "      <th>actor_3_name</th>\n",
       "    </tr>\n",
       "    <tr>\n",
       "      <th>movie_title</th>\n",
       "      <th></th>\n",
       "      <th></th>\n",
       "      <th></th>\n",
       "    </tr>\n",
       "  </thead>\n",
       "  <tbody>\n",
       "  </tbody>\n",
       "</table>\n",
       "</div>"
      ],
      "text/plain": [
       "Empty DataFrame\n",
       "Columns: [actor_1_name, actor_2_name, actor_3_name]\n",
       "Index: []"
      ]
     },
     "execution_count": 60,
     "metadata": {},
     "output_type": "execute_result"
    }
   ],
   "source": [
    "imdb[imdb.director_name==\"A. Raven Cruz\"][['actor_1_name','actor_2_name','actor_3_name']]"
   ]
  },
  {
   "cell_type": "code",
   "execution_count": null,
   "metadata": {},
   "outputs": [],
   "source": []
  }
 ],
 "metadata": {
  "colab": {
   "collapsed_sections": [],
   "name": "imdb5000 practice - solutions.ipynb",
   "provenance": [],
   "toc_visible": true
  },
  "kernelspec": {
   "display_name": "Python 3",
   "language": "python",
   "name": "python3"
  },
  "language_info": {
   "codemirror_mode": {
    "name": "ipython",
    "version": 3
   },
   "file_extension": ".py",
   "mimetype": "text/x-python",
   "name": "python",
   "nbconvert_exporter": "python",
   "pygments_lexer": "ipython3",
   "version": "3.8.8"
  },
  "varInspector": {
   "cols": {
    "lenName": 16,
    "lenType": 16,
    "lenVar": 40
   },
   "kernels_config": {
    "python": {
     "delete_cmd_postfix": "",
     "delete_cmd_prefix": "del ",
     "library": "var_list.py",
     "varRefreshCmd": "print(var_dic_list())"
    },
    "r": {
     "delete_cmd_postfix": ") ",
     "delete_cmd_prefix": "rm(",
     "library": "var_list.r",
     "varRefreshCmd": "cat(var_dic_list()) "
    }
   },
   "types_to_exclude": [
    "module",
    "function",
    "builtin_function_or_method",
    "instance",
    "_Feature"
   ],
   "window_display": false
  }
 },
 "nbformat": 4,
 "nbformat_minor": 1
}
